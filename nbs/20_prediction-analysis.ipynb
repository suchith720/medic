{
 "cells": [
  {
   "cell_type": "code",
   "execution_count": null,
   "id": "db8bb599-0015-42c8-8081-8c2e5d561979",
   "metadata": {},
   "outputs": [],
   "source": [
    "#| default_exp 20_prediction-analysis"
   ]
  },
  {
   "cell_type": "code",
   "execution_count": null,
   "id": "28ed1484-8552-4f0f-be84-396a051c77a5",
   "metadata": {},
   "outputs": [],
   "source": [
    "%load_ext autoreload\n",
    "%autoreload 2\n",
    "\n",
    "from nbdev.showdoc import *\n",
    "import nbdev; nbdev.nbdev_export()"
   ]
  },
  {
   "cell_type": "code",
   "execution_count": null,
   "id": "8713334a-d3a7-425f-80c0-27eef599e5ad",
   "metadata": {},
   "outputs": [],
   "source": [
    "#| export\n",
    "from xcai.basics import *\n",
    "from xcai.analysis import *\n",
    "\n",
    "from xclib.utils.sparse import retain_topk\n",
    "\n",
    "from IPython.display import HTML,display"
   ]
  },
  {
   "cell_type": "markdown",
   "id": "9557748f-16a8-4291-a62e-dad90c5bcb22",
   "metadata": {},
   "source": [
    "## Driver"
   ]
  },
  {
   "cell_type": "code",
   "execution_count": null,
   "id": "0ba1507e-aa44-483f-af10-d1ab88bcd7c7",
   "metadata": {},
   "outputs": [],
   "source": [
    "#| export\n",
    "if __name__ == '__main__':\n",
    "    topk,num_preds,metric,num_data = 5,10,'P',10\n",
    "    dataset_name = 'wikiseealsotitles'\n",
    "    pkl_dir = '/home/scai/phd/aiz218323/scratch/datasets/'\n",
    "    odir_a = '/home/scai/phd/aiz218323/scratch/outputs/64-ngame-ep-for-wikiseealso-with-entropy-loss-1-0'\n",
    "    odir_b = '/home/scai/phd/aiz218323/scratch/outputs/64-ngame-ep-for-wikiseealso-with-entropy-loss-1-0'\n",
    "\n",
    "    \"\"\" Load data \"\"\"\n",
    "    pkl_file = f'{pkl_dir}/processed/{dataset_name}_data-metas_distilbert-base-uncased_xcs.pkl'\n",
    "    with open(pkl_file, 'rb') as file: block = pickle.load(file)\n",
    "\n",
    "    \"\"\" Load predictions \"\"\"\n",
    "    pred_file = f'{odir_a}/predictions/test_predictions.pkl'\n",
    "    plbl_a = get_pred_sparse(pred_file, block.n_lbl)\n",
    "    \n",
    "    pred_file = f'{odir_b}/predictions/test_predictions.pkl'\n",
    "    plbl_b = get_pred_sparse(pred_file, block.n_lbl)\n",
    "\n",
    "    \"\"\" Analysis \"\"\"\n",
    "    pattern = r'^(data|lbl2data|lbl2data_aug_cat)_input_text$'\n",
    "\n",
    "    pdset_a = TextColumns(get_pred_dset(retain_topk(plbl_a, k=num_preds), block), pat=pattern)\n",
    "    pdset_b = TextColumns(get_pred_dset(retain_topk(plbl_b, k=num_preds), block), pat=pattern)\n",
    "    test_dset = TextColumns(block.test.dset, pat=pattern)\n",
    "\n",
    "    eval_a = pointwise_eval(plbl_a, block.test.dset.data.data_lbl, block.test.dset.data.data_filterer, topk=topk, metric=metric)\n",
    "    eval_b = pointwise_eval(plbl_b, block.test.dset.data.data_lbl, block.test.dset.data.data_filterer, topk=topk, metric=metric)\n",
    "    idxs = np.argsort(eval_b - eval_a)[:num_data]\n",
    "\n",
    "    display(HTML(compare_text(pdset_a, pdset_b, test_dset, idxs)))\n",
    "    "
   ]
  }
 ],
 "metadata": {
  "kernelspec": {
   "display_name": "python3",
   "language": "python",
   "name": "python3"
  }
 },
 "nbformat": 4,
 "nbformat_minor": 5
}
