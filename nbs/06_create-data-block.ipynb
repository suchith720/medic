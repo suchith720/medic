{
 "cells": [
  {
   "cell_type": "code",
   "execution_count": null,
   "id": "fba54c3a-364f-48e2-b9e9-b20898d2e31c",
   "metadata": {},
   "outputs": [],
   "source": [
    "#| default_exp 06_create-data-block"
   ]
  },
  {
   "cell_type": "code",
   "execution_count": null,
   "id": "e3956df9-720c-439c-856b-3d1e6cb847a0",
   "metadata": {},
   "outputs": [],
   "source": [
    "%load_ext autoreload\n",
    "%autoreload 2\n",
    "\n",
    "from nbdev.showdoc import *\n",
    "import nbdev; nbdev.nbdev_export()"
   ]
  },
  {
   "cell_type": "code",
   "execution_count": null,
   "id": "f1cdf562-833d-475e-930d-2a4213858635",
   "metadata": {},
   "outputs": [
    {
     "name": "stderr",
     "output_type": "stream",
     "text": [
      "comet_ml is installed but `COMET_API_KEY` is not set.\n"
     ]
    }
   ],
   "source": [
    "#| export\n",
    "import os,torch, torch.multiprocessing as mp, pickle, numpy as np\n",
    "from xcai.basics import *"
   ]
  },
  {
   "cell_type": "markdown",
   "id": "64a59646-5a20-44ed-9de4-fd12746612c5",
   "metadata": {},
   "source": [
    "## Data block"
   ]
  },
  {
   "cell_type": "code",
   "execution_count": null,
   "id": "df914b45-2061-47f1-86e0-5bbb10ea4cc9",
   "metadata": {},
   "outputs": [],
   "source": [
    "#| export\n",
    "pkl_dir = '/home/scai/phd/aiz218323/scratch/datasets/'\n",
    "pkl_file = f'{pkl_dir}/processed/wikiseealsotitles_data-lnk_distilbert-base-uncased_xcs.pkl'\n",
    "\n",
    "data_dir = '/home/scai/phd/aiz218323/Projects/XC_NLG/data'\n",
    "\n",
    "block = XCBlock.from_cfg(data_dir, 'data_lnk', transform_type='xcs', tokenizer='distilbert-base-uncased', \n",
    "                         sampling_features=[('lbl2data',4), ('lnk2data',3)], oversample=True)\n",
    "\n",
    "with open(pkl_file, 'wb') as file: pickle.dump(block, file)"
   ]
  },
  {
   "cell_type": "code",
   "execution_count": null,
   "id": "9a9b222b-63d0-4b53-96d5-06defb85bff8",
   "metadata": {},
   "outputs": [],
   "source": [
    "#| export\n",
    "pkl_dir = '/home/scai/phd/aiz218323/scratch/datasets/'\n",
    "pkl_file = f'{pkl_dir}/processed/wikititles_data-lnk_distilbert-base-uncased_xcs.pkl'\n",
    "\n",
    "data_dir = '/home/scai/phd/aiz218323/Projects/XC_NLG/data'\n",
    "\n",
    "block = XCBlock.from_cfg(data_dir, 'data_lnk', dset='wikititles', transform_type='xcs', tokenizer='distilbert-base-uncased', \n",
    "                         sampling_features=[('lbl2data',4), ('lnk2data',3)], oversample=True)\n",
    "\n",
    "with open(pkl_file, 'wb') as file: pickle.dump(block, file)"
   ]
  }
 ],
 "metadata": {
  "kernelspec": {
   "display_name": "python3",
   "language": "python",
   "name": "python3"
  }
 },
 "nbformat": 4,
 "nbformat_minor": 5
}
