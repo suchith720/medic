{
 "cells": [
  {
   "cell_type": "code",
   "execution_count": 2,
   "id": "0f223510-78c6-4cc3-86ca-240766b5e3c3",
   "metadata": {},
   "outputs": [
    {
     "name": "stderr",
     "output_type": "stream",
     "text": [
      "comet_ml is installed but `COMET_API_KEY` is not set.\n"
     ]
    }
   ],
   "source": [
    "from xcai.basics import *"
   ]
  },
  {
   "cell_type": "code",
   "execution_count": 3,
   "id": "3fb6ef6b-9cd3-4f47-be1e-22b28e087100",
   "metadata": {},
   "outputs": [
    {
     "data": {
      "text/html": [
       "<div>\n",
       "<style scoped>\n",
       "    .dataframe tbody tr th:only-of-type {\n",
       "        vertical-align: middle;\n",
       "    }\n",
       "\n",
       "    .dataframe tbody tr th {\n",
       "        vertical-align: top;\n",
       "    }\n",
       "\n",
       "    .dataframe thead th {\n",
       "        text-align: right;\n",
       "    }\n",
       "</style>\n",
       "<table border=\"1\" class=\"dataframe\">\n",
       "  <thead>\n",
       "    <tr style=\"text-align: right;\">\n",
       "      <th></th>\n",
       "      <th>P@1</th>\n",
       "      <th>P@3</th>\n",
       "      <th>P@5</th>\n",
       "      <th>P@10</th>\n",
       "      <th>N@1</th>\n",
       "      <th>N@3</th>\n",
       "      <th>N@5</th>\n",
       "      <th>N@10</th>\n",
       "      <th>PSP@1</th>\n",
       "      <th>PSP@3</th>\n",
       "      <th>PSP@5</th>\n",
       "      <th>PSP@10</th>\n",
       "      <th>PSN@1</th>\n",
       "      <th>PSN@3</th>\n",
       "      <th>PSN@5</th>\n",
       "      <th>PSN@10</th>\n",
       "      <th>R@10</th>\n",
       "      <th>R@100</th>\n",
       "      <th>R@200</th>\n",
       "      <th>loss</th>\n",
       "      <th>runtime</th>\n",
       "      <th>samples_per_second</th>\n",
       "      <th>steps_per_second</th>\n",
       "    </tr>\n",
       "  </thead>\n",
       "  <tbody>\n",
       "    <tr>\n",
       "      <th>0</th>\n",
       "      <td>47.4794</td>\n",
       "      <td>30.2953</td>\n",
       "      <td>22.6355</td>\n",
       "      <td>14.1734</td>\n",
       "      <td>47.4794</td>\n",
       "      <td>46.6793</td>\n",
       "      <td>48.1811</td>\n",
       "      <td>50.8189</td>\n",
       "      <td>36.5976</td>\n",
       "      <td>38.4666</td>\n",
       "      <td>41.2696</td>\n",
       "      <td>47.1027</td>\n",
       "      <td>36.5976</td>\n",
       "      <td>39.7621</td>\n",
       "      <td>42.2376</td>\n",
       "      <td>45.3761</td>\n",
       "      <td>57.3731</td>\n",
       "      <td>74.3615</td>\n",
       "      <td>77.3665</td>\n",
       "      <td>0.0167</td>\n",
       "      <td>239.3287</td>\n",
       "      <td>741.721</td>\n",
       "      <td>0.464</td>\n",
       "    </tr>\n",
       "  </tbody>\n",
       "</table>\n",
       "</div>"
      ],
      "text/plain": [
       "       P@1      P@3      P@5     P@10      N@1      N@3      N@5     N@10  \\\n",
       "0  47.4794  30.2953  22.6355  14.1734  47.4794  46.6793  48.1811  50.8189   \n",
       "\n",
       "     PSP@1    PSP@3    PSP@5   PSP@10    PSN@1    PSN@3    PSN@5   PSN@10  \\\n",
       "0  36.5976  38.4666  41.2696  47.1027  36.5976  39.7621  42.2376  45.3761   \n",
       "\n",
       "      R@10    R@100    R@200    loss   runtime  samples_per_second  \\\n",
       "0  57.3731  74.3615  77.3665  0.0167  239.3287             741.721   \n",
       "\n",
       "   steps_per_second  \n",
       "0             0.464  "
      ]
     },
     "metadata": {},
     "output_type": "display_data"
    }
   ],
   "source": [
    "m = {'test_loss': 0.016681302338838577, 'test_P@1': 0.47479367940737405, 'test_P@10': 0.14173393797699302, 'test_P@3': 0.30295280211078307, 'test_P@5': 0.22635495591925775, 'test_N@1': 0.4747936725616455, 'test_N@10': 0.5081887245178223, 'test_N@3': 0.46679285168647766, 'test_N@5': 0.48181095719337463, 'test_PSP@1': 0.3659764403986233, 'test_PSP@10': 0.47102664459277543, 'test_PSP@3': 0.38466570585689525, 'test_PSP@5': 0.4126957923700924, 'test_PSN@1': 0.3659764528274536, 'test_PSN@10': 0.4537607729434967, 'test_PSN@3': 0.3976207375526428, 'test_PSN@5': 0.42237570881843567, 'test_R@200': 0.7736651615675022, 'test_R@10': 0.5737313838358737, 'test_R@100': 0.7436145963127184, 'test_runtime': 239.3287, 'test_samples_per_second': 741.721, 'test_steps_per_second': 0.464}\n",
    "display_metric(m)"
   ]
  },
  {
   "cell_type": "code",
   "execution_count": null,
   "id": "cb68260d-06c7-46b9-bf54-db82017e361a",
   "metadata": {},
   "outputs": [],
   "source": []
  }
 ],
 "metadata": {
  "kernelspec": {
   "display_name": "Python 3 (ipykernel)",
   "language": "python",
   "name": "python3"
  },
  "language_info": {
   "codemirror_mode": {
    "name": "ipython",
    "version": 3
   },
   "file_extension": ".py",
   "mimetype": "text/x-python",
   "name": "python",
   "nbconvert_exporter": "python",
   "pygments_lexer": "ipython3",
   "version": "3.9.19"
  }
 },
 "nbformat": 4,
 "nbformat_minor": 5
}
