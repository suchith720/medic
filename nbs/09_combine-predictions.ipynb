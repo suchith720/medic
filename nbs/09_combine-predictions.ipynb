{
 "cells": [
  {
   "cell_type": "code",
   "execution_count": null,
   "id": "d261bc19-30a9-4fe6-b7b6-c0d9bc4172e1",
   "metadata": {},
   "outputs": [],
   "source": [
    "#| default_exp 09_combine-predictions"
   ]
  },
  {
   "cell_type": "code",
   "execution_count": null,
   "id": "accc5e00-9533-4fd4-bead-db06463aed75",
   "metadata": {},
   "outputs": [],
   "source": [
    "%load_ext autoreload\n",
    "%autoreload 2\n",
    "\n",
    "from nbdev.showdoc import *\n",
    "import nbdev; nbdev.nbdev_export()"
   ]
  },
  {
   "cell_type": "code",
   "execution_count": null,
   "id": "28b1274e-9b63-4ab5-8fdd-2beaccdd3a17",
   "metadata": {},
   "outputs": [],
   "source": [
    "#| export\n",
    "import os,torch, torch.multiprocessing as mp, pickle, numpy as np\n",
    "from dataclasses import dataclass\n",
    "from transformers import DistilBertConfig\n",
    "\n",
    "from xcai.basics import *\n",
    "from xcai.analysis import *\n",
    "\n",
    "from fastcore.utils import *\n",
    "\n",
    "from xclib.utils.sparse import retain_topk\n",
    "import xclib.evaluation.xc_metrics as xc_metrics"
   ]
  },
  {
   "cell_type": "markdown",
   "id": "0d841aef-e7e5-4984-85a5-dd5a6d58ae27",
   "metadata": {},
   "source": [
    "## Helper"
   ]
  },
  {
   "cell_type": "code",
   "execution_count": null,
   "id": "0f5233eb-d8dd-4c79-83ae-c2c4e2386584",
   "metadata": {},
   "outputs": [],
   "source": [
    "#| export\n",
    "@dataclass\n",
    "class PredictionArguements:\n",
    "    use_centroid_label_representation: bool = False\n",
    "    use_centroid_data_metadata: bool = True\n",
    "    centroid_data_attribute_representation: str = 'data_repr'\n",
    "    centroid_data_batch_size: int = 2048\n",
    "    use_teacher_lbl_representation: bool = False\n",
    "    use_teacher_data_representation: bool = False\n",
    "    "
   ]
  },
  {
   "cell_type": "code",
   "execution_count": null,
   "id": "5f771ba9-881b-4d88-ad62-11ab25faf278",
   "metadata": {},
   "outputs": [],
   "source": [
    "#| export\n",
    "def get_predictions(pred_dir, args):\n",
    "    train_o, test_o = None, None\n",
    "    \n",
    "    if args.use_centroid_label_representation:\n",
    "        if args.use_teacher_data_representation: \n",
    "            test_pred_file = f'{pred_dir}/test_predictions_teacher_centroid.pkl'\n",
    "        elif args.centroid_data_attribute_representation == 'data_repr': \n",
    "            test_pred_file = f'{pred_dir}/test_predictions_student-repr_centroid.pkl'\n",
    "        else:\n",
    "            test_pred_file = f'{pred_dir}/test_predictions_student-fused-repr_centroid.pkl'\n",
    "    else:\n",
    "        if args.use_teacher_lbl_representation: \n",
    "            test_pred_file = f'{pred_dir}/test_predictions_teacher.pkl'\n",
    "            train_pred_file = f'{pred_dir}/train_predictions_teacher.pkl'\n",
    "        else:\n",
    "            test_pred_file = f'{pred_dir}/test_predictions.pkl'\n",
    "            train_pred_file = f'{pred_dir}/train_predictions.pkl'\n",
    "        \n",
    "        if os.path.exists(train_pred_file):\n",
    "            with open(train_pred_file, 'rb') as file: train_o = pickle.load(file)\n",
    "    \n",
    "    if os.path.exists(test_pred_file):\n",
    "        with open(test_pred_file, 'rb') as file: test_o = pickle.load(file)\n",
    "            \n",
    "    return test_o, train_o\n",
    "    "
   ]
  },
  {
   "cell_type": "code",
   "execution_count": null,
   "id": "3c1f3144-080d-4e9a-b089-dc5fd8830882",
   "metadata": {},
   "outputs": [],
   "source": [
    "#| export\n",
    "def get_sparse_predictions(dirname, run_name, use_centroid_label_representation, use_centroid_data_metadata, \n",
    "                           centroid_data_attribute_representation, centroid_data_batch_size, use_teacher_lbl_representation, \n",
    "                           use_teacher_data_representation):\n",
    "    \n",
    "    output_dir = f\"{dirname}/{run_name}\"\n",
    "    pred_dir = f'{output_dir}/{os.path.basename(get_best_model(output_dir))}/predictions'\n",
    "    \n",
    "    args = PredictionArguements(\n",
    "        use_centroid_label_representation=use_centroid_label_representation,\n",
    "        use_centroid_data_metadata=use_centroid_data_metadata,\n",
    "        centroid_data_attribute_representation=centroid_data_attribute_representation,\n",
    "        centroid_data_batch_size=centroid_data_batch_size,\n",
    "        use_teacher_lbl_representation=use_teacher_lbl_representation,\n",
    "        use_teacher_data_representation=use_teacher_data_representation,\n",
    "    )\n",
    "    test_o, train_o = get_predictions(pred_dir, args)\n",
    "    \n",
    "    test_lbl = get_pred_sparse(test_o, block.n_lbl)\n",
    "    train_lbl = get_pred_sparse(train_o, block.n_lbl)\n",
    "\n",
    "    return test_lbl, train_lbl\n",
    "    "
   ]
  },
  {
   "cell_type": "markdown",
   "id": "05eb9d4e-6b6d-40b1-83fb-9d3a174ba065",
   "metadata": {},
   "source": [
    "## Load data"
   ]
  },
  {
   "cell_type": "code",
   "execution_count": null,
   "id": "fdb453a9-e5a3-435b-adf3-4dc623af519b",
   "metadata": {},
   "outputs": [],
   "source": [
    "build_block = False\n",
    "\n",
    "pkl_dir = '/home/scai/phd/aiz218323/scratch/datasets/'\n",
    "pkl_file = f'{pkl_dir}/processed/wikiseealsotitles_data-lnk_distilbert-base-uncased_xcs.pkl'\n",
    "\n",
    "if build_block:\n",
    "    data_dir = '/home/scai/phd/aiz218323/Projects/XC_NLG/data'\n",
    "    block = XCBlock.from_cfg(data_dir, 'data_lnk', transform_type='xcs', tokenizer='distilbert-base-uncased', \n",
    "                             sampling_features=[('lbl2data',4), ('lnk2data',3)], oversample=True)\n",
    "    with open(pkl_file, 'wb') as file: pickle.dump(block, file)\n",
    "else:\n",
    "    with open(pkl_file, 'rb') as file: block = pickle.load(file)\n",
    "\n",
    "\"\"\" Prune metadata \"\"\"\n",
    "data_meta = retain_topk(block.train.dset.meta.lnk_meta.data_meta, k=5)\n",
    "lbl_meta = block.train.dset.meta.lnk_meta.lbl_meta\n",
    "block.train.dset.meta.lnk_meta.update_meta_matrix(data_meta, lbl_meta)\n",
    "\n",
    "data_meta = retain_topk(block.test.dset.meta.lnk_meta.data_meta, k=3)\n",
    "lbl_meta = block.test.dset.meta.lnk_meta.lbl_meta\n",
    "block.test.dset.meta.lnk_meta.update_meta_matrix(data_meta, lbl_meta)\n",
    "\n",
    "block.collator.tfms.tfms[0].sampling_features = [('lbl2data',4),('lnk2data',3)]\n",
    "block.collator.tfms.tfms[0].oversample = True\n",
    "\n",
    "block.train.dset.meta.lnk_meta.meta_info = None\n",
    "block.test.dset.meta.lnk_meta.meta_info = None\n"
   ]
  },
  {
   "cell_type": "markdown",
   "id": "c9133346-07e7-4331-abd4-2440ee528308",
   "metadata": {},
   "source": [
    "## Load predictions"
   ]
  },
  {
   "cell_type": "code",
   "execution_count": null,
   "id": "a57ea43a-d99a-4757-baca-319753120866",
   "metadata": {},
   "outputs": [],
   "source": [
    "output_dir = '/home/scai/phd/aiz218323/scratch/outputs/'\n",
    "run_name = '64-ngame-ep-for-wikiseealso-with-entropy-loss-1-0'\n",
    "\n",
    "use_centroid_label_representation=False\n",
    "use_centroid_data_metadata=True\n",
    "centroid_data_attribute_representation='data_repr'\n",
    "centroid_data_batch_size=2048\n",
    "use_teacher_lbl_representation=False\n",
    "use_teacher_data_representation=False\n",
    "\n",
    "test_a, train_a = get_sparse_predictions(output_dir, run_name, use_centroid_label_representation, use_centroid_data_metadata, \n",
    "                                         centroid_data_attribute_representation, centroid_data_batch_size, use_teacher_lbl_representation, \n",
    "                                         use_teacher_data_representation)"
   ]
  },
  {
   "cell_type": "code",
   "execution_count": null,
   "id": "0a80d297-da53-466b-b7da-091c5bac33f1",
   "metadata": {},
   "outputs": [],
   "source": [
    "run_name = '64-ngame-ep-for-wikiseealso-with-entropy-loss-1-0'\n",
    "\n",
    "use_centroid_label_representation=False\n",
    "use_centroid_data_metadata=True\n",
    "centroid_data_attribute_representation='data_repr'\n",
    "centroid_data_batch_size=2048\n",
    "use_teacher_lbl_representation=False\n",
    "use_teacher_data_representation=False\n",
    "\n",
    "test_b, train_b = get_sparse_predictions(output_dir, run_name, use_centroid_label_representation, use_centroid_data_metadata, \n",
    "                                         centroid_data_attribute_representation, centroid_data_batch_size, use_teacher_lbl_representation, \n",
    "                                         use_teacher_data_representation)"
   ]
  },
  {
   "cell_type": "markdown",
   "id": "ea611004-cec2-4306-a416-f5bc97e90021",
   "metadata": {},
   "source": [
    "## Fusion"
   ]
  },
  {
   "cell_type": "code",
   "execution_count": null,
   "id": "5a55dd9e-8cd4-4759-bef4-1a660e0389b4",
   "metadata": {},
   "outputs": [],
   "source": [
    "prop = xc_metrics.compute_inv_propesity(block.train.dset.data.data_lbl, A=0.55, B=1.5)\n",
    "fuser = ScoreFusion(prop)"
   ]
  },
  {
   "cell_type": "code",
   "execution_count": null,
   "id": "d8ac9776-1a33-45d0-ad4f-47591e01eaa5",
   "metadata": {},
   "outputs": [],
   "source": [
    "fuser.fit(train_a, train_b, block.train.dset.data.data_lbl, n_samples=1000)"
   ]
  },
  {
   "cell_type": "code",
   "execution_count": null,
   "id": "7ef1fcf9-9a99-4cd8-a39b-93c5308f4a81",
   "metadata": {},
   "outputs": [],
   "source": [
    "pred = fuser.predict(test_a, test_b, beta=1.0)\n",
    "\n",
    "output = {\n",
    "    'targ_idx': torch.tensor(block.test.dset.data.data_lbl.indices),\n",
    "    'targ_ptr': torch.tensor([q-p for p,q in zip(block.test.dset.data.data_lbl.indptr, block.test.dset.data.data_lbl.indptr[1:])]),\n",
    "    'pred_idx': torch.tensor(pred.indices),\n",
    "    'pred_ptr': torch.tensor([q-p for p,q in zip(pred.indptr, pred.indptr[1:])]),\n",
    "    'pred_score': torch.tensor(pred.data),\n",
    "}"
   ]
  },
  {
   "cell_type": "code",
   "execution_count": null,
   "id": "a50952e1-cea0-4b58-bee3-0fafd1c93af0",
   "metadata": {},
   "outputs": [
    {
     "name": "stderr",
     "output_type": "stream",
     "text": [
      "/scratch/scai/phd/aiz218323/anaconda3/envs/xc_nlg/lib/python3.9/site-packages/scipy/sparse/_index.py:145: SparseEfficiencyWarning: Changing the sparsity structure of a csr_matrix is expensive. lil_matrix is more efficient.\n",
      "  self._set_arrayXarray(i, j, x)\n"
     ]
    },
    {
     "data": {
      "text/html": [
       "<div>\n",
       "<style scoped>\n",
       "    .dataframe tbody tr th:only-of-type {\n",
       "        vertical-align: middle;\n",
       "    }\n",
       "\n",
       "    .dataframe tbody tr th {\n",
       "        vertical-align: top;\n",
       "    }\n",
       "\n",
       "    .dataframe thead th {\n",
       "        text-align: right;\n",
       "    }\n",
       "</style>\n",
       "<table border=\"1\" class=\"dataframe\">\n",
       "  <thead>\n",
       "    <tr style=\"text-align: right;\">\n",
       "      <th></th>\n",
       "      <th>P@1</th>\n",
       "      <th>P@3</th>\n",
       "      <th>P@5</th>\n",
       "      <th>P@10</th>\n",
       "      <th>N@1</th>\n",
       "      <th>N@3</th>\n",
       "      <th>N@5</th>\n",
       "      <th>N@10</th>\n",
       "      <th>PSP@1</th>\n",
       "      <th>PSP@3</th>\n",
       "      <th>PSP@5</th>\n",
       "      <th>PSP@10</th>\n",
       "      <th>PSN@1</th>\n",
       "      <th>PSN@3</th>\n",
       "      <th>PSN@5</th>\n",
       "      <th>PSN@10</th>\n",
       "      <th>R@10</th>\n",
       "      <th>R@100</th>\n",
       "      <th>R@200</th>\n",
       "    </tr>\n",
       "  </thead>\n",
       "  <tbody>\n",
       "    <tr>\n",
       "      <th>0</th>\n",
       "      <td>23.9732</td>\n",
       "      <td>16.7873</td>\n",
       "      <td>13.121</td>\n",
       "      <td>8.7125</td>\n",
       "      <td>23.9732</td>\n",
       "      <td>24.5717</td>\n",
       "      <td>25.9121</td>\n",
       "      <td>28.1608</td>\n",
       "      <td>16.5622</td>\n",
       "      <td>19.7185</td>\n",
       "      <td>22.531</td>\n",
       "      <td>27.8253</td>\n",
       "      <td>16.5622</td>\n",
       "      <td>19.5033</td>\n",
       "      <td>21.4851</td>\n",
       "      <td>24.0724</td>\n",
       "      <td>34.4291</td>\n",
       "      <td>53.4049</td>\n",
       "      <td>58.4375</td>\n",
       "    </tr>\n",
       "  </tbody>\n",
       "</table>\n",
       "</div>"
      ],
      "text/plain": [
       "       P@1      P@3     P@5    P@10      N@1      N@3      N@5     N@10  \\\n",
       "0  23.9732  16.7873  13.121  8.7125  23.9732  24.5717  25.9121  28.1608   \n",
       "\n",
       "     PSP@1    PSP@3   PSP@5   PSP@10    PSN@1    PSN@3    PSN@5   PSN@10  \\\n",
       "0  16.5622  19.7185  22.531  27.8253  16.5622  19.5033  21.4851  24.0724   \n",
       "\n",
       "      R@10    R@100    R@200  \n",
       "0  34.4291  53.4049  58.4375  "
      ]
     },
     "metadata": {},
     "output_type": "display_data"
    }
   ],
   "source": [
    "metric = PrecRecl(block.n_lbl, block.test.data_lbl_filterer, prop=block.train.dset.data.data_lbl,\n",
    "                  pk=10, rk=200, rep_pk=[1, 3, 5, 10], rep_rk=[10, 100, 200])\n",
    "m = metric(**output)\n",
    "display_metric(m, remove_prefix=False)"
   ]
  },
  {
   "cell_type": "markdown",
   "id": "21df5b91-c6c9-4967-81b3-16886e84aba5",
   "metadata": {},
   "source": [
    "## Driver"
   ]
  },
  {
   "cell_type": "code",
   "execution_count": null,
   "id": "72039a8f-94b6-44fd-899c-556bf4a2e2c7",
   "metadata": {},
   "outputs": [],
   "source": [
    "#| export\n",
    "if __name__ == '__main__':\n",
    "    build_block = False\n",
    "    pkl_dir = '/home/scai/phd/aiz218323/scratch/datasets/'\n",
    "    data_dir = '/home/scai/phd/aiz218323/Projects/XC_NLG/data'\n",
    "\n",
    "    \"\"\" Load data \"\"\"\n",
    "    pkl_file = f'{pkl_dir}/processed/wikiseealsotitles_data_distilbert-base-uncased_xcs.pkl'\n",
    "    if build_block:\n",
    "        block = XCBlock.from_cfg(data_dir, 'data', transform_type='xcs', tokenizer='distilbert-base-uncased', \n",
    "                                 sampling_features=[('lbl2data',1)], oversample=False)\n",
    "        with open(pkl_file, 'wb') as file: pickle.dump(block, file)\n",
    "    else:\n",
    "        with open(pkl_file, 'rb') as file: block = pickle.load(file)\n",
    "    \n",
    "    block.collator.tfms.tfms[0].sampling_features = [('lbl2data',1)]\n",
    "    block.collator.tfms.tfms[0].oversample = False\n",
    "\n",
    "    \"\"\" Load predictions \"\"\"\n",
    "    output_dir = '/home/scai/phd/aiz218323/scratch/outputs/'\n",
    "    run_name = '64-ngame-ep-for-wikiseealso-with-entropy-loss-1-0'\n",
    "    \n",
    "    use_centroid_label_representation=False\n",
    "    use_centroid_data_metadata=True\n",
    "    centroid_data_attribute_representation='data_repr'\n",
    "    centroid_data_batch_size=2048\n",
    "    use_teacher_lbl_representation=False\n",
    "    use_teacher_data_representation=False\n",
    "    \n",
    "    test_a, train_a = get_sparse_predictions(output_dir, run_name, use_centroid_label_representation, use_centroid_data_metadata, \n",
    "                                             centroid_data_attribute_representation, centroid_data_batch_size, use_teacher_lbl_representation, \n",
    "                                             use_teacher_data_representation)\n",
    "\n",
    "    output_dir = '/home/scai/phd/aiz218323/scratch/outputs/'\n",
    "    run_name = '64-ngame-ep-for-wikiseealso-with-entropy-loss-1-0'\n",
    "\n",
    "    use_centroid_label_representation=False\n",
    "    use_centroid_data_metadata=True\n",
    "    centroid_data_attribute_representation='data_repr'\n",
    "    centroid_data_batch_size=2048\n",
    "    use_teacher_lbl_representation=False\n",
    "    use_teacher_data_representation=False\n",
    "    \n",
    "    test_b, train_b = get_sparse_predictions(output_dir, run_name, use_centroid_label_representation, use_centroid_data_metadata, \n",
    "                                             centroid_data_attribute_representation, centroid_data_batch_size, use_teacher_lbl_representation, \n",
    "                                             use_teacher_data_representation)\n",
    "\n",
    "    \"\"\" Fusion \"\"\"\n",
    "    prop = xc_metrics.compute_inv_propesity(block.train.dset.data.data_lbl, A=0.55, B=1.5)\n",
    "    fuser = ScoreFusion(prop)\n",
    "    fuser.fit(train_a, train_b, block.train.dset.data.data_lbl, n_samples=1000)\n",
    "\n",
    "    pred = fuser.predict(test_a, test_b, beta=1.0)\n",
    "    output = {\n",
    "        'targ_idx': torch.tensor(block.test.dset.data.data_lbl.indices),\n",
    "        'targ_ptr': torch.tensor([q-p for p,q in zip(block.test.dset.data.data_lbl.indptr, block.test.dset.data.data_lbl.indptr[1:])]),\n",
    "        'pred_idx': torch.tensor(pred.indices),\n",
    "        'pred_ptr': torch.tensor([q-p for p,q in zip(pred.indptr, pred.indptr[1:])]),\n",
    "        'pred_score': torch.tensor(pred.data),\n",
    "    }\n",
    "    metric = PrecRecl(block.n_lbl, block.test.data_lbl_filterer, prop=block.train.dset.data.data_lbl,\n",
    "                  pk=10, rk=200, rep_pk=[1, 3, 5, 10], rep_rk=[10, 100, 200])\n",
    "    m = metric(**output)\n",
    "    print(m.metrics)\n",
    "    "
   ]
  }
 ],
 "metadata": {
  "kernelspec": {
   "display_name": "python3",
   "language": "python",
   "name": "python3"
  }
 },
 "nbformat": 4,
 "nbformat_minor": 5
}
