{
 "cells": [
  {
   "cell_type": "code",
   "execution_count": 1,
   "id": "d60b51bd-0144-4139-8be5-7602bad6a9c8",
   "metadata": {},
   "outputs": [],
   "source": [
    "#| default_exp 29_distillation-for-wikiseealsotitles-with-dexa"
   ]
  },
  {
   "cell_type": "code",
   "execution_count": 2,
   "id": "65e00e5c-ff88-425d-a828-7ca5d02215ab",
   "metadata": {},
   "outputs": [],
   "source": [
    "%load_ext autoreload\n",
    "%autoreload 2\n",
    "\n",
    "from nbdev.showdoc import *\n",
    "import nbdev; nbdev.nbdev_export()"
   ]
  },
  {
   "cell_type": "code",
   "execution_count": 21,
   "id": "874750be-c904-447e-8754-3eefcb9586d6",
   "metadata": {},
   "outputs": [],
   "source": [
    "#| export\n",
    "import os,torch, torch.multiprocessing as mp, pickle, numpy as np\n",
    "from tqdm.auto import tqdm\n",
    "from transformers import DistilBertConfig\n",
    "\n",
    "from xcai.basics import *\n",
    "from xcai.data import XCDataBlock\n",
    "from xcai.models.PPP0XX import DBT009\n",
    "from xcai.models.dexa import DEX001, DEX002\n",
    "from xcai.clustering.cluster import BalancedClusters\n",
    "\n",
    "from xclib.utils.sparse import retain_topk\n",
    "\n",
    "from fastcore.utils import *"
   ]
  },
  {
   "cell_type": "code",
   "execution_count": 4,
   "id": "1dd23053-8908-4615-a47f-96b2039b0cff",
   "metadata": {},
   "outputs": [],
   "source": [
    "os.environ['WANDB_MODE'] = 'disabled'"
   ]
  },
  {
   "cell_type": "code",
   "execution_count": 5,
   "id": "44292259-cc09-4bd0-96f3-08206b948924",
   "metadata": {},
   "outputs": [],
   "source": [
    "#| export\n",
    "os.environ['CUDA_VISIBLE_DEVICES'] = '0,1'\n",
    "os.environ['WANDB_PROJECT']='medic_00-wikiseealsotitles'"
   ]
  },
  {
   "cell_type": "markdown",
   "id": "75e78e7a-bb14-4ce5-8ea2-8581ca45f550",
   "metadata": {
    "jp-MarkdownHeadingCollapsed": true
   },
   "source": [
    "## Load data"
   ]
  },
  {
   "cell_type": "code",
   "execution_count": 6,
   "id": "6befa847-6453-45d8-985a-b201a9a39592",
   "metadata": {},
   "outputs": [],
   "source": [
    "build_block = False\n",
    "output_dir = '/home/scai/phd/aiz218323/scratch/outputs/medic/28_dexa-for-wikiseealsotitles'\n",
    "\n",
    "\"\"\" Load data \"\"\"\n",
    "pkl_dir = '/home/scai/phd/aiz218323/scratch/datasets/'\n",
    "pkl_file = f'{pkl_dir}/processed/wikiseealsotitles_data_distilbert-base-uncased_xcs.pkl'\n",
    "\n",
    "if build_block:\n",
    "    data_dir = '/home/scai/phd/aiz218323/Projects/XC_NLG/data'\n",
    "    block = XCBlock.from_cfg(data_dir, 'data', transform_type='xcs', tokenizer='distilbert-base-uncased', \n",
    "                             sampling_features=[('lbl2data',4)], oversample=False)\n",
    "    with open(pkl_file, 'wb') as file: pickle.dump(block, file)\n",
    "else:\n",
    "    with open(pkl_file, 'rb') as file: block = pickle.load(file)\n",
    "\n",
    "block.collator.tfms.tfms[0].sampling_features = [('lbl2data',4)]\n",
    "block.collator.tfms.tfms[0].oversample = True"
   ]
  },
  {
   "cell_type": "markdown",
   "id": "426abb72-1a98-40cc-8ee2-6213468c4910",
   "metadata": {},
   "source": [
    "## Model"
   ]
  },
  {
   "cell_type": "code",
   "execution_count": 7,
   "id": "f78b41c6-ada8-4f1d-85d2-2af6921db979",
   "metadata": {},
   "outputs": [],
   "source": [
    "args = XCLearningArguments(\n",
    "    output_dir=output_dir,\n",
    "    logging_first_step=True,\n",
    "    per_device_train_batch_size=800,\n",
    "    per_device_eval_batch_size=800,\n",
    "    representation_num_beams=200,\n",
    "    representation_accumulation_steps=10,\n",
    "    save_strategy=\"steps\",\n",
    "    evaluation_strategy=\"steps\",\n",
    "    eval_steps=5000,\n",
    "    save_steps=5000,\n",
    "    save_total_limit=5,\n",
    "    num_train_epochs=300,\n",
    "    predict_with_representation=True,\n",
    "    \n",
    "    target_indices_key='plbl2data_idx',\n",
    "    target_pointer_key='plbl2data_data2ptr',\n",
    "    \n",
    "    use_encoder_parallel=True,\n",
    "    max_grad_norm=None,\n",
    "    fp16=True,\n",
    ")"
   ]
  },
  {
   "cell_type": "code",
   "execution_count": 8,
   "id": "e905ba44-e004-45a9-a9c2-bfcbfcdcd9f9",
   "metadata": {},
   "outputs": [
    {
     "name": "stderr",
     "output_type": "stream",
     "text": [
      "Some weights of DBT009 were not initialized from the model checkpoint at sentence-transformers/msmarco-distilbert-base-v4 and are newly initialized: ['encoder.dr_layer_norm.bias', 'encoder.dr_layer_norm.weight', 'encoder.dr_projector.bias', 'encoder.dr_projector.weight', 'encoder.dr_transform.bias', 'encoder.dr_transform.weight']\n",
      "You should probably TRAIN this model on a down-stream task to be able to use it for predictions and inference.\n"
     ]
    }
   ],
   "source": [
    "bsz = max(args.per_device_train_batch_size, args.per_device_eval_batch_size)*torch.cuda.device_count()\n",
    "model = DBT009.from_pretrained('sentence-transformers/msmarco-distilbert-base-v4', bsz=bsz, tn_targ=5000, margin=0.3, tau=0.1, \n",
    "                               n_negatives=10, apply_softmax=True, use_encoder_parallel=True)\n",
    "model.init_dr_head()"
   ]
  },
  {
   "cell_type": "code",
   "execution_count": 9,
   "id": "c1123161-e043-4ed6-aa60-a43562d53751",
   "metadata": {},
   "outputs": [
    {
     "name": "stderr",
     "output_type": "stream",
     "text": [
      "/scratch/scai/phd/aiz218323/anaconda3/envs/xc_nlg/lib/python3.9/site-packages/accelerate/accelerator.py:432: FutureWarning: Passing the following arguments to `Accelerator` is deprecated and will be removed in version 1.0 of Accelerate: dict_keys(['dispatch_batches', 'split_batches', 'even_batches', 'use_seedable_sampler']). Please pass an `accelerate.DataLoaderConfiguration` instead: \n",
      "dataloader_config = DataLoaderConfiguration(dispatch_batches=None, split_batches=False, even_batches=True, use_seedable_sampler=True)\n",
      "  warnings.warn(\n",
      "Detected kernel version 3.10.0, which is below the recommended minimum of 5.5.0; this can cause the process to hang. It is recommended to upgrade the kernel to the minimum version or higher.\n"
     ]
    }
   ],
   "source": [
    "learn = XCLearner(\n",
    "    model=model, \n",
    "    args=args,\n",
    "    train_dataset=block.train.dset,\n",
    "    eval_dataset=block.test.dset,\n",
    "    data_collator=block.collator,\n",
    ")"
   ]
  },
  {
   "cell_type": "code",
   "execution_count": 10,
   "id": "ca806712-2f48-413c-9f80-0d9d965916f0",
   "metadata": {},
   "outputs": [
    {
     "data": {
      "application/vnd.jupyter.widget-view+json": {
       "model_id": "c2475e991f5b428c99671db4946b9c3e",
       "version_major": 2,
       "version_minor": 0
      },
      "text/plain": [
       "  0%|          | 0/196 [00:00<?, ?it/s]"
      ]
     },
     "metadata": {},
     "output_type": "display_data"
    }
   ],
   "source": [
    "lbl_repr = learn._get_lbl_representation(block.train.dset, to_cpu=True)"
   ]
  },
  {
   "cell_type": "code",
   "execution_count": 11,
   "id": "2e82e85f-2c4b-4bfd-9017-73641bd947ab",
   "metadata": {
    "scrolled": true
   },
   "outputs": [
    {
     "name": "stdout",
     "output_type": "stream",
     "text": [
      "Updating clusters with size 3\n",
      "Tree depth = 17\n",
      "doing random split\n",
      "lengths: [156165, 156165]\n",
      "remaining levels for GPU split=16\n",
      "==> gpu splitting random clusters 0 to 2\n",
      " rank=0 => Total clusters 2\tAvg. Cluster size                 78082.50\tTime to split nodes on this level 0.21 sec\n",
      " rank=0 => Total clusters 4\tAvg. Cluster size                 39041.25\tTime to split nodes on this level 0.04 sec\n",
      " rank=0 => Total clusters 8\tAvg. Cluster size                 19520.62\tTime to split nodes on this level 0.03 sec\n",
      " rank=0 => Total clusters 16\tAvg. Cluster size                 9760.31\tTime to split nodes on this level 0.04 sec\n",
      " rank=0 => Total clusters 32\tAvg. Cluster size                 4880.16\tTime to split nodes on this level 0.07 sec\n",
      " rank=0 => Total clusters 64\tAvg. Cluster size                 2440.08\tTime to split nodes on this level 0.16 sec\n",
      " rank=1 => Total clusters 2\tAvg. Cluster size                 78082.50\tTime to split nodes on this level 0.17 sec\n",
      " rank=1 => Total clusters 4\tAvg. Cluster size                 39041.25\tTime to split nodes on this level 0.03 sec\n",
      " rank=1 => Total clusters 8\tAvg. Cluster size                 19520.62\tTime to split nodes on this level 0.04 sec\n",
      " rank=1 => Total clusters 16\tAvg. Cluster size                 9760.31\tTime to split nodes on this level 0.05 sec\n",
      " rank=1 => Total clusters 32\tAvg. Cluster size                 4880.16\tTime to split nodes on this level 0.07 sec\n",
      " rank=0 => Total clusters 128\tAvg. Cluster size                 1220.04\tTime to split nodes on this level 0.27 sec\n",
      " rank=1 => Total clusters 64\tAvg. Cluster size                 2440.08\tTime to split nodes on this level 0.15 sec\n",
      " rank=1 => Total clusters 128\tAvg. Cluster size                 1220.04\tTime to split nodes on this level 0.28 sec\n",
      " rank=0 => Total clusters 256\tAvg. Cluster size                 610.02\tTime to split nodes on this level 0.50 sec\n",
      " rank=1 => Total clusters 256\tAvg. Cluster size                 610.02\tTime to split nodes on this level 0.48 sec\n",
      " rank=0 => Total clusters 512\tAvg. Cluster size                 305.01\tTime to split nodes on this level 0.95 sec\n",
      " rank=1 => Total clusters 512\tAvg. Cluster size                 305.01\tTime to split nodes on this level 0.97 sec\n",
      " rank=0 => Total clusters 1024\tAvg. Cluster size                 152.50\tTime to split nodes on this level 1.78 sec\n",
      " rank=1 => Total clusters 1024\tAvg. Cluster size                 152.50\tTime to split nodes on this level 1.79 sec\n",
      " rank=0 => Total clusters 2048\tAvg. Cluster size                 76.25\tTime to split nodes on this level 3.19 sec\n",
      " rank=1 => Total clusters 2048\tAvg. Cluster size                 76.25\tTime to split nodes on this level 3.17 sec\n",
      " rank=0 => Total clusters 4096\tAvg. Cluster size                 38.13\tTime to split nodes on this level 4.98 sec\n",
      " rank=1 => Total clusters 4096\tAvg. Cluster size                 38.13\tTime to split nodes on this level 4.89 sec\n",
      " rank=0 => Total clusters 8192\tAvg. Cluster size                 19.06\tTime to split nodes on this level 6.46 sec\n",
      " rank=1 => Total clusters 8192\tAvg. Cluster size                 19.06\tTime to split nodes on this level 6.45 sec\n",
      " rank=0 => Total clusters 16384\tAvg. Cluster size                 9.53\tTime to split nodes on this level 10.22 sec\n",
      " rank=1 => Total clusters 16384\tAvg. Cluster size                 9.53\tTime to split nodes on this level 10.26 sec\n",
      " rank=0 => Total clusters 32768\tAvg. Cluster size                 4.77\tTime to split nodes on this level 19.34 sec\n",
      " rank=1 => Total clusters 32768\tAvg. Cluster size                 4.77\tTime to split nodes on this level 19.49 sec\n",
      " rank=0 => Total clusters 65536\tAvg. Cluster size                 2.38\tTime to split nodes on this level 38.84 sec\n",
      " rank=1 => Total clusters 65536\tAvg. Cluster size                 2.38\tTime to split nodes on this level 39.01 sec\n",
      "\n"
     ]
    }
   ],
   "source": [
    "clusters = BalancedClusters.proc(lbl_repr.half(), min_cluster_sz=3)"
   ]
  },
  {
   "cell_type": "code",
   "execution_count": 12,
   "id": "d3b53884-c64e-412b-9fc5-8dbfc028c23a",
   "metadata": {},
   "outputs": [],
   "source": [
    "lbl_remap = torch.zeros(block.n_lbl, dtype=torch.int64)\n",
    "for i,o in enumerate(clusters): lbl_remap[o] = i"
   ]
  },
  {
   "cell_type": "code",
   "execution_count": null,
   "id": "919c4afa-56c2-49c0-87a3-e338dcfcf437",
   "metadata": {},
   "outputs": [],
   "source": []
  },
  {
   "cell_type": "code",
   "execution_count": 13,
   "id": "ffae619c-e3a2-4c3e-bb9e-1a29f002118d",
   "metadata": {},
   "outputs": [
    {
     "name": "stderr",
     "output_type": "stream",
     "text": [
      "Some weights of DEX001 were not initialized from the model checkpoint at sentence-transformers/msmarco-distilbert-base-v4 and are newly initialized: ['encoder.dr_head.layer_norm.bias', 'encoder.dr_head.layer_norm.weight', 'encoder.dr_head.projector.bias', 'encoder.dr_head.projector.weight', 'encoder.dr_head.transform.bias', 'encoder.dr_head.transform.weight', 'label_embeddings.weight', 'label_remap']\n",
      "You should probably TRAIN this model on a down-stream task to be able to use it for predictions and inference.\n"
     ]
    }
   ],
   "source": [
    "model = DEX001.from_pretrained('sentence-transformers/msmarco-distilbert-base-v4', batch_size=bsz, num_batch_labels=5000,\n",
    "                               margin=0.3, num_negatives=5, tau=0.1, apply_softmax=True, use_encoder_parallel=False,\n",
    "                               n_labels=block.n_lbl, n_clusters=len(clusters))\n",
    "model.init_retrieval_head()\n",
    "model.init_label_embeddings()"
   ]
  },
  {
   "cell_type": "code",
   "execution_count": 22,
   "id": "21027e63-7344-4060-bb5a-dbfd986f6719",
   "metadata": {},
   "outputs": [],
   "source": [
    "model.set_label_remap(lbl_remap)"
   ]
  },
  {
   "cell_type": "markdown",
   "id": "653ee19c-38b0-48e4-8613-54b8d447cccf",
   "metadata": {},
   "source": [
    "## Driver"
   ]
  },
  {
   "cell_type": "code",
   "execution_count": 31,
   "id": "92d480ff-70c4-4414-b192-e00eb2cbed60",
   "metadata": {},
   "outputs": [],
   "source": [
    "#| export\n",
    "def get_label_remap(output_dir:str, block:XCDataBlock, cluster_sz:int=3):\n",
    "    \n",
    "    args = XCLearningArguments(\n",
    "        output_dir=output_dir,\n",
    "        logging_first_step=True,\n",
    "        per_device_train_batch_size=800,\n",
    "        per_device_eval_batch_size=800,\n",
    "        representation_num_beams=200,\n",
    "        representation_accumulation_steps=10,\n",
    "        save_strategy=\"steps\",\n",
    "        evaluation_strategy=\"steps\",\n",
    "        eval_steps=5000,\n",
    "        save_steps=5000,\n",
    "        save_total_limit=5,\n",
    "        num_train_epochs=300,\n",
    "        predict_with_representation=True,\n",
    "        \n",
    "        target_indices_key='plbl2data_idx',\n",
    "        target_pointer_key='plbl2data_data2ptr',\n",
    "        \n",
    "        use_encoder_parallel=True,\n",
    "        max_grad_norm=None,\n",
    "        fp16=True,\n",
    "    )\n",
    "\n",
    "    bsz = max(args.per_device_train_batch_size, args.per_device_eval_batch_size)*torch.cuda.device_count()\n",
    "    model = DBT009.from_pretrained('sentence-transformers/msmarco-distilbert-base-v4', bsz=bsz, tn_targ=5000, margin=0.3, tau=0.1, \n",
    "                                   n_negatives=10, apply_softmax=True, use_encoder_parallel=True)\n",
    "    model.init_dr_head()\n",
    "\n",
    "    learn = XCLearner(\n",
    "        model=model, \n",
    "        args=args,\n",
    "        train_dataset=block.train.dset,\n",
    "        eval_dataset=block.test.dset,\n",
    "        data_collator=block.collator,\n",
    "    )\n",
    "\n",
    "    lbl_repr = learn._get_lbl_representation(block.train.dset, to_cpu=True)\n",
    "    clusters = BalancedClusters.proc(lbl_repr.half(), min_cluster_sz=cluster_sz)\n",
    "\n",
    "    lbl_remap = torch.zeros(block.n_lbl, dtype=torch.int64)\n",
    "    for i,o in enumerate(clusters): lbl_remap[o] = i\n",
    "\n",
    "    return lbl_remap, len(clusters)\n",
    "    "
   ]
  },
  {
   "cell_type": "code",
   "execution_count": null,
   "id": "bd67be8d-d2b0-40d2-a772-8d068ad99a3b",
   "metadata": {},
   "outputs": [
    {
     "name": "stderr",
     "output_type": "stream",
     "text": [
      "Could not estimate the number of tokens of the input, floating-point operations will not be computed\n"
     ]
    },
    {
     "data": {
      "text/html": [
       "\n",
       "    <div>\n",
       "      \n",
       "      <progress value='21' max='10396500' style='width:300px; height:20px; vertical-align: middle;'></progress>\n",
       "      [      21/10396500 10:23 < 94728:46:30, 0.03 it/s, Epoch 0.00/300]\n",
       "    </div>\n",
       "    <table border=\"1\" class=\"dataframe\">\n",
       "  <thead>\n",
       " <tr style=\"text-align: left;\">\n",
       "      <th>Step</th>\n",
       "      <th>Training Loss</th>\n",
       "      <th>Validation Loss</th>\n",
       "      <th>P@1</th>\n",
       "      <th>P@10</th>\n",
       "      <th>P@3</th>\n",
       "      <th>P@5</th>\n",
       "      <th>N@1</th>\n",
       "      <th>N@10</th>\n",
       "      <th>N@3</th>\n",
       "      <th>N@5</th>\n",
       "      <th>Psp@1</th>\n",
       "      <th>Psp@10</th>\n",
       "      <th>Psp@3</th>\n",
       "      <th>Psp@5</th>\n",
       "      <th>Psn@1</th>\n",
       "      <th>Psn@10</th>\n",
       "      <th>Psn@3</th>\n",
       "      <th>Psn@5</th>\n",
       "      <th>R@200</th>\n",
       "      <th>R@10</th>\n",
       "      <th>R@100</th>\n",
       "    </tr>\n",
       "  </thead>\n",
       "  <tbody>\n",
       "    <tr>\n",
       "      <td>10</td>\n",
       "      <td>0.078800</td>\n",
       "      <td>0.086276</td>\n",
       "      <td>0.175101</td>\n",
       "      <td>0.056812</td>\n",
       "      <td>0.115025</td>\n",
       "      <td>0.087132</td>\n",
       "      <td>0.175101</td>\n",
       "      <td>0.194849</td>\n",
       "      <td>0.173305</td>\n",
       "      <td>0.180583</td>\n",
       "      <td>0.163741</td>\n",
       "      <td>0.209324</td>\n",
       "      <td>0.168619</td>\n",
       "      <td>0.180018</td>\n",
       "      <td>0.163741</td>\n",
       "      <td>0.201765</td>\n",
       "      <td>0.174354</td>\n",
       "      <td>0.185467</td>\n",
       "      <td>0.429889</td>\n",
       "      <td>0.235065</td>\n",
       "      <td>0.384685</td>\n",
       "    </tr>\n",
       "  </tbody>\n",
       "</table><p>\n",
       "    <div>\n",
       "      \n",
       "      <progress value='3840' max='8876' style='width:300px; height:20px; vertical-align: middle;'></progress>\n",
       "      [3840/8876 03:31 < 04:38, 18.11 it/s]\n",
       "    </div>\n",
       "    "
      ],
      "text/plain": [
       "<IPython.core.display.HTML object>"
      ]
     },
     "metadata": {},
     "output_type": "display_data"
    },
    {
     "data": {
      "application/vnd.jupyter.widget-view+json": {
       "model_id": "7f9dddc6d9a64058b82b2ca61ae6b27f",
       "version_major": 2,
       "version_minor": 0
      },
      "text/plain": [
       "  0%|          | 0/15617 [00:00<?, ?it/s]"
      ]
     },
     "metadata": {},
     "output_type": "display_data"
    },
    {
     "name": "stderr",
     "output_type": "stream",
     "text": [
      "/scratch/scai/phd/aiz218323/anaconda3/envs/xc_nlg/lib/python3.9/site-packages/scipy/sparse/_index.py:145: SparseEfficiencyWarning: Changing the sparsity structure of a csr_matrix is expensive. lil_matrix is more efficient.\n",
      "  self._set_arrayXarray(i, j, x)\n"
     ]
    },
    {
     "data": {
      "application/vnd.jupyter.widget-view+json": {
       "model_id": "30e7320ceba542bc8a85e6e26205e3c5",
       "version_major": 2,
       "version_minor": 0
      },
      "text/plain": [
       "  0%|          | 0/15617 [00:00<?, ?it/s]"
      ]
     },
     "metadata": {},
     "output_type": "display_data"
    }
   ],
   "source": [
    "#| export\n",
    "if __name__ == '__main__':\n",
    "    build_block = False\n",
    "    output_dir = '/home/scai/phd/aiz218323/scratch/outputs/medic/29_distillation-for-wikiseealsotitles-with-dexa'\n",
    "    model_output = '/home/scai/phd/aiz218323/scratch/outputs/67-ngame-ep-for-wikiseealso-with-input-concatenation-1-4'\n",
    "    \n",
    "    \"\"\" Load data \"\"\"\n",
    "    pkl_dir = '/home/scai/phd/aiz218323/scratch/datasets/'\n",
    "    pkl_file = f'{pkl_dir}/processed/wikiseealsotitles_data_distilbert-base-uncased_xcs.pkl'\n",
    "\n",
    "    if build_block:\n",
    "        data_dir = '/home/scai/phd/aiz218323/Projects/XC_NLG/data'\n",
    "        block = XCBlock.from_cfg(data_dir, 'data', transform_type='xcs', tokenizer='distilbert-base-uncased', \n",
    "                                 sampling_features=[('lbl2data',4)], oversample=False)\n",
    "        with open(pkl_file, 'wb') as file: pickle.dump(block, file)\n",
    "    else:\n",
    "        with open(pkl_file, 'rb') as file: block = pickle.load(file)\n",
    "\n",
    "    block.collator.tfms.tfms[0].sampling_features = [('lbl2data',4)]\n",
    "    block.collator.tfms.tfms[0].oversample = False\n",
    "\n",
    "    lbl_remap, n_clusters = get_label_remap(output_dir, block, cluster_sz=3)\n",
    "\n",
    "    \"\"\" Training arguements \"\"\"\n",
    "    args = XCLearningArguments(\n",
    "        output_dir=output_dir,\n",
    "        logging_first_step=True,\n",
    "        per_device_train_batch_size=800,\n",
    "        per_device_eval_batch_size=800,\n",
    "        representation_num_beams=200,\n",
    "        representation_accumulation_steps=10,\n",
    "        save_strategy=\"steps\",\n",
    "        evaluation_strategy=\"steps\",\n",
    "        eval_steps=5000,\n",
    "        save_steps=5000,\n",
    "        save_total_limit=5,\n",
    "        num_train_epochs=300,\n",
    "        predict_with_representation=True,\n",
    "        adam_epsilon=1e-6,\n",
    "        warmup_steps=100,\n",
    "        weight_decay=0.01,\n",
    "        learning_rate=2e-4,\n",
    "        representation_search_type='BRUTEFORCE',\n",
    "        \n",
    "        output_representation_attribute='data_repr',\n",
    "        label_representation_attribute='data_repr',\n",
    "        metadata_representation_attribute='data_repr',\n",
    "        data_augmentation_attribute='data_repr',\n",
    "        representation_attribute='data_repr',\n",
    "        clustering_representation_attribute='data_repr',\n",
    "    \n",
    "        group_by_cluster=True,\n",
    "        num_clustering_warmup_epochs=10,\n",
    "        num_cluster_update_epochs=5,\n",
    "        num_cluster_size_update_epochs=25,\n",
    "        use_data_metadata_for_clustering=True,\n",
    "        clustering_type='EXPO',\n",
    "        minimum_cluster_size=2,\n",
    "        maximum_cluster_size=1600,\n",
    "\n",
    "        metric_for_best_model='P@1',\n",
    "        load_best_model_at_end=True,\n",
    "        target_indices_key='plbl2data_idx',\n",
    "        target_pointer_key='plbl2data_data2ptr',\n",
    "        \n",
    "        use_distributional_representation=False,\n",
    "        use_encoder_parallel=True,\n",
    "        max_grad_norm=None, \n",
    "        fp16=True,\n",
    "    \n",
    "        use_cpu_for_searching=True,\n",
    "        use_cpu_for_clustering=True,\n",
    "    )\n",
    "\n",
    "    \"\"\" Teacher model \"\"\"\n",
    "    m_teacher = TCH001.from_pretrained(f'{model_output}/teacher', n_data=block.train.dset.n_data, n_lbl=block.n_lbl)\n",
    "    m_teacher.freeze_embeddings()\n",
    "    \n",
    "    \"\"\" Student model \"\"\"\n",
    "    bsz = max(args.per_device_train_batch_size, args.per_device_eval_batch_size)*torch.cuda.device_count()\n",
    "    m_student = DEX001.from_pretrained('sentence-transformers/msmarco-distilbert-base-v4', batch_size=bsz, num_batch_labels=5000,\n",
    "                                       margin=0.3, num_negatives=10, tau=0.1, apply_softmax=True, use_encoder_parallel=True,\n",
    "                                       n_labels=block.n_lbl, n_clusters=n_clusters)\n",
    "    m_student.init_retrieval_head()\n",
    "    m_student.init_label_embeddings()\n",
    "    m_student.set_label_remap(lbl_remap)\n",
    "\n",
    "    \"\"\" Distillation model \"\"\"\n",
    "    model = DTL004(DistilBertConfig(), m_student=m_student, m_teacher=m_teacher, bsz=bsz, tn_targ=5000, margin=0.3, tau=0.1, \n",
    "                   n_negatives=10, apply_softmax=True, teacher_data_student_label_loss_weight=1.0, \n",
    "                   student_data_teacher_label_loss_weight=1.0, data_mse_loss_weight=0.1, label_mse_loss_weight=0.1)\n",
    "\n",
    "    \"\"\" Training \"\"\"\n",
    "    metric = PrecRecl(block.n_lbl, block.test.data_lbl_filterer, prop=block.train.dset.data.data_lbl,\n",
    "                      pk=10, rk=200, rep_pk=[1, 3, 5, 10], rep_rk=[10, 100, 200])\n",
    "\n",
    "    learn = XCLearner(\n",
    "        model=model, \n",
    "        args=args,\n",
    "        train_dataset=block.train.dset,\n",
    "        eval_dataset=block.test.dset,\n",
    "        data_collator=block.collator,\n",
    "        compute_metrics=metric,\n",
    "    )\n",
    "    \n",
    "    mp.freeze_support()\n",
    "    learn.train()\n",
    "    "
   ]
  }
 ],
 "metadata": {
  "kernelspec": {
   "display_name": "Python 3 (ipykernel)",
   "language": "python",
   "name": "python3"
  },
  "language_info": {
   "codemirror_mode": {
    "name": "ipython",
    "version": 3
   },
   "file_extension": ".py",
   "mimetype": "text/x-python",
   "name": "python",
   "nbconvert_exporter": "python",
   "pygments_lexer": "ipython3",
   "version": "3.9.19"
  }
 },
 "nbformat": 4,
 "nbformat_minor": 5
}
