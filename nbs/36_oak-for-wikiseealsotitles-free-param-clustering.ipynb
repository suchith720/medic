{
 "cells": [
  {
   "cell_type": "code",
   "execution_count": 1,
   "id": "d60b51bd-0144-4139-8be5-7602bad6a9c8",
   "metadata": {},
   "outputs": [],
   "source": [
    "#| default_exp 36_oak-for-wikiseealsotitles-free-param-clustering"
   ]
  },
  {
   "cell_type": "code",
   "execution_count": 2,
   "id": "65e00e5c-ff88-425d-a828-7ca5d02215ab",
   "metadata": {},
   "outputs": [],
   "source": [
    "%load_ext autoreload\n",
    "%autoreload 2\n",
    "\n",
    "from nbdev.showdoc import *\n",
    "import nbdev; nbdev.nbdev_export()"
   ]
  },
  {
   "cell_type": "code",
   "execution_count": null,
   "id": "874750be-c904-447e-8754-3eefcb9586d6",
   "metadata": {},
   "outputs": [],
   "source": [
    "#| export\n",
    "import os,torch, torch.multiprocessing as mp, pickle, numpy as np\n",
    "from transformers import DistilBertConfig\n",
    "\n",
    "from xcai.basics import *\n",
    "from xcai.models.oak import OAK010\n",
    "from xcai.clustering.cluster import BalancedClusters\n",
    "\n",
    "from xclib.utils.sparse import retain_topk\n",
    "\n",
    "from fastcore.utils import *"
   ]
  },
  {
   "cell_type": "code",
   "execution_count": 4,
   "id": "1dd23053-8908-4615-a47f-96b2039b0cff",
   "metadata": {},
   "outputs": [],
   "source": [
    "os.environ['WANDB_MODE'] = 'disabled'"
   ]
  },
  {
   "cell_type": "code",
   "execution_count": 5,
   "id": "44292259-cc09-4bd0-96f3-08206b948924",
   "metadata": {},
   "outputs": [],
   "source": [
    "#| export\n",
    "os.environ['CUDA_VISIBLE_DEVICES'] = '0,1'\n",
    "os.environ['WANDB_PROJECT']='oak_00-wikiseealsotitles'"
   ]
  },
  {
   "cell_type": "markdown",
   "id": "694406a6-2b5a-4672-a10e-1a00e71abc07",
   "metadata": {},
   "source": [
    "## Load data"
   ]
  },
  {
   "cell_type": "code",
   "execution_count": 6,
   "id": "c54b5b86-3e81-41e6-88c5-024db0bf8708",
   "metadata": {},
   "outputs": [],
   "source": [
    "build_block = False\n",
    "\n",
    "data_dir = '/home/scai/phd/aiz218323/Projects/XC_NLG/data'\n",
    "\n",
    "pkl_dir = '/home/scai/phd/aiz218323/scratch/datasets/'\n",
    "pkl_file = f'{pkl_dir}/processed/wikiseealsotitles_data-lnk_distilbert-base-uncased_xcs.pkl'\n",
    "\n",
    "if build_block:\n",
    "    block = XCBlock.from_cfg(data_dir, 'data_lnk', transform_type='xcs', tokenizer='distilbert-base-uncased', \n",
    "                             sampling_features=[('lbl2data',4), ('lnk2data',3)], oversample=False)\n",
    "    with open(pkl_file, 'wb') as file: pickle.dump(block, file)\n",
    "else:\n",
    "    with open(pkl_file, 'rb') as file: block = pickle.load(file)"
   ]
  },
  {
   "cell_type": "markdown",
   "id": "fc7ec731-0110-46f4-be62-a1401ba78066",
   "metadata": {},
   "source": [
    "## Metadata clusters"
   ]
  },
  {
   "cell_type": "code",
   "execution_count": 7,
   "id": "66c0961b-9a5c-4c70-b068-77e4e42f1a84",
   "metadata": {},
   "outputs": [],
   "source": [
    "#| export\n",
    "def get_metadata_remap(meta_repr:torch.Tensor, cluster_sz:int=3):\n",
    "    clusters = BalancedClusters.proc(meta_repr.half(), min_cluster_sz=cluster_sz)\n",
    "\n",
    "    meta_remap = torch.zeros(meta_repr.shape[0], dtype=torch.int64)\n",
    "    for i,o in enumerate(clusters): meta_remap[o] = i\n",
    "\n",
    "    return meta_remap, len(clusters)\n",
    "    "
   ]
  },
  {
   "cell_type": "code",
   "execution_count": 8,
   "id": "1e537a15-3b17-45d5-ae01-542d80eb9d79",
   "metadata": {},
   "outputs": [
    {
     "name": "stdout",
     "output_type": "stream",
     "text": [
      "Updating clusters with size 3\n",
      "Tree depth = 18\n",
      "doing random split\n",
      "lengths: [328043, 328043]\n",
      "remaining levels for GPU split=17\n",
      "==> gpu splitting random clusters 0 to 2\n",
      " rank=0 => Total clusters 2\tAvg. Cluster size                 164021.50\tTime to split nodes on this level 0.17 sec\n",
      " rank=0 => Total clusters 4\tAvg. Cluster size                 82010.75\tTime to split nodes on this level 0.06 sec\n",
      " rank=0 => Total clusters 8\tAvg. Cluster size                 41005.38\tTime to split nodes on this level 0.04 sec\n",
      " rank=0 => Total clusters 16\tAvg. Cluster size                 20502.69\tTime to split nodes on this level 0.06 sec\n",
      " rank=1 => Total clusters 2\tAvg. Cluster size                 164021.50\tTime to split nodes on this level 0.16 sec\n",
      " rank=1 => Total clusters 4\tAvg. Cluster size                 82010.75\tTime to split nodes on this level 0.03 sec\n",
      " rank=0 => Total clusters 32\tAvg. Cluster size                 10251.34\tTime to split nodes on this level 0.49 sec\n",
      " rank=1 => Total clusters 8\tAvg. Cluster size                 41005.38\tTime to split nodes on this level 0.04 sec\n",
      " rank=1 => Total clusters 16\tAvg. Cluster size                 20502.69\tTime to split nodes on this level 0.07 sec\n",
      " rank=1 => Total clusters 32\tAvg. Cluster size                 10251.34\tTime to split nodes on this level 0.48 sec\n",
      " rank=0 => Total clusters 64\tAvg. Cluster size                 5125.67\tTime to split nodes on this level 0.88 sec\n",
      " rank=1 => Total clusters 64\tAvg. Cluster size                 5125.67\tTime to split nodes on this level 0.74 sec\n",
      " rank=0 => Total clusters 128\tAvg. Cluster size                 2562.84\tTime to split nodes on this level 1.51 sec\n",
      " rank=1 => Total clusters 128\tAvg. Cluster size                 2562.84\tTime to split nodes on this level 1.66 sec\n",
      " rank=0 => Total clusters 256\tAvg. Cluster size                 1281.42\tTime to split nodes on this level 2.59 sec\n",
      " rank=1 => Total clusters 256\tAvg. Cluster size                 1281.42\tTime to split nodes on this level 2.89 sec\n",
      " rank=0 => Total clusters 512\tAvg. Cluster size                 640.71\tTime to split nodes on this level 5.00 sec\n",
      " rank=1 => Total clusters 512\tAvg. Cluster size                 640.71\tTime to split nodes on this level 5.23 sec\n",
      " rank=0 => Total clusters 1024\tAvg. Cluster size                 320.35\tTime to split nodes on this level 6.94 sec\n",
      " rank=1 => Total clusters 1024\tAvg. Cluster size                 320.35\tTime to split nodes on this level 7.49 sec\n",
      " rank=0 => Total clusters 2048\tAvg. Cluster size                 160.18\tTime to split nodes on this level 9.57 sec\n",
      " rank=1 => Total clusters 2048\tAvg. Cluster size                 160.18\tTime to split nodes on this level 10.73 sec\n",
      " rank=0 => Total clusters 4096\tAvg. Cluster size                 80.09\tTime to split nodes on this level 11.87 sec\n",
      " rank=1 => Total clusters 4096\tAvg. Cluster size                 80.09\tTime to split nodes on this level 13.04 sec\n",
      " rank=0 => Total clusters 8192\tAvg. Cluster size                 40.04\tTime to split nodes on this level 20.21 sec\n",
      " rank=1 => Total clusters 8192\tAvg. Cluster size                 40.04\tTime to split nodes on this level 22.25 sec\n",
      " rank=0 => Total clusters 16384\tAvg. Cluster size                 20.02\tTime to split nodes on this level 40.72 sec\n",
      " rank=1 => Total clusters 16384\tAvg. Cluster size                 20.02\tTime to split nodes on this level 44.54 sec\n",
      " rank=0 => Total clusters 32768\tAvg. Cluster size                 10.01\tTime to split nodes on this level 81.30 sec\n",
      " rank=1 => Total clusters 32768\tAvg. Cluster size                 10.01\tTime to split nodes on this level 89.15 sec\n",
      " rank=0 => Total clusters 65536\tAvg. Cluster size                 5.01\tTime to split nodes on this level 161.79 sec\n",
      " rank=1 => Total clusters 65536\tAvg. Cluster size                 5.01\tTime to split nodes on this level 177.90 sec\n",
      " rank=0 => Total clusters 131072\tAvg. Cluster size                 2.50\tTime to split nodes on this level 323.52 sec\n"
     ]
    },
    {
     "name": "stderr",
     "output_type": "stream",
     "text": [
      "Process SpawnProcess-3:\n",
      "Traceback (most recent call last):\n",
      "  File \"/home/scai/phd/aiz218323/scratch/anaconda3/envs/xc_nlg_2/lib/python3.9/multiprocessing/process.py\", line 315, in _bootstrap\n",
      "    self.run()\n",
      "  File \"/home/scai/phd/aiz218323/scratch/anaconda3/envs/xc_nlg_2/lib/python3.9/multiprocessing/process.py\", line 108, in run\n",
      "    self._target(*self._args, **self._kwargs)\n",
      "  File \"/scratch/scai/phd/aiz218323/Projects/xcai/xcai/clustering/fast_cluster.py\", line 105, in balanced_cluster_gpu\n",
      "    new_clusters += split_cluster(embs[cluster], cluster)\n",
      "  File \"/scratch/scai/phd/aiz218323/Projects/xcai/xcai/clustering/fast_cluster.py\", line 75, in split_cluster\n",
      "    _centeroids = labels_features[cluster]\n",
      "KeyboardInterrupt\n"
     ]
    },
    {
     "ename": "KeyboardInterrupt",
     "evalue": "",
     "output_type": "error",
     "traceback": [
      "\u001b[0;31m---------------------------------------------------------------------------\u001b[0m",
      "\u001b[0;31mKeyboardInterrupt\u001b[0m                         Traceback (most recent call last)",
      "Cell \u001b[0;32mIn[8], line 5\u001b[0m\n\u001b[1;32m      2\u001b[0m \u001b[38;5;66;03m#meta_embeddings = np.load(meta_embed_file)\u001b[39;00m\n\u001b[1;32m      3\u001b[0m meta_embeddings \u001b[38;5;241m=\u001b[39m torch\u001b[38;5;241m.\u001b[39mrandn(block\u001b[38;5;241m.\u001b[39mtrain\u001b[38;5;241m.\u001b[39mdset\u001b[38;5;241m.\u001b[39mmeta[\u001b[38;5;124m'\u001b[39m\u001b[38;5;124mlnk_meta\u001b[39m\u001b[38;5;124m'\u001b[39m]\u001b[38;5;241m.\u001b[39mn_meta, \u001b[38;5;241m768\u001b[39m)\n\u001b[0;32m----> 5\u001b[0m meta_remap, n_clusters \u001b[38;5;241m=\u001b[39m \u001b[43mget_metadata_remap\u001b[49m\u001b[43m(\u001b[49m\u001b[43mmeta_embeddings\u001b[49m\u001b[43m,\u001b[49m\u001b[43m \u001b[49m\u001b[38;5;241;43m3\u001b[39;49m\u001b[43m)\u001b[49m\n",
      "Cell \u001b[0;32mIn[7], line 3\u001b[0m, in \u001b[0;36mget_metadata_remap\u001b[0;34m(meta_repr, cluster_sz)\u001b[0m\n\u001b[1;32m      2\u001b[0m \u001b[38;5;28;01mdef\u001b[39;00m \u001b[38;5;21mget_metadata_remap\u001b[39m(meta_repr:torch\u001b[38;5;241m.\u001b[39mTensor, cluster_sz:\u001b[38;5;28mint\u001b[39m\u001b[38;5;241m=\u001b[39m\u001b[38;5;241m3\u001b[39m):\n\u001b[0;32m----> 3\u001b[0m     clusters \u001b[38;5;241m=\u001b[39m \u001b[43mBalancedClusters\u001b[49m\u001b[38;5;241;43m.\u001b[39;49m\u001b[43mproc\u001b[49m\u001b[43m(\u001b[49m\u001b[43mmeta_repr\u001b[49m\u001b[38;5;241;43m.\u001b[39;49m\u001b[43mhalf\u001b[49m\u001b[43m(\u001b[49m\u001b[43m)\u001b[49m\u001b[43m,\u001b[49m\u001b[43m \u001b[49m\u001b[43mmin_cluster_sz\u001b[49m\u001b[38;5;241;43m=\u001b[39;49m\u001b[43mcluster_sz\u001b[49m\u001b[43m)\u001b[49m\n\u001b[1;32m      5\u001b[0m     meta_remap \u001b[38;5;241m=\u001b[39m torch\u001b[38;5;241m.\u001b[39mzeros(meta_repr\u001b[38;5;241m.\u001b[39mshape[\u001b[38;5;241m0\u001b[39m], dtype\u001b[38;5;241m=\u001b[39mtorch\u001b[38;5;241m.\u001b[39mint64)\n\u001b[1;32m      6\u001b[0m     \u001b[38;5;28;01mfor\u001b[39;00m i,o \u001b[38;5;129;01min\u001b[39;00m \u001b[38;5;28menumerate\u001b[39m(clusters): meta_remap[o] \u001b[38;5;241m=\u001b[39m i\n",
      "File \u001b[0;32m/scratch/scai/phd/aiz218323/Projects/xcai/xcai/clustering/cluster.py:255\u001b[0m, in \u001b[0;36mBalancedClusters.proc\u001b[0;34m(x, min_cluster_sz, clustering_devices, verbose)\u001b[0m\n\u001b[1;32m    253\u001b[0m \u001b[38;5;129m@staticmethod\u001b[39m\n\u001b[1;32m    254\u001b[0m \u001b[38;5;28;01mdef\u001b[39;00m \u001b[38;5;21mproc\u001b[39m(x:torch\u001b[38;5;241m.\u001b[39mTensor, min_cluster_sz:\u001b[38;5;28mint\u001b[39m, clustering_devices:Optional[List]\u001b[38;5;241m=\u001b[39m\u001b[38;5;28;01mNone\u001b[39;00m, verbose:Optional[\u001b[38;5;28mbool\u001b[39m]\u001b[38;5;241m=\u001b[39m\u001b[38;5;28;01mTrue\u001b[39;00m):\n\u001b[0;32m--> 255\u001b[0m     \u001b[38;5;28;01mreturn\u001b[39;00m \u001b[43mpartial_cluster\u001b[49m\u001b[43m(\u001b[49m\u001b[43mx\u001b[49m\u001b[43m,\u001b[49m\u001b[43m \u001b[49m\u001b[43mmin_cluster_sz\u001b[49m\u001b[43m,\u001b[49m\u001b[43m \u001b[49m\u001b[38;5;241;43m-\u001b[39;49m\u001b[38;5;241;43m1\u001b[39;49m\u001b[43m,\u001b[49m\u001b[43m \u001b[49m\u001b[43mclustering_devices\u001b[49m\u001b[43m)\u001b[49m\n",
      "File \u001b[0;32m/scratch/scai/phd/aiz218323/Projects/xcai/xcai/clustering/cluster.py:238\u001b[0m, in \u001b[0;36mpartial_cluster\u001b[0;34m(embs_bank, min_leaf_sz, num_random_clusters, clustering_devices)\u001b[0m\n\u001b[1;32m    234\u001b[0m \u001b[38;5;28;01mif\u001b[39;00m num_random_clusters \u001b[38;5;241m<\u001b[39m \u001b[38;5;28mlen\u001b[39m(clustering_devices):\n\u001b[1;32m    235\u001b[0m             \u001b[38;5;28mprint\u001b[39m(\u001b[38;5;124m\"\u001b[39m\u001b[38;5;124mnum_random_clusters provided is less \u001b[39m\u001b[38;5;130;01m\\\u001b[39;00m\n\u001b[1;32m    236\u001b[0m \u001b[38;5;124m                than number of clustring devices which is not optimal\u001b[39m\u001b[38;5;124m\"\u001b[39m)\n\u001b[0;32m--> 238\u001b[0m clusters \u001b[38;5;241m=\u001b[39m \u001b[43mbalanced_cluster\u001b[49m\u001b[43m(\u001b[49m\u001b[43mtorch\u001b[49m\u001b[38;5;241;43m.\u001b[39;49m\u001b[43mHalfTensor\u001b[49m\u001b[43m(\u001b[49m\u001b[43membs\u001b[49m\u001b[38;5;241;43m.\u001b[39;49m\u001b[43mhalf\u001b[49m\u001b[43m(\u001b[49m\u001b[43m)\u001b[49m\u001b[43m)\u001b[49m\u001b[43m,\u001b[49m\n\u001b[1;32m    239\u001b[0m \u001b[43m                            \u001b[49m\u001b[43mtree_depth\u001b[49m\u001b[43m,\u001b[49m\n\u001b[1;32m    240\u001b[0m \u001b[43m                            \u001b[49m\u001b[43mclustering_devices\u001b[49m\u001b[43m,\u001b[49m\n\u001b[1;32m    241\u001b[0m \u001b[43m                            \u001b[49m\u001b[43mnum_random_clusters\u001b[49m\u001b[43m,\u001b[49m\n\u001b[1;32m    242\u001b[0m \u001b[43m                            \u001b[49m\u001b[38;5;28;43;01mTrue\u001b[39;49;00m\u001b[43m)\u001b[49m\n\u001b[1;32m    244\u001b[0m \u001b[38;5;28;01mdel\u001b[39;00m embs\n\u001b[1;32m    245\u001b[0m gc\u001b[38;5;241m.\u001b[39mcollect()\n",
      "File \u001b[0;32m/scratch/scai/phd/aiz218323/Projects/xcai/xcai/clustering/fast_cluster.py:217\u001b[0m, in \u001b[0;36mbalanced_cluster\u001b[0;34m(embs, num_levels, devices, num_random_clusters, verbose)\u001b[0m\n\u001b[1;32m    215\u001b[0m         processes\u001b[38;5;241m.\u001b[39mappend(p)\n\u001b[1;32m    216\u001b[0m     \u001b[38;5;28;01mfor\u001b[39;00m p \u001b[38;5;129;01min\u001b[39;00m processes:\n\u001b[0;32m--> 217\u001b[0m         \u001b[43mp\u001b[49m\u001b[38;5;241;43m.\u001b[39;49m\u001b[43mjoin\u001b[49m\u001b[43m(\u001b[49m\u001b[43m)\u001b[49m\n\u001b[1;32m    219\u001b[0m clusters \u001b[38;5;241m=\u001b[39m [cluster\u001b[38;5;241m.\u001b[39mcpu()\u001b[38;5;241m.\u001b[39mnumpy() \u001b[38;5;28;01mfor\u001b[39;00m cluster \u001b[38;5;129;01min\u001b[39;00m clusters]\n\u001b[1;32m    220\u001b[0m final_clusters \u001b[38;5;241m=\u001b[39m []\n",
      "File \u001b[0;32m~/scratch/anaconda3/envs/xc_nlg_2/lib/python3.9/multiprocessing/process.py:149\u001b[0m, in \u001b[0;36mBaseProcess.join\u001b[0;34m(self, timeout)\u001b[0m\n\u001b[1;32m    147\u001b[0m \u001b[38;5;28;01massert\u001b[39;00m \u001b[38;5;28mself\u001b[39m\u001b[38;5;241m.\u001b[39m_parent_pid \u001b[38;5;241m==\u001b[39m os\u001b[38;5;241m.\u001b[39mgetpid(), \u001b[38;5;124m'\u001b[39m\u001b[38;5;124mcan only join a child process\u001b[39m\u001b[38;5;124m'\u001b[39m\n\u001b[1;32m    148\u001b[0m \u001b[38;5;28;01massert\u001b[39;00m \u001b[38;5;28mself\u001b[39m\u001b[38;5;241m.\u001b[39m_popen \u001b[38;5;129;01mis\u001b[39;00m \u001b[38;5;129;01mnot\u001b[39;00m \u001b[38;5;28;01mNone\u001b[39;00m, \u001b[38;5;124m'\u001b[39m\u001b[38;5;124mcan only join a started process\u001b[39m\u001b[38;5;124m'\u001b[39m\n\u001b[0;32m--> 149\u001b[0m res \u001b[38;5;241m=\u001b[39m \u001b[38;5;28;43mself\u001b[39;49m\u001b[38;5;241;43m.\u001b[39;49m\u001b[43m_popen\u001b[49m\u001b[38;5;241;43m.\u001b[39;49m\u001b[43mwait\u001b[49m\u001b[43m(\u001b[49m\u001b[43mtimeout\u001b[49m\u001b[43m)\u001b[49m\n\u001b[1;32m    150\u001b[0m \u001b[38;5;28;01mif\u001b[39;00m res \u001b[38;5;129;01mis\u001b[39;00m \u001b[38;5;129;01mnot\u001b[39;00m \u001b[38;5;28;01mNone\u001b[39;00m:\n\u001b[1;32m    151\u001b[0m     _children\u001b[38;5;241m.\u001b[39mdiscard(\u001b[38;5;28mself\u001b[39m)\n",
      "File \u001b[0;32m~/scratch/anaconda3/envs/xc_nlg_2/lib/python3.9/multiprocessing/popen_fork.py:43\u001b[0m, in \u001b[0;36mPopen.wait\u001b[0;34m(self, timeout)\u001b[0m\n\u001b[1;32m     41\u001b[0m             \u001b[38;5;28;01mreturn\u001b[39;00m \u001b[38;5;28;01mNone\u001b[39;00m\n\u001b[1;32m     42\u001b[0m     \u001b[38;5;66;03m# This shouldn't block if wait() returned successfully.\u001b[39;00m\n\u001b[0;32m---> 43\u001b[0m     \u001b[38;5;28;01mreturn\u001b[39;00m \u001b[38;5;28;43mself\u001b[39;49m\u001b[38;5;241;43m.\u001b[39;49m\u001b[43mpoll\u001b[49m\u001b[43m(\u001b[49m\u001b[43mos\u001b[49m\u001b[38;5;241;43m.\u001b[39;49m\u001b[43mWNOHANG\u001b[49m\u001b[43m \u001b[49m\u001b[38;5;28;43;01mif\u001b[39;49;00m\u001b[43m \u001b[49m\u001b[43mtimeout\u001b[49m\u001b[43m \u001b[49m\u001b[38;5;241;43m==\u001b[39;49m\u001b[43m \u001b[49m\u001b[38;5;241;43m0.0\u001b[39;49m\u001b[43m \u001b[49m\u001b[38;5;28;43;01melse\u001b[39;49;00m\u001b[43m \u001b[49m\u001b[38;5;241;43m0\u001b[39;49m\u001b[43m)\u001b[49m\n\u001b[1;32m     44\u001b[0m \u001b[38;5;28;01mreturn\u001b[39;00m \u001b[38;5;28mself\u001b[39m\u001b[38;5;241m.\u001b[39mreturncode\n",
      "File \u001b[0;32m~/scratch/anaconda3/envs/xc_nlg_2/lib/python3.9/multiprocessing/popen_fork.py:27\u001b[0m, in \u001b[0;36mPopen.poll\u001b[0;34m(self, flag)\u001b[0m\n\u001b[1;32m     25\u001b[0m \u001b[38;5;28;01mif\u001b[39;00m \u001b[38;5;28mself\u001b[39m\u001b[38;5;241m.\u001b[39mreturncode \u001b[38;5;129;01mis\u001b[39;00m \u001b[38;5;28;01mNone\u001b[39;00m:\n\u001b[1;32m     26\u001b[0m     \u001b[38;5;28;01mtry\u001b[39;00m:\n\u001b[0;32m---> 27\u001b[0m         pid, sts \u001b[38;5;241m=\u001b[39m \u001b[43mos\u001b[49m\u001b[38;5;241;43m.\u001b[39;49m\u001b[43mwaitpid\u001b[49m\u001b[43m(\u001b[49m\u001b[38;5;28;43mself\u001b[39;49m\u001b[38;5;241;43m.\u001b[39;49m\u001b[43mpid\u001b[49m\u001b[43m,\u001b[49m\u001b[43m \u001b[49m\u001b[43mflag\u001b[49m\u001b[43m)\u001b[49m\n\u001b[1;32m     28\u001b[0m     \u001b[38;5;28;01mexcept\u001b[39;00m \u001b[38;5;167;01mOSError\u001b[39;00m:\n\u001b[1;32m     29\u001b[0m         \u001b[38;5;66;03m# Child process not yet created. See #1731717\u001b[39;00m\n\u001b[1;32m     30\u001b[0m         \u001b[38;5;66;03m# e.errno == errno.ECHILD == 10\u001b[39;00m\n\u001b[1;32m     31\u001b[0m         \u001b[38;5;28;01mreturn\u001b[39;00m \u001b[38;5;28;01mNone\u001b[39;00m\n",
      "\u001b[0;31mKeyboardInterrupt\u001b[0m: "
     ]
    }
   ],
   "source": [
    "meta_embed_file = '/home/aiscuser/scratch/OGB_Weights/LF-WikiSeeAlsoTitles-320K/emb_weights.npy'\n",
    "#meta_embeddings = np.load(meta_embed_file)\n",
    "meta_embeddings = torch.randn(block.train.dset.meta['lnk_meta'].n_meta, 768)\n",
    "\n",
    "meta_remap, n_clusters = get_metadata_remap(meta_embeddings, 3)"
   ]
  },
  {
   "cell_type": "markdown",
   "id": "653ee19c-38b0-48e4-8613-54b8d447cccf",
   "metadata": {},
   "source": [
    "## Driver"
   ]
  },
  {
   "cell_type": "code",
   "execution_count": null,
   "id": "bd67be8d-d2b0-40d2-a772-8d068ad99a3b",
   "metadata": {},
   "outputs": [
    {
     "name": "stderr",
     "output_type": "stream",
     "text": [
      "Could not estimate the number of tokens of the input, floating-point operations will not be computed\n"
     ]
    },
    {
     "data": {
      "text/html": [
       "\n",
       "    <div>\n",
       "      \n",
       "      <progress value='21' max='10396500' style='width:300px; height:20px; vertical-align: middle;'></progress>\n",
       "      [      21/10396500 10:23 < 94728:46:30, 0.03 it/s, Epoch 0.00/300]\n",
       "    </div>\n",
       "    <table border=\"1\" class=\"dataframe\">\n",
       "  <thead>\n",
       " <tr style=\"text-align: left;\">\n",
       "      <th>Step</th>\n",
       "      <th>Training Loss</th>\n",
       "      <th>Validation Loss</th>\n",
       "      <th>P@1</th>\n",
       "      <th>P@10</th>\n",
       "      <th>P@3</th>\n",
       "      <th>P@5</th>\n",
       "      <th>N@1</th>\n",
       "      <th>N@10</th>\n",
       "      <th>N@3</th>\n",
       "      <th>N@5</th>\n",
       "      <th>Psp@1</th>\n",
       "      <th>Psp@10</th>\n",
       "      <th>Psp@3</th>\n",
       "      <th>Psp@5</th>\n",
       "      <th>Psn@1</th>\n",
       "      <th>Psn@10</th>\n",
       "      <th>Psn@3</th>\n",
       "      <th>Psn@5</th>\n",
       "      <th>R@200</th>\n",
       "      <th>R@10</th>\n",
       "      <th>R@100</th>\n",
       "    </tr>\n",
       "  </thead>\n",
       "  <tbody>\n",
       "    <tr>\n",
       "      <td>10</td>\n",
       "      <td>0.078800</td>\n",
       "      <td>0.086276</td>\n",
       "      <td>0.175101</td>\n",
       "      <td>0.056812</td>\n",
       "      <td>0.115025</td>\n",
       "      <td>0.087132</td>\n",
       "      <td>0.175101</td>\n",
       "      <td>0.194849</td>\n",
       "      <td>0.173305</td>\n",
       "      <td>0.180583</td>\n",
       "      <td>0.163741</td>\n",
       "      <td>0.209324</td>\n",
       "      <td>0.168619</td>\n",
       "      <td>0.180018</td>\n",
       "      <td>0.163741</td>\n",
       "      <td>0.201765</td>\n",
       "      <td>0.174354</td>\n",
       "      <td>0.185467</td>\n",
       "      <td>0.429889</td>\n",
       "      <td>0.235065</td>\n",
       "      <td>0.384685</td>\n",
       "    </tr>\n",
       "  </tbody>\n",
       "</table><p>\n",
       "    <div>\n",
       "      \n",
       "      <progress value='3840' max='8876' style='width:300px; height:20px; vertical-align: middle;'></progress>\n",
       "      [3840/8876 03:31 < 04:38, 18.11 it/s]\n",
       "    </div>\n",
       "    "
      ],
      "text/plain": [
       "<IPython.core.display.HTML object>"
      ]
     },
     "metadata": {},
     "output_type": "display_data"
    },
    {
     "data": {
      "application/vnd.jupyter.widget-view+json": {
       "model_id": "7f9dddc6d9a64058b82b2ca61ae6b27f",
       "version_major": 2,
       "version_minor": 0
      },
      "text/plain": [
       "  0%|          | 0/15617 [00:00<?, ?it/s]"
      ]
     },
     "metadata": {},
     "output_type": "display_data"
    },
    {
     "name": "stderr",
     "output_type": "stream",
     "text": [
      "/scratch/scai/phd/aiz218323/anaconda3/envs/xc_nlg/lib/python3.9/site-packages/scipy/sparse/_index.py:145: SparseEfficiencyWarning: Changing the sparsity structure of a csr_matrix is expensive. lil_matrix is more efficient.\n",
      "  self._set_arrayXarray(i, j, x)\n"
     ]
    },
    {
     "data": {
      "application/vnd.jupyter.widget-view+json": {
       "model_id": "30e7320ceba542bc8a85e6e26205e3c5",
       "version_major": 2,
       "version_minor": 0
      },
      "text/plain": [
       "  0%|          | 0/15617 [00:00<?, ?it/s]"
      ]
     },
     "metadata": {},
     "output_type": "display_data"
    }
   ],
   "source": [
    "#| export\n",
    "if __name__ == '__main__':\n",
    "    build_block = False\n",
    "    pkl_dir = '/home/scai/phd/aiz218323/scratch/datasets/'\n",
    "    data_dir = '/home/scai/phd/aiz218323/Projects/XC_NLG/data'\n",
    "    \n",
    "    output_dir = '/home/scai/phd/aiz218323/scratch/outputs/medic/36_oak-for-wikiseealsotitles-free-param-clustering'\n",
    "    meta_embed_file = '/home/aiscuser/scratch/OGB_Weights/LF-WikiSeeAlsoTitles-320K/emb_weights.npy'\n",
    "\n",
    "    \"\"\" Load data \"\"\"\n",
    "    pkl_file = f'{pkl_dir}/processed/wikiseealsotitles_data-lnk_distilbert-base-uncased_xcs.pkl'\n",
    "\n",
    "    if build_block:\n",
    "        block = XCBlock.from_cfg(data_dir, 'data_lnk', transform_type='xcs', tokenizer='distilbert-base-uncased', \n",
    "                                 sampling_features=[('lbl2data',4), ('lnk2data',3)], oversample=False)\n",
    "        with open(pkl_file, 'wb') as file: pickle.dump(block, file)\n",
    "    else:\n",
    "        with open(pkl_file, 'rb') as file: block = pickle.load(file)\n",
    "\n",
    "    \"\"\" Prune metadata \"\"\"\n",
    "    data_meta = retain_topk(block.train.dset.meta.lnk_meta.data_meta, k=5)\n",
    "    lbl_meta = block.train.dset.meta.lnk_meta.lbl_meta\n",
    "    block.train.dset.meta.lnk_meta.update_meta_matrix(data_meta, lbl_meta)\n",
    "    \n",
    "    data_meta = retain_topk(block.test.dset.meta.lnk_meta.data_meta, k=3)\n",
    "    lbl_meta = block.test.dset.meta.lnk_meta.lbl_meta\n",
    "    block.test.dset.meta.lnk_meta.update_meta_matrix(data_meta, lbl_meta)\n",
    "\n",
    "    block.collator.tfms.tfms[0].sampling_features = [('lbl2data',4),('lnk2data',3)]\n",
    "    block.collator.tfms.tfms[0].oversample = False\n",
    "    \n",
    "    block.train.dset.meta.lnk_meta.meta_info = None\n",
    "    block.test.dset.meta.lnk_meta.meta_info = None\n",
    "\n",
    "    \"\"\" Training arguements \"\"\"\n",
    "    args = XCLearningArguments(\n",
    "        output_dir=output_dir,\n",
    "        logging_first_step=True,\n",
    "        per_device_train_batch_size=800,\n",
    "        per_device_eval_batch_size=800,\n",
    "        representation_num_beams=200,\n",
    "        representation_accumulation_steps=10,\n",
    "        save_strategy=\"steps\",\n",
    "        evaluation_strategy=\"steps\",\n",
    "        eval_steps=5000,\n",
    "        save_steps=5000,\n",
    "        save_total_limit=5,\n",
    "        num_train_epochs=300,\n",
    "        predict_with_representation=True,\n",
    "        adam_epsilon=1e-6,\n",
    "        warmup_steps=100,\n",
    "        weight_decay=0.01,\n",
    "        learning_rate=2e-4,\n",
    "        representation_search_type='BRUTEFORCE',\n",
    "        \n",
    "        output_representation_attribute='data_fused_repr',\n",
    "        label_representation_attribute='data_repr',\n",
    "        metadata_representation_attribute='data_repr',\n",
    "        data_augmentation_attribute='data_repr',\n",
    "        representation_attribute='data_fused_repr',\n",
    "        clustering_representation_attribute='data_fused_repr',\n",
    "    \n",
    "        group_by_cluster=True,\n",
    "        num_clustering_warmup_epochs=10,\n",
    "        num_cluster_update_epochs=5,\n",
    "        num_cluster_size_update_epochs=25,\n",
    "        use_data_metadata_for_clustering=True,\n",
    "        clustering_type='EXPO',\n",
    "        minimum_cluster_size=2,\n",
    "        maximum_cluster_size=1600,\n",
    "\n",
    "        metric_for_best_model='P@1',\n",
    "        load_best_model_at_end=True,\n",
    "        target_indices_key='plbl2data_idx',\n",
    "        target_pointer_key='plbl2data_data2ptr',\n",
    "        \n",
    "        use_distributional_representation=False,\n",
    "        use_encoder_parallel=True,\n",
    "        max_grad_norm=None, \n",
    "        fp16=True,\n",
    "        \n",
    "        label_names=['lbl2data_idx', 'lbl2data_input_ids', 'lbl2data_attention_mask', 'lnk2data_idx'],\n",
    "        \n",
    "        prune_metadata=False,\n",
    "        num_metadata_prune_warmup_epochs=10,\n",
    "        num_metadata_prune_epochs=5,\n",
    "        metadata_prune_batch_size=2048,\n",
    "        prune_metadata_names=['lnk_meta'],\n",
    "        use_data_metadata_for_pruning=True,\n",
    "    \n",
    "        predict_with_augmentation=False,\n",
    "        use_augmentation_index_representation=True,\n",
    "    \n",
    "        data_aug_meta_name='lnk',\n",
    "        augmentation_num_beams=None,\n",
    "        data_aug_prefix='lnk',\n",
    "        use_label_metadata=False,\n",
    "        \n",
    "        data_meta_batch_size=2048,\n",
    "        augment_metadata=False,\n",
    "        num_metadata_augment_warmup_epochs=10,\n",
    "        num_metadata_augment_epochs=5,\n",
    "    \n",
    "        use_cpu_for_searching=True,\n",
    "        use_cpu_for_clustering=True,\n",
    "    )\n",
    "    \n",
    "    \"\"\" metadata clustering \"\"\"\n",
    "    # meta_embeddings = np.load(meta_embed_file)\n",
    "    meta_remap, n_clusters = get_metadata_remap(meta_embeddings, 3)\n",
    "\n",
    "    \"\"\" model \"\"\"\n",
    "    bsz = max(args.per_device_train_batch_size, args.per_device_eval_batch_size)*torch.cuda.device_count()\n",
    "    model = OAK010.from_pretrained('sentence-transformers/msmarco-distilbert-base-v4', batch_size=bsz, num_batch_labels=5000, \n",
    "                                   margin=0.3, num_negatives=10, tau=0.1, apply_softmax=True,\n",
    "                               \n",
    "                                   data_aug_meta_prefix='lnk2data', lbl2data_aug_meta_prefix=None, \n",
    "                                   data_pred_meta_prefix=None, lbl2data_pred_meta_prefix=None,\n",
    "                                   \n",
    "                                   n_metadata=block.train.dset.meta['lnk_meta'].n_meta, n_clusters=n_clusters, resize_length=5000,\n",
    "                                   \n",
    "                                   calib_margin=0.05, calib_num_negatives=10, calib_tau=0.1, calib_apply_softmax=False, \n",
    "                                   calib_loss_weight=0.1, use_calib_loss=False,\n",
    "    \n",
    "                                   use_query_loss=True,\n",
    "    \n",
    "                                   meta_loss_weight=0.0, \n",
    "                                   \n",
    "                                   fusion_loss_weight=0.0, use_fusion_loss=False,\n",
    "                                   \n",
    "                                   use_encoder_parallel=True)\n",
    "    \n",
    "    model.init_retrieval_head()\n",
    "    model.init_cross_head()\n",
    "    model.init_meta_embeddings()\n",
    "    \n",
    "    # model.encoder.set_pretrained_meta_embeddings(torch.tensor(meta_embeddings, dtype=torch.float32))\n",
    "    model.encoder.set_pretrained_meta_embeddings(torch.zeros(block.train.dset.meta['lnk_meta'].n_meta, model.config.dim))\n",
    "    model.encoder.freeze_pretrained_meta_embeddings()\n",
    "    \n",
    "    model.encoder.set_metadata_remap(meta_remap)\n",
    "    \n",
    "    \"\"\" Training \"\"\"\n",
    "    metric = PrecRecl(block.n_lbl, block.test.data_lbl_filterer, prop=block.train.dset.data.data_lbl,\n",
    "                      pk=10, rk=200, rep_pk=[1, 3, 5, 10], rep_rk=[10, 100, 200])\n",
    "\n",
    "    learn = XCLearner(\n",
    "        model=model, \n",
    "        args=args,\n",
    "        train_dataset=block.train.dset,\n",
    "        eval_dataset=block.test.dset,\n",
    "        data_collator=block.collator,\n",
    "        compute_metrics=metric,\n",
    "    )\n",
    "    \n",
    "    mp.freeze_support()\n",
    "    learn.train()\n",
    "    "
   ]
  }
 ],
 "metadata": {
  "kernelspec": {
   "display_name": "Python 3 (ipykernel)",
   "language": "python",
   "name": "python3"
  },
  "language_info": {
   "codemirror_mode": {
    "name": "ipython",
    "version": 3
   },
   "file_extension": ".py",
   "mimetype": "text/x-python",
   "name": "python",
   "nbconvert_exporter": "python",
   "pygments_lexer": "ipython3",
   "version": "3.9.19"
  }
 },
 "nbformat": 4,
 "nbformat_minor": 5
}
