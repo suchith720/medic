{
 "cells": [
  {
   "cell_type": "code",
   "execution_count": 1,
   "id": "d60b51bd-0144-4139-8be5-7602bad6a9c8",
   "metadata": {},
   "outputs": [],
   "source": [
    "#| default_exp 24_distillation-for-wikiseealsotitles-with-oak-curriculum-learning"
   ]
  },
  {
   "cell_type": "code",
   "execution_count": 2,
   "id": "65e00e5c-ff88-425d-a828-7ca5d02215ab",
   "metadata": {},
   "outputs": [],
   "source": [
    "%load_ext autoreload\n",
    "%autoreload 2\n",
    "\n",
    "from nbdev.showdoc import *\n",
    "import nbdev; nbdev.nbdev_export()"
   ]
  },
  {
   "cell_type": "code",
   "execution_count": 3,
   "id": "874750be-c904-447e-8754-3eefcb9586d6",
   "metadata": {},
   "outputs": [
    {
     "name": "stderr",
     "output_type": "stream",
     "text": [
      "comet_ml is installed but `COMET_API_KEY` is not set.\n"
     ]
    }
   ],
   "source": [
    "#| export\n",
    "import os,torch, torch.multiprocessing as mp, pickle, numpy as np\n",
    "from scipy import sparse\n",
    "from transformers import DistilBertConfig\n",
    "\n",
    "from xcai.basics import *\n",
    "from xcai.data import MetaXCDataset\n",
    "from xcai.models.oak import OAK003\n",
    "from xcai.models.distillation import DTL004,TCH001,TCH002\n",
    "from xcai.models.classifiers import CLS001\n",
    "\n",
    "from xclib.utils.sparse import retain_topk\n",
    "\n",
    "from fastcore.utils import *"
   ]
  },
  {
   "cell_type": "code",
   "execution_count": 4,
   "id": "1dd23053-8908-4615-a47f-96b2039b0cff",
   "metadata": {},
   "outputs": [],
   "source": [
    "os.environ['WANDB_MODE'] = 'disabled'"
   ]
  },
  {
   "cell_type": "code",
   "execution_count": 5,
   "id": "44292259-cc09-4bd0-96f3-08206b948924",
   "metadata": {},
   "outputs": [],
   "source": [
    "#| export\n",
    "os.environ['CUDA_VISIBLE_DEVICES'] = '0,1'\n",
    "os.environ['WANDB_PROJECT']='medic_00-wikiseealsotitles'"
   ]
  },
  {
   "cell_type": "markdown",
   "id": "83ef3347-5bde-495e-9103-c43368006f0b",
   "metadata": {},
   "source": [
    "## Load data"
   ]
  },
  {
   "cell_type": "code",
   "execution_count": 6,
   "id": "d7b1a501-113d-40ca-b687-527550bb14b7",
   "metadata": {},
   "outputs": [],
   "source": [
    "pkl_dir = '/home/scai/phd/aiz218323/scratch/datasets/'\n",
    "pkl_file = f'{pkl_dir}/processed/wikiseealsotitles_data-cat-lnk_distilbert-base-uncased_xcs.pkl'"
   ]
  },
  {
   "cell_type": "code",
   "execution_count": null,
   "id": "6c786422-6522-441a-9f1b-49e79e131817",
   "metadata": {},
   "outputs": [],
   "source": [
    "data_dir = '/home/scai/phd/aiz218323/Projects/XC_NLG/data'\n",
    "block = XCBlock.from_cfg(data_dir, 'data_cat_lnk', transform_type='xcs', tokenizer='distilbert-base-uncased', \n",
    "                         sampling_features=[('lbl2data',4), ('lnk2data',3)], oversample=False)"
   ]
  },
  {
   "cell_type": "code",
   "execution_count": null,
   "id": "af7a00c8-78ae-4b7f-ae99-f4cc211003f3",
   "metadata": {},
   "outputs": [],
   "source": [
    "with open(pkl_file, 'wb') as file: pickle.dump(block, file)"
   ]
  },
  {
   "cell_type": "code",
   "execution_count": 7,
   "id": "788b09e4-ab5f-4995-97f3-af8b93670c0d",
   "metadata": {},
   "outputs": [],
   "source": [
    "with open(pkl_file, 'rb') as file: block = pickle.load(file)"
   ]
  },
  {
   "cell_type": "code",
   "execution_count": 8,
   "id": "b6fa1848-1da0-413f-9519-d536fd1a4c6c",
   "metadata": {},
   "outputs": [],
   "source": [
    "data_meta = retain_topk(block.train.dset.meta.lnk_meta.data_meta, k=5)\n",
    "lbl_meta = block.train.dset.meta.lnk_meta.lbl_meta\n",
    "block.train.dset.meta.lnk_meta.update_meta_matrix(data_meta, lbl_meta)\n",
    "\n",
    "data_meta = retain_topk(block.test.dset.meta.lnk_meta.data_meta, k=3)\n",
    "lbl_meta = block.test.dset.meta.lnk_meta.lbl_meta\n",
    "block.test.dset.meta.lnk_meta.update_meta_matrix(data_meta, lbl_meta)\n",
    "\n",
    "block.collator.tfms.tfms[0].sampling_features = [('lbl2data',4),('lnk2data',3)]\n",
    "block.collator.tfms.tfms[0].oversample = False"
   ]
  },
  {
   "cell_type": "code",
   "execution_count": 9,
   "id": "4fac9812-1a31-4df3-a419-70c324a4f187",
   "metadata": {},
   "outputs": [],
   "source": [
    "block.train.dset.meta['lnk_meta'].meta_info = None\n",
    "block.test.dset.meta['lnk_meta'].meta_info = None\n",
    "\n",
    "block.train.dset.meta['cat_meta'].meta_info = None\n",
    "block.test.dset.meta['cat_meta'].meta_info = None"
   ]
  },
  {
   "cell_type": "code",
   "execution_count": 10,
   "id": "b7fcfde2-2470-458f-a55c-38b61b02373f",
   "metadata": {},
   "outputs": [],
   "source": [
    "block.train.dset.meta['hyb_meta'] = MetaXCDataset('hyb', block.train.dset.meta['cat_meta'].data_meta.copy(), \n",
    "                                                  block.train.dset.meta['cat_meta'].lbl_meta.copy())\n",
    "block.test.dset.meta['hyb_meta'] = MetaXCDataset('hyb', block.test.dset.meta['lnk_meta'].data_meta.copy(), \n",
    "                                                 block.test.dset.meta['lnk_meta'].lbl_meta.copy())"
   ]
  },
  {
   "cell_type": "code",
   "execution_count": 11,
   "id": "113d8743-4dd2-4c20-8486-3d114ff33022",
   "metadata": {},
   "outputs": [
    {
     "name": "stderr",
     "output_type": "stream",
     "text": [
      "/scratch/scai/phd/aiz218323/anaconda3/envs/xc_nlg/lib/python3.9/site-packages/accelerate/accelerator.py:432: FutureWarning: Passing the following arguments to `Accelerator` is deprecated and will be removed in version 1.0 of Accelerate: dict_keys(['dispatch_batches', 'split_batches', 'even_batches', 'use_seedable_sampler']). Please pass an `accelerate.DataLoaderConfiguration` instead: \n",
      "dataloader_config = DataLoaderConfiguration(dispatch_batches=None, split_batches=False, even_batches=True, use_seedable_sampler=True)\n",
      "  warnings.warn(\n",
      "Detected kernel version 3.10.0, which is below the recommended minimum of 5.5.0; this can cause the process to hang. It is recommended to upgrade the kernel to the minimum version or higher.\n"
     ]
    }
   ],
   "source": [
    "args = XCLearningArguments(\n",
    "    output_dir='/home/scai/phd/aiz218323/scratch/outputs/medic/14_distillation-for-wikititles-with-oak',\n",
    "    mix_metadata=True,\n",
    "    num_mix_metadata_epochs=5,\n",
    "    num_mix_metadata_warmup_epochs=0,\n",
    "    maximum_mix_metadata_epochs=50,\n",
    "    mix_metadata_name_1='cat',\n",
    "    mix_metadata_name_2='lnk',\n",
    "    mix_metadata_k=3,\n",
    "    num_train_epochs=10,\n",
    "    label_names=['lbl2data_idx', 'lbl2data_input_ids', 'lbl2data_attention_mask', 'hyb2data_idx'],\n",
    ")\n",
    "\n",
    "model_output = '/home/scai/phd/aiz218323/scratch/outputs/67-ngame-ep-for-wikiseealso-with-input-concatenation-1-4'\n",
    "model = TCH001.from_pretrained(f'{model_output}/teacher', n_data=block.train.dset.n_data, n_lbl=block.n_lbl)\n",
    "model.freeze_embeddings()\n",
    "\n",
    "learn = XCLearner(\n",
    "    model=model,\n",
    "    args=args,\n",
    "    train_dataset=block.train.dset,\n",
    "    eval_dataset=block.test.dset,\n",
    "    data_collator=block.collator,\n",
    ")"
   ]
  },
  {
   "cell_type": "code",
   "execution_count": 12,
   "id": "0f5aa4ad-ccaf-45df-b0cd-d2c656e7108f",
   "metadata": {},
   "outputs": [
    {
     "data": {
      "text/plain": [
       "(<693082x656086 sparse matrix of type '<class 'numpy.float32'>'\n",
       " \twith 3390902 stored elements in Compressed Sparse Row format>,\n",
       " <693082x656086 sparse matrix of type '<class 'numpy.float32'>'\n",
       " \twith 3390902 stored elements in Compressed Sparse Row format>,\n",
       " <693082x656086 sparse matrix of type '<class 'numpy.float32'>'\n",
       " \twith 3465410 stored elements in Compressed Sparse Row format>)"
      ]
     },
     "execution_count": 12,
     "metadata": {},
     "output_type": "execute_result"
    }
   ],
   "source": [
    "block.train.dset.meta['hyb_meta'].data_meta, block.train.dset.meta['cat_meta'].data_meta, block.train.dset.meta['lnk_meta'].data_meta"
   ]
  },
  {
   "cell_type": "code",
   "execution_count": 13,
   "id": "16eca1d2-ae10-49fa-bb40-c48876da978c",
   "metadata": {},
   "outputs": [],
   "source": [
    "block.train.dset.mix_meta_dataset('cat', 'lnk', pct=1, k=3)"
   ]
  },
  {
   "cell_type": "code",
   "execution_count": 14,
   "id": "4322444e-09c5-46c9-b137-da9ba849de7c",
   "metadata": {},
   "outputs": [],
   "source": [
    "batch = next(iter(learn.get_train_dataloader()))"
   ]
  },
  {
   "cell_type": "code",
   "execution_count": 16,
   "id": "512ac6f2-b0b3-45e6-9a89-290cc02f5676",
   "metadata": {},
   "outputs": [
    {
     "data": {
      "text/plain": [
       "dict_keys(['plbl2data_idx', 'plbl2data_data2ptr', 'lbl2data_idx', 'lbl2data_input_ids', 'lbl2data_attention_mask', 'lbl2data_data2ptr', 'data_idx', 'hyb2data_idx', 'hyb2data_data2ptr'])"
      ]
     },
     "execution_count": 16,
     "metadata": {},
     "output_type": "execute_result"
    }
   ],
   "source": [
    "batch.keys()"
   ]
  },
  {
   "cell_type": "code",
   "execution_count": null,
   "id": "2c86f590-e52e-4c51-8bea-9c85cc9c34f6",
   "metadata": {},
   "outputs": [],
   "source": []
  },
  {
   "cell_type": "markdown",
   "id": "653ee19c-38b0-48e4-8613-54b8d447cccf",
   "metadata": {},
   "source": [
    "## Driver"
   ]
  },
  {
   "cell_type": "code",
   "execution_count": null,
   "id": "bd67be8d-d2b0-40d2-a772-8d068ad99a3b",
   "metadata": {},
   "outputs": [
    {
     "name": "stderr",
     "output_type": "stream",
     "text": [
      "Could not estimate the number of tokens of the input, floating-point operations will not be computed\n"
     ]
    },
    {
     "data": {
      "text/html": [
       "\n",
       "    <div>\n",
       "      \n",
       "      <progress value='21' max='10396500' style='width:300px; height:20px; vertical-align: middle;'></progress>\n",
       "      [      21/10396500 10:23 < 94728:46:30, 0.03 it/s, Epoch 0.00/300]\n",
       "    </div>\n",
       "    <table border=\"1\" class=\"dataframe\">\n",
       "  <thead>\n",
       " <tr style=\"text-align: left;\">\n",
       "      <th>Step</th>\n",
       "      <th>Training Loss</th>\n",
       "      <th>Validation Loss</th>\n",
       "      <th>P@1</th>\n",
       "      <th>P@10</th>\n",
       "      <th>P@3</th>\n",
       "      <th>P@5</th>\n",
       "      <th>N@1</th>\n",
       "      <th>N@10</th>\n",
       "      <th>N@3</th>\n",
       "      <th>N@5</th>\n",
       "      <th>Psp@1</th>\n",
       "      <th>Psp@10</th>\n",
       "      <th>Psp@3</th>\n",
       "      <th>Psp@5</th>\n",
       "      <th>Psn@1</th>\n",
       "      <th>Psn@10</th>\n",
       "      <th>Psn@3</th>\n",
       "      <th>Psn@5</th>\n",
       "      <th>R@200</th>\n",
       "      <th>R@10</th>\n",
       "      <th>R@100</th>\n",
       "    </tr>\n",
       "  </thead>\n",
       "  <tbody>\n",
       "    <tr>\n",
       "      <td>10</td>\n",
       "      <td>0.078800</td>\n",
       "      <td>0.086276</td>\n",
       "      <td>0.175101</td>\n",
       "      <td>0.056812</td>\n",
       "      <td>0.115025</td>\n",
       "      <td>0.087132</td>\n",
       "      <td>0.175101</td>\n",
       "      <td>0.194849</td>\n",
       "      <td>0.173305</td>\n",
       "      <td>0.180583</td>\n",
       "      <td>0.163741</td>\n",
       "      <td>0.209324</td>\n",
       "      <td>0.168619</td>\n",
       "      <td>0.180018</td>\n",
       "      <td>0.163741</td>\n",
       "      <td>0.201765</td>\n",
       "      <td>0.174354</td>\n",
       "      <td>0.185467</td>\n",
       "      <td>0.429889</td>\n",
       "      <td>0.235065</td>\n",
       "      <td>0.384685</td>\n",
       "    </tr>\n",
       "  </tbody>\n",
       "</table><p>\n",
       "    <div>\n",
       "      \n",
       "      <progress value='3840' max='8876' style='width:300px; height:20px; vertical-align: middle;'></progress>\n",
       "      [3840/8876 03:31 < 04:38, 18.11 it/s]\n",
       "    </div>\n",
       "    "
      ],
      "text/plain": [
       "<IPython.core.display.HTML object>"
      ]
     },
     "metadata": {},
     "output_type": "display_data"
    },
    {
     "data": {
      "application/vnd.jupyter.widget-view+json": {
       "model_id": "7f9dddc6d9a64058b82b2ca61ae6b27f",
       "version_major": 2,
       "version_minor": 0
      },
      "text/plain": [
       "  0%|          | 0/15617 [00:00<?, ?it/s]"
      ]
     },
     "metadata": {},
     "output_type": "display_data"
    },
    {
     "name": "stderr",
     "output_type": "stream",
     "text": [
      "/scratch/scai/phd/aiz218323/anaconda3/envs/xc_nlg/lib/python3.9/site-packages/scipy/sparse/_index.py:145: SparseEfficiencyWarning: Changing the sparsity structure of a csr_matrix is expensive. lil_matrix is more efficient.\n",
      "  self._set_arrayXarray(i, j, x)\n"
     ]
    },
    {
     "data": {
      "application/vnd.jupyter.widget-view+json": {
       "model_id": "30e7320ceba542bc8a85e6e26205e3c5",
       "version_major": 2,
       "version_minor": 0
      },
      "text/plain": [
       "  0%|          | 0/15617 [00:00<?, ?it/s]"
      ]
     },
     "metadata": {},
     "output_type": "display_data"
    }
   ],
   "source": [
    "#| export\n",
    "if __name__ == '__main__':\n",
    "    build_block = False\n",
    "\n",
    "    pkl_dir = '/home/scai/phd/aiz218323/scratch/datasets/'\n",
    "    data_dir = '/home/scai/phd/aiz218323/Projects/XC_NLG/data'\n",
    "    \n",
    "    output_dir = '/home/scai/phd/aiz218323/scratch/outputs/medic/14_distillation-for-wikititles-with-oak'\n",
    "    model_output = '/home/scai/phd/aiz218323/scratch/outputs/67-ngame-ep-for-wikiseealso-with-input-concatenation-1-4'\n",
    "    meta_embed_file = '/home/aiscuser/scratch/OGB_Weights/LF-WikiSeeAlsoTitles-320K/emb_weights.npy'\n",
    "\n",
    "    \"\"\" Load data \"\"\"\n",
    "    pkl_file = f'{pkl_dir}/processed/wikiseealsotitles_data-cat-lnk_distilbert-base-uncased_xcs.pkl'\n",
    "    if build_block:\n",
    "        block = XCBlock.from_cfg(data_dir, 'data_cat_lnk', transform_type='xcs', tokenizer='distilbert-base-uncased', \n",
    "                                 sampling_features=[('lbl2data',4), ('lnk2data',3)], oversample=True)\n",
    "        with open(pkl_file, 'wb') as file: pickle.dump(block, file)\n",
    "    else:\n",
    "        with open(pkl_file, 'rb') as file: block = pickle.load(file)\n",
    "\n",
    "    \"\"\" Prune metadata \"\"\"\n",
    "    data_meta = retain_topk(block.train.dset.meta.lnk_meta.data_meta, k=5)\n",
    "    lbl_meta = block.train.dset.meta.lnk_meta.lbl_meta\n",
    "    block.train.dset.meta.lnk_meta.update_meta_matrix(data_meta, lbl_meta)\n",
    "    \n",
    "    data_meta = retain_topk(block.test.dset.meta.lnk_meta.data_meta, k=3)\n",
    "    lbl_meta = block.test.dset.meta.lnk_meta.lbl_meta\n",
    "    block.test.dset.meta.lnk_meta.update_meta_matrix(data_meta, lbl_meta)\n",
    "\n",
    "    block.collator.tfms.tfms[0].sampling_features = [('lbl2data',4),('hyb2data',3)]\n",
    "    block.collator.tfms.tfms[0].oversample = True\n",
    "    \n",
    "    block.train.dset.meta['lnk_meta'].meta_info = None\n",
    "    block.test.dset.meta['lnk_meta'].meta_info = None\n",
    "    \n",
    "    block.train.dset.meta['cat_meta'].meta_info = None\n",
    "    block.test.dset.meta['cat_meta'].meta_info = None\n",
    "\n",
    "    block.train.dset.meta['hyb_meta'] = MetaXCDataset('hyb', block.train.dset.meta['cat_meta'].data_meta.copy(), \n",
    "                                                      block.train.dset.meta['cat_meta'].lbl_meta.copy())\n",
    "    block.test.dset.meta['hyb_meta'] = MetaXCDataset('hyb', block.test.dset.meta['lnk_meta'].data_meta.copy(), \n",
    "                                                     block.test.dset.meta['lnk_meta'].lbl_meta.copy())\n",
    "\n",
    "    \"\"\" Training arguements \"\"\"\n",
    "    args = XCLearningArguments(\n",
    "        output_dir=output_dir,\n",
    "        logging_first_step=True,\n",
    "        per_device_train_batch_size=800,\n",
    "        per_device_eval_batch_size=800,\n",
    "        representation_num_beams=200,\n",
    "        representation_accumulation_steps=10,\n",
    "        save_strategy=\"steps\",\n",
    "        evaluation_strategy=\"steps\",\n",
    "        eval_steps=5000,\n",
    "        save_steps=5000,\n",
    "        save_total_limit=5,\n",
    "        num_train_epochs=300,\n",
    "        predict_with_representation=True,\n",
    "        adam_epsilon=1e-6,\n",
    "        warmup_steps=100,\n",
    "        weight_decay=0.01,\n",
    "        learning_rate=2e-4,\n",
    "        representation_search_type='BRUTEFORCE',\n",
    "        \n",
    "        output_representation_attribute='data_fused_repr',\n",
    "        label_representation_attribute='data_repr',\n",
    "        metadata_representation_attribute='data_repr',\n",
    "        data_augmentation_attribute='data_repr',\n",
    "        representation_attribute='data_fused_repr',\n",
    "        clustering_representation_attribute='data_fused_repr',\n",
    "    \n",
    "        group_by_cluster=True,\n",
    "        num_clustering_warmup_epochs=10,\n",
    "        num_cluster_update_epochs=5,\n",
    "        num_cluster_size_update_epochs=25,\n",
    "        use_data_metadata_for_clustering=True,\n",
    "        clustering_type='EXPO',\n",
    "        minimum_cluster_size=2,\n",
    "        maximum_cluster_size=1600,\n",
    "\n",
    "        metric_for_best_model='P@1',\n",
    "        load_best_model_at_end=True,\n",
    "        target_indices_key='plbl2data_idx',\n",
    "        target_pointer_key='plbl2data_data2ptr',\n",
    "        \n",
    "        use_distributional_representation=False,\n",
    "        use_encoder_parallel=True,\n",
    "        max_grad_norm=None, \n",
    "        fp16=True,\n",
    "        \n",
    "        label_names=['lbl2data_idx', 'lbl2data_input_ids', 'lbl2data_attention_mask', 'hyb2data_idx'],\n",
    "        \n",
    "        prune_metadata=False,\n",
    "        num_metadata_prune_warmup_epochs=10,\n",
    "        num_metadata_prune_epochs=5,\n",
    "        metadata_prune_batch_size=2048,\n",
    "        prune_metadata_names=['hyb_meta'],\n",
    "        use_data_metadata_for_pruning=True,\n",
    "        prune_metadata_threshold=0.0,\n",
    "        prune_metadata_topk=3,\n",
    "    \n",
    "        predict_with_augmentation=False,\n",
    "        use_augmentation_index_representation=True,\n",
    "    \n",
    "        data_aug_meta_name='hyb',\n",
    "        augmentation_num_beams=None,\n",
    "        data_aug_prefix='hyb',\n",
    "        use_label_metadata=False,\n",
    "\n",
    "        augment_metadata=False,\n",
    "        data_meta_batch_size=2048,\n",
    "        num_metadata_augment_warmup_epochs=10,\n",
    "        num_metadata_augment_epochs=5,\n",
    "    \n",
    "        use_cpu_for_searching=True,\n",
    "        use_cpu_for_clustering=True,\n",
    "\n",
    "        mix_metadata=True,\n",
    "        num_mix_metadata_epochs=5,\n",
    "        num_mix_metadata_warmup_epochs=10,\n",
    "        maximum_mix_metadata_epochs=50,\n",
    "        mix_metadata_name_1='cat',\n",
    "        mix_metadata_name_2='lnk',\n",
    "        mix_metadata_k=3,\n",
    "    )\n",
    "\n",
    "    \"\"\" Teacher model \"\"\"\n",
    "    m_teacher = TCH001.from_pretrained(f'{model_output}/teacher', n_data=block.train.dset.n_data, n_lbl=block.n_lbl)\n",
    "    m_teacher.freeze_embeddings()\n",
    "\n",
    "    \"\"\" Student model \"\"\"\n",
    "    bsz = max(args.per_device_train_batch_size, args.per_device_eval_batch_size)*torch.cuda.device_count()\n",
    "\n",
    "    m_student = OAK003.from_pretrained('sentence-transformers/msmarco-distilbert-base-v4', batch_size=bsz, num_batch_labels=5000,\n",
    "                                       margin=0.3, num_negatives=5, tau=0.1, apply_softmax=True,\n",
    "                                       \n",
    "                                       data_aug_meta_prefix='hyb2data', lbl2data_aug_meta_prefix=None,\n",
    "                                       data_pred_meta_prefix=None, lbl2data_pred_meta_prefix=None,\n",
    "                                       \n",
    "                                       num_metadata=block.train.dset.meta['hyb_meta'].n_meta, resize_length=5000,\n",
    "                                       \n",
    "                                       calib_margin=0.05, calib_num_negatives=10, calib_tau=0.1, calib_apply_softmax=False,\n",
    "                                       calib_loss_weight=0.1, use_calib_loss=True,\n",
    "                                       \n",
    "                                       use_query_loss=True,\n",
    "                                       \n",
    "                                       meta_loss_weight=0.0,\n",
    "                                       \n",
    "                                       fusion_loss_weight=0.1, use_fusion_loss=False,\n",
    "                                       \n",
    "                                       use_encoder_parallel=True)\n",
    "    m_student.init_retrieval_head()\n",
    "    m_student.init_cross_head()\n",
    "    m_student.init_meta_embeddings()\n",
    "    \n",
    "    # meta_embeddings = np.load(meta_embed_file)\n",
    "    # m_student.encoder.set_pretrained_meta_embeddings(torch.tensor(meta_embeddings, dtype=torch.float32))\n",
    "    m_student.encoder.set_pretrained_meta_embeddings(torch.zeros(block.train.dset.meta['hyb_meta'].n_meta, m_student.config.dim))\n",
    "    m_student.encoder.freeze_pretrained_meta_embeddings()\n",
    "\n",
    "    \"\"\" Distillation model \"\"\"\n",
    "    model = DTL004(DistilBertConfig(), m_student=m_student, m_teacher=m_teacher, bsz=bsz, tn_targ=5000, margin=0.3, tau=0.1, \n",
    "                   n_negatives=10, apply_softmax=True, teacher_data_student_label_loss_weight=1.0, \n",
    "                   student_data_teacher_label_loss_weight=1.0, data_mse_loss_weight=0.1, label_mse_loss_weight=0.1)\n",
    "\n",
    "\n",
    "    \"\"\" Training \"\"\"\n",
    "    metric = PrecRecl(block.n_lbl, block.test.data_lbl_filterer, prop=block.train.dset.data.data_lbl,\n",
    "                      pk=10, rk=200, rep_pk=[1, 3, 5, 10], rep_rk=[10, 100, 200])\n",
    "\n",
    "    learn = XCLearner(\n",
    "        model=model, \n",
    "        args=args,\n",
    "        train_dataset=block.train.dset,\n",
    "        eval_dataset=block.test.dset,\n",
    "        data_collator=block.collator,\n",
    "        compute_metrics=metric,\n",
    "    )\n",
    "    \n",
    "    mp.freeze_support()\n",
    "    learn.train()\n",
    "    "
   ]
  },
  {
   "cell_type": "markdown",
   "id": "7931c6e7-8084-4118-8a34-9b9dd1df13b0",
   "metadata": {
    "jp-MarkdownHeadingCollapsed": true
   },
   "source": [
    "## Classifiers"
   ]
  },
  {
   "cell_type": "code",
   "execution_count": null,
   "id": "a9689903-1ec7-404b-9ee9-1d6f276468de",
   "metadata": {},
   "outputs": [],
   "source": [
    "learn.args.use_data_metadata_for_representation=True"
   ]
  },
  {
   "cell_type": "code",
   "execution_count": null,
   "id": "3af1edba-96a0-4cc9-b8e3-59df07a71523",
   "metadata": {},
   "outputs": [],
   "source": [
    "output_dir = f\"/home/aiscuser/scratch/Projects/xc_nlg/outputs/{os.path.basename(args.output_dir)}\"\n",
    "mname = f'{output_dir}/{os.path.basename(get_best_model(output_dir))}'"
   ]
  },
  {
   "cell_type": "code",
   "execution_count": null,
   "id": "de08a0c1-c577-4518-9604-23a44e2f5c0e",
   "metadata": {},
   "outputs": [],
   "source": [
    "model = DTL004.from_pretrained(mname, m_student=m_student, m_teacher=m_teacher, bsz=bsz, tn_targ=5000, margin=0.3, tau=0.1, \n",
    "                               n_negatives=10, apply_softmax=True, teacher_data_student_label_loss_weight=1.0, data_mse_loss_weight=0.1)"
   ]
  },
  {
   "cell_type": "code",
   "execution_count": null,
   "id": "4c1bf754-f844-439c-8f14-49fb225ed0da",
   "metadata": {},
   "outputs": [],
   "source": [
    "train_rep, lbl_rep = learn.get_data_and_lbl_representation(learn.train_dataset)"
   ]
  },
  {
   "cell_type": "code",
   "execution_count": null,
   "id": "7e205f62-b882-44dc-b84d-56fed43d55a6",
   "metadata": {},
   "outputs": [],
   "source": [
    "test_rep = learn._get_data_representation(learn.eval_dataset)"
   ]
  },
  {
   "cell_type": "code",
   "execution_count": null,
   "id": "ef7cfbb6-29c0-4788-921b-b916d42a1e28",
   "metadata": {},
   "outputs": [],
   "source": [
    "model = CLS001(DistilBertConfig(), n_train=block.train.dset.n_data, n_test=block.test.dset.n_data, n_lbl=block.n_lbl, \n",
    "               batch_size=100, num_batch_labels=5000, margin=0.3, num_negatives=10, tau=0.1, apply_softmax=True)\n",
    "model.init_representation(train_rep, test_rep, lbl_rep)"
   ]
  },
  {
   "cell_type": "code",
   "execution_count": null,
   "id": "6010cc97-41d8-4770-9c6a-65613984c56e",
   "metadata": {},
   "outputs": [],
   "source": [
    "fname = f'{os.path.dirname(mname)}/representation'\n",
    "model.save_pretrained(fname)"
   ]
  },
  {
   "cell_type": "code",
   "execution_count": null,
   "id": "1f6ab43c-2f92-4f1a-a12e-04c50ec5d474",
   "metadata": {},
   "outputs": [],
   "source": [
    "o = learn.predict(block.test.dset)"
   ]
  },
  {
   "cell_type": "code",
   "execution_count": null,
   "id": "e4897629-42d8-4069-b96e-0655d85bfdcc",
   "metadata": {},
   "outputs": [],
   "source": [
    "display_metric(o.metrics)"
   ]
  }
 ],
 "metadata": {
  "kernelspec": {
   "display_name": "Python 3 (ipykernel)",
   "language": "python",
   "name": "python3"
  },
  "language_info": {
   "codemirror_mode": {
    "name": "ipython",
    "version": 3
   },
   "file_extension": ".py",
   "mimetype": "text/x-python",
   "name": "python",
   "nbconvert_exporter": "python",
   "pygments_lexer": "ipython3",
   "version": "3.9.19"
  }
 },
 "nbformat": 4,
 "nbformat_minor": 5
}
