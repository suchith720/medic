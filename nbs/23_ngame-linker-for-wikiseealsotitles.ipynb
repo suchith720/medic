{
 "cells": [
  {
   "cell_type": "code",
   "execution_count": 1,
   "id": "a4a1f892",
   "metadata": {},
   "outputs": [],
   "source": [
    "#| default_exp 23_ngame-linker-for-wikiseealsotitles"
   ]
  },
  {
   "cell_type": "code",
   "execution_count": 2,
   "id": "2b776411",
   "metadata": {},
   "outputs": [],
   "source": [
    "%load_ext autoreload\n",
    "%autoreload 2"
   ]
  },
  {
   "cell_type": "code",
   "execution_count": 3,
   "id": "8936c9e0",
   "metadata": {},
   "outputs": [
    {
     "name": "stderr",
     "output_type": "stream",
     "text": [
      "comet_ml is installed but `COMET_API_KEY` is not set.\n"
     ]
    }
   ],
   "source": [
    "#| export\n",
    "import os,torch, torch.multiprocessing as mp, pickle, numpy as np\n",
    "from scipy import sparse\n",
    "\n",
    "from xcai.basics import *\n",
    "from xcai.models.PPP0XX import DBT009,DBT011,DBT021\n",
    "from xcai.models.distillation import TCH001,DTL007,TCH003,DTL008\n",
    "from xcai.data import MetaXCDataset,XCDataset,MainXCDataset\n",
    "\n",
    "from transformers import DistilBertConfig"
   ]
  },
  {
   "cell_type": "code",
   "execution_count": 4,
   "id": "441a688e",
   "metadata": {},
   "outputs": [],
   "source": [
    "os.environ['WANDB_MODE'] = 'disabled'"
   ]
  },
  {
   "cell_type": "code",
   "execution_count": 5,
   "id": "8906ac95",
   "metadata": {},
   "outputs": [],
   "source": [
    "#| export\n",
    "os.environ['CUDA_VISIBLE_DEVICES'] = '0,1'\n",
    "os.environ['WANDB_PROJECT']='medic_00-wikiseealsotitles'"
   ]
  },
  {
   "cell_type": "markdown",
   "id": "79ba30c3-7843-455c-b7be-7e7b9886dc4b",
   "metadata": {},
   "source": [
    "## Load data"
   ]
  },
  {
   "cell_type": "code",
   "execution_count": 6,
   "id": "dc9d4936",
   "metadata": {},
   "outputs": [],
   "source": [
    "data_dir = '/home/scai/phd/aiz218323/Projects/XC_NLG/data'"
   ]
  },
  {
   "cell_type": "code",
   "execution_count": 62,
   "id": "ec3ad114",
   "metadata": {},
   "outputs": [
    {
     "name": "stderr",
     "output_type": "stream",
     "text": [
      "/home/scai/phd/aiz218323/.local/lib/python3.9/site-packages/xclib-0.97-py3.9-linux-x86_64.egg/xclib/data/data_utils.py:263: UserWarning: Header mis-match from inferred shape!\n",
      "  warnings.warn(\"Header mis-match from inferred shape!\")\n"
     ]
    }
   ],
   "source": [
    "block = XCBlock.from_cfg(data_dir, 'data_meta', transform_type='xcs', tokenizer='distilbert-base-uncased', \n",
    "                         sampling_features=[('lbl2data',4)], oversample=False)"
   ]
  },
  {
   "cell_type": "code",
   "execution_count": 7,
   "id": "00eddbb9-9c07-4223-beea-4a6f83f46ebb",
   "metadata": {},
   "outputs": [],
   "source": [
    "pkl_dir = '/home/scai/phd/aiz218323/scratch/datasets'\n",
    "pkl_file = f'{pkl_dir}/processed/wikiseealsotitles_data-meta_distilbert-base-uncased_xcs.pkl'"
   ]
  },
  {
   "cell_type": "code",
   "execution_count": 64,
   "id": "6ce105a1-b5be-4d0a-a75f-cc25e0404aaf",
   "metadata": {},
   "outputs": [],
   "source": [
    "with open(pkl_file, 'wb') as file: pickle.dump(block, file)"
   ]
  },
  {
   "cell_type": "code",
   "execution_count": 8,
   "id": "e695f233-d904-4c8a-8060-b17e45d91b62",
   "metadata": {},
   "outputs": [],
   "source": [
    "with open(pkl_file, 'rb') as file: block = pickle.load(file)"
   ]
  },
  {
   "cell_type": "markdown",
   "id": "99ed5832-3d33-49cb-8cf0-82f6e53f3697",
   "metadata": {},
   "source": [
    "## Linker task"
   ]
  },
  {
   "cell_type": "code",
   "execution_count": 9,
   "id": "710f44fc-f3ae-43c8-8578-66b71c644302",
   "metadata": {},
   "outputs": [],
   "source": [
    "#| export\n",
    "def get_meta_dataset(meta, idx):\n",
    "    data_meta = meta.data_meta[:, idx]\n",
    "    lbl_meta = meta.lbl_meta[:, idx]\n",
    "    meta_info = {k:[v[i] for i in idx] for k,v in meta.meta_info.items()}\n",
    "    return MetaXCDataset(meta.prefix, data_meta, lbl_meta, meta_info)\n",
    "    \n",
    "def threshold_meta_dataset(train_meta, test_meta, thresh=100):\n",
    "    nnz = train_meta.data_meta.getnnz(axis=0)\n",
    "    idx = np.where(np.logical_and(nnz < thresh, nnz > 0))[0]\n",
    "    return get_meta_dataset(train_meta, idx), get_meta_dataset(test_meta, idx)\n",
    "    "
   ]
  },
  {
   "cell_type": "code",
   "execution_count": null,
   "id": "19f63d4f-eb0a-4d8e-9d4c-8e3d2a2d4c42",
   "metadata": {},
   "outputs": [],
   "source": []
  },
  {
   "cell_type": "code",
   "execution_count": 10,
   "id": "4561bf7f-677f-49e0-bb89-f5e12f56ad35",
   "metadata": {},
   "outputs": [],
   "source": [
    "train_meta, test_meta = threshold_meta_dataset(block.train.dset.meta['cat_meta'], block.test.dset.meta['cat_meta'], thresh=100)\n",
    "block.train.dset.meta['cat_meta'], block.test.dset.meta['cat_meta'] = train_meta, test_meta"
   ]
  },
  {
   "cell_type": "code",
   "execution_count": null,
   "id": "e8aa2538-a6ec-472c-93d7-4b3b70e43c70",
   "metadata": {},
   "outputs": [],
   "source": []
  },
  {
   "cell_type": "code",
   "execution_count": 11,
   "id": "d85a1f50-233e-4581-a8a6-8e386870c7f2",
   "metadata": {},
   "outputs": [],
   "source": [
    "train_idx = np.where(block.train.dset.meta['cat_meta'].data_meta.getnnz(axis=1) > 0)[0]\n",
    "train_block = block.train._getitems(train_idx)"
   ]
  },
  {
   "cell_type": "code",
   "execution_count": 12,
   "id": "0bbe8020-99cb-43b8-bb5c-aee935eae9cf",
   "metadata": {},
   "outputs": [],
   "source": [
    "test_idx = np.where(block.test.dset.meta['cat_meta'].data_meta.getnnz(axis=1) > 0)[0]\n",
    "test_block = block.test._getitems(test_idx)"
   ]
  },
  {
   "cell_type": "code",
   "execution_count": null,
   "id": "ce1e3194-cd74-4821-881b-7dc0850fd8d1",
   "metadata": {},
   "outputs": [],
   "source": []
  },
  {
   "cell_type": "code",
   "execution_count": 13,
   "id": "ebe86c3d-23b7-4ae7-b677-546b7574b1c2",
   "metadata": {},
   "outputs": [],
   "source": [
    "sal_meta = MetaXCDataset('sal', train_block.dset.data.data_lbl, train_block.dset.meta['cat_meta'].lbl_meta.T, \n",
    "                         train_block.dset.data.lbl_info)\n",
    "train_dset = XCDataset(MainXCDataset(train_block.dset.data.data_info, train_block.dset.meta.cat_meta.data_meta, \n",
    "                                     train_block.dset.meta.cat_meta.meta_info), sal_meta=sal_meta)"
   ]
  },
  {
   "cell_type": "code",
   "execution_count": 14,
   "id": "8c485b2a-517c-47b7-b587-159d6c2bcc59",
   "metadata": {},
   "outputs": [],
   "source": [
    "sal_meta = MetaXCDataset('sal', test_block.dset.data.data_lbl, test_block.dset.meta['cat_meta'].lbl_meta.T, \n",
    "                         test_block.dset.data.lbl_info)\n",
    "test_dset = XCDataset(MainXCDataset(test_block.dset.data.data_info, test_block.dset.meta.cat_meta.data_meta, \n",
    "                                    test_block.dset.meta.cat_meta.meta_info))"
   ]
  },
  {
   "cell_type": "code",
   "execution_count": 15,
   "id": "8643265a-4c4c-4853-8275-e0262cf27394",
   "metadata": {},
   "outputs": [],
   "source": [
    "block.collator.tfms.tfms[0].sampling_features = [('lbl2data,sal2lbl2data', (4,1)), ('sal2data', 1)]"
   ]
  },
  {
   "cell_type": "markdown",
   "id": "1ad847e4-0b9a-4706-beb7-0c887da9712f",
   "metadata": {
    "jp-MarkdownHeadingCollapsed": true
   },
   "source": [
    "## Training"
   ]
  },
  {
   "cell_type": "code",
   "execution_count": 16,
   "id": "a84c8fe7-fe8f-46d2-8bfd-de1c50333693",
   "metadata": {},
   "outputs": [],
   "source": [
    "args = XCLearningArguments(\n",
    "    output_dir='/home/scai/phd/aiz218323/scratch/outputs/medic/23_ngame-linker-for-wikiseealsotitles',\n",
    "    logging_first_step=True,\n",
    "    per_device_train_batch_size=10, #800,\n",
    "    per_device_eval_batch_size=10, #800,\n",
    "    representation_num_beams=200,\n",
    "    representation_accumulation_steps=10,\n",
    "    save_strategy=\"steps\",\n",
    "    evaluation_strategy=\"steps\",\n",
    "    eval_steps=5000,\n",
    "    save_steps=5000,\n",
    "    save_total_limit=5,\n",
    "    num_train_epochs=300,\n",
    "    predict_with_representation=True,\n",
    "    representation_search_type='BRUTEFORCE',\n",
    "    adam_epsilon=1e-6,\n",
    "    warmup_steps=100,\n",
    "    weight_decay=0.01,\n",
    "    learning_rate=2e-4,\n",
    "    \n",
    "    group_by_cluster=True,\n",
    "    num_clustering_warmup_epochs=10,\n",
    "    num_cluster_update_epochs=5,\n",
    "    num_cluster_size_update_epochs=25,\n",
    "    clustering_type='EXPO',\n",
    "    minimum_cluster_size=2,\n",
    "    maximum_cluster_size=1600,\n",
    "    \n",
    "    metric_for_best_model='P@1',\n",
    "    load_best_model_at_end=True,\n",
    "    target_indices_key='plbl2data_idx',\n",
    "    target_pointer_key='plbl2data_data2ptr',\n",
    "    \n",
    "    use_encoder_parallel=True,\n",
    "    max_grad_norm=None,\n",
    "    fp16=True,\n",
    "\n",
    "    label_names=['lbl2data_idx', 'lbl2data_input_ids', 'lbl2data_attention_mask',\n",
    "                 'sal2data_idx', 'sal2data_input_ids', 'sal2data_attention_mask',\n",
    "                 'sal2lbl2data_idx', 'sal2lbl2data_input_ids', 'sal2lbl2data_attention_mask'],\n",
    "\n",
    "    prune_metadata=True,\n",
    "    num_metadata_prune_warmup_epochs=0,\n",
    "    num_metadata_prune_epochs=5,\n",
    "    metadata_prune_batch_size=2048,\n",
    "    prune_metadata_names=['sal_meta'],\n",
    "    use_data_metadata_for_pruning=True,\n",
    "    prune_metadata_threshold=0.0,\n",
    "    prune_metadata_topk=3,\n",
    ")"
   ]
  },
  {
   "cell_type": "code",
   "execution_count": 17,
   "id": "6f4f727e-0865-4894-89d8-c737a3edad90",
   "metadata": {},
   "outputs": [],
   "source": [
    "model_output = '/home/scai/phd/aiz218323/scratch/outputs/67-ngame-ep-for-wikiseealso-with-input-concatenation-1-4'\n",
    "\n",
    "teacher = TCH001.from_pretrained(f'{model_output}/teacher', n_data=block.train.dset.n_data, n_lbl=block.n_lbl)\n",
    "teacher.freeze_embeddings()"
   ]
  },
  {
   "cell_type": "code",
   "execution_count": 18,
   "id": "5cdfab2b-290f-4d98-99ce-8a6090f4129a",
   "metadata": {},
   "outputs": [],
   "source": [
    "m_teacher = TCH003(DistilBertConfig(), n_data=len(train_idx))\n",
    "m_teacher.init_embeddings(teacher.data_repr.weight.data[train_idx])\n",
    "m_teacher.freeze_embeddings()"
   ]
  },
  {
   "cell_type": "code",
   "execution_count": null,
   "id": "4e976c9b-bd8b-45cb-b3a5-4e56ee066f3e",
   "metadata": {},
   "outputs": [],
   "source": []
  },
  {
   "cell_type": "code",
   "execution_count": 19,
   "id": "a173b60c-3d15-40b5-9465-dd65bc544755",
   "metadata": {},
   "outputs": [
    {
     "name": "stderr",
     "output_type": "stream",
     "text": [
      "Some weights of DBT021 were not initialized from the model checkpoint at sentence-transformers/msmarco-distilbert-base-v4 and are newly initialized: ['encoder.dr_layer_norm.bias', 'encoder.dr_layer_norm.weight', 'encoder.dr_projector.bias', 'encoder.dr_projector.weight', 'encoder.dr_transform.bias', 'encoder.dr_transform.weight', 'encoder.meta_layer_norm.bias', 'encoder.meta_layer_norm.weight', 'encoder.meta_projector.bias', 'encoder.meta_projector.weight', 'encoder.meta_transform.bias', 'encoder.meta_transform.weight']\n",
      "You should probably TRAIN this model on a down-stream task to be able to use it for predictions and inference.\n"
     ]
    }
   ],
   "source": [
    "bsz = max(args.per_device_train_batch_size, args.per_device_eval_batch_size)*torch.cuda.device_count()\n",
    "\n",
    "m_student = DBT021.from_pretrained('sentence-transformers/msmarco-distilbert-base-v4', bsz=bsz, tn_targ=1000, margin=0.3, tau=0.1, \n",
    "                                   apply_softmax=True, n_negatives=10, m_lw=0.2, data_meta_prefix='sal2data', \n",
    "                                   lbl2data_meta_prefix='sal2lbl', use_encoder_parallel=False, task_repr_type='pool', meta_repr_type='pool')\n",
    "m_student.init_dr_head()"
   ]
  },
  {
   "cell_type": "code",
   "execution_count": 20,
   "id": "248c5884-f80c-4249-ad63-0f707a3d1ef5",
   "metadata": {},
   "outputs": [],
   "source": [
    "model = DTL008(DistilBertConfig(), m_student=m_student, m_teacher=m_teacher, bsz=bsz, tn_targ=5000, margin=0.3, tau=0.1, \n",
    "               n_negatives=10, apply_softmax=True, teacher_data_student_label_loss_weight=1.0, data_mse_loss_weight=0.1)"
   ]
  },
  {
   "cell_type": "code",
   "execution_count": null,
   "id": "f5316993-5063-405f-8b98-0ae3e4ecb9a1",
   "metadata": {},
   "outputs": [],
   "source": []
  },
  {
   "cell_type": "code",
   "execution_count": 21,
   "id": "d14de7e1-5e7a-4790-a170-e88112ca3d8e",
   "metadata": {},
   "outputs": [],
   "source": [
    "metric = PrecRecl(block.n_lbl, block.test.data_lbl_filterer, prop=block.train.dset.data.data_lbl,\n",
    "                  pk=10, rk=200, rep_pk=[1, 3, 5, 10], rep_rk=[10, 100, 200])"
   ]
  },
  {
   "cell_type": "code",
   "execution_count": 22,
   "id": "48f193be-7e42-40a3-9de3-c4326933838c",
   "metadata": {},
   "outputs": [
    {
     "name": "stderr",
     "output_type": "stream",
     "text": [
      "/scratch/scai/phd/aiz218323/anaconda3/envs/xc_nlg/lib/python3.9/site-packages/accelerate/accelerator.py:432: FutureWarning: Passing the following arguments to `Accelerator` is deprecated and will be removed in version 1.0 of Accelerate: dict_keys(['dispatch_batches', 'split_batches', 'even_batches', 'use_seedable_sampler']). Please pass an `accelerate.DataLoaderConfiguration` instead: \n",
      "dataloader_config = DataLoaderConfiguration(dispatch_batches=None, split_batches=False, even_batches=True, use_seedable_sampler=True)\n",
      "  warnings.warn(\n",
      "Detected kernel version 3.10.0, which is below the recommended minimum of 5.5.0; this can cause the process to hang. It is recommended to upgrade the kernel to the minimum version or higher.\n"
     ]
    }
   ],
   "source": [
    "learn = XCLearner(\n",
    "    model=model, \n",
    "    args=args,\n",
    "    train_dataset=train_dset,\n",
    "    eval_dataset=test_dset,\n",
    "    data_collator=block.collator,\n",
    "    compute_metrics=metric,\n",
    ")"
   ]
  },
  {
   "cell_type": "code",
   "execution_count": 23,
   "id": "7d25584e-7254-482d-b9c1-d244f7ba3fe3",
   "metadata": {},
   "outputs": [],
   "source": [
    "bb = next(iter(learn.get_train_dataloader()))"
   ]
  },
  {
   "cell_type": "code",
   "execution_count": 24,
   "id": "f2663884-5190-4127-bd8b-25af15a769ad",
   "metadata": {},
   "outputs": [
    {
     "data": {
      "text/plain": [
       "dict_keys(['plbl2data_idx', 'plbl2data_data2ptr', 'lbl2data_idx', 'lbl2data_input_ids', 'lbl2data_attention_mask', 'lbl2data_data2ptr', 'psal2lbl_idx', 'psal2lbl_data2ptr', 'psal2lbl_lbl2data2ptr', 'sal2lbl_data2ptr', 'sal2lbl_lbl2data2ptr', 'sal2lbl_idx', 'sal2lbl_input_ids', 'sal2lbl_attention_mask', 'psal2data_idx', 'psal2data_data2ptr', 'sal2data_idx', 'sal2data_input_ids', 'sal2data_attention_mask', 'sal2data_data2ptr', 'data_input_ids', 'data_attention_mask', 'data_idx'])"
      ]
     },
     "execution_count": 24,
     "metadata": {},
     "output_type": "execute_result"
    }
   ],
   "source": [
    "bb.keys()"
   ]
  },
  {
   "cell_type": "code",
   "execution_count": 28,
   "id": "976a2c59-821b-4a0c-88e1-cbb4bc87c8b0",
   "metadata": {},
   "outputs": [],
   "source": [
    "o = model(**bb.to(model.device))"
   ]
  },
  {
   "cell_type": "code",
   "execution_count": null,
   "id": "deba5a8a-e183-4aef-b327-52be253bbcd0",
   "metadata": {},
   "outputs": [],
   "source": [
    "learn.train()"
   ]
  },
  {
   "cell_type": "markdown",
   "id": "b3609898-94ec-41ab-9a70-cc0bcf8cbb5d",
   "metadata": {},
   "source": [
    "## Driver"
   ]
  },
  {
   "cell_type": "code",
   "execution_count": null,
   "id": "2bd5f9db-a09d-4d30-b790-c799f48c704a",
   "metadata": {},
   "outputs": [],
   "source": [
    "#| export\n",
    "if __name__ == '__main__':\n",
    "    build_block = False\n",
    "\n",
    "    meta_freq_threshold=100\n",
    "    pkl_dir = '/home/scai/phd/aiz218323/scratch/datasets'\n",
    "    data_dir = '/home/scai/phd/aiz218323/Projects/XC_NLG/data'\n",
    "\n",
    "    output_dir = '/home/scai/phd/aiz218323/scratch/outputs/medic/23_ngame-linker-for-wikiseealsotitles'\n",
    "    model_output = '/home/scai/phd/aiz218323/scratch/outputs/67-ngame-ep-for-wikiseealso-with-input-concatenation-1-4'\n",
    "\n",
    "    \"\"\" Load data \"\"\"\n",
    "    pkl_file = f'{pkl_dir}/processed/wikiseealsotitles_data-meta_distilbert-base-uncased_xcs.pkl'\n",
    "    if build_block:\n",
    "        block = XCBlock.from_cfg(data_dir, 'data_meta', transform_type='xcs', tokenizer='distilbert-base-uncased', \n",
    "                                 sampling_features=[('lbl2data', 4)], oversample=True)\n",
    "        with open(pkl_file, 'wb') as file: pickle.dump(block, file)\n",
    "    else:\n",
    "        with open(pkl_file, 'rb') as file: block = pickle.load(file)\n",
    "\n",
    "    \"\"\" Linker dataset \"\"\"\n",
    "    train_meta, test_meta = threshold_meta_dataset(block.train.dset.meta['cat_meta'], block.test.dset.meta['cat_meta'], thresh=100)\n",
    "    block.train.dset.meta['cat_meta'], block.test.dset.meta['cat_meta'] = train_meta, test_meta\n",
    "\n",
    "    train_idx = np.where(block.train.dset.meta['cat_meta'].data_meta.getnnz(axis=1) > 0)[0]\n",
    "    train_block = block.train._getitems(train_idx)\n",
    "    test_idx = np.where(block.test.dset.meta['cat_meta'].data_meta.getnnz(axis=1) > 0)[0]\n",
    "    test_block = block.test._getitems(test_idx)\n",
    "\n",
    "    sal_meta = MetaXCDataset('sal', train_block.dset.data.data_lbl, train_block.dset.meta['cat_meta'].lbl_meta.T, \n",
    "                             train_block.dset.data.lbl_info)\n",
    "    train_dset = XCDataset(MainXCDataset(train_block.dset.data.data_info, train_block.dset.meta.cat_meta.data_meta, \n",
    "                                         train_block.dset.meta.cat_meta.meta_info), sal_meta=sal_meta)\n",
    "    sal_meta = MetaXCDataset('sal', test_block.dset.data.data_lbl, test_block.dset.meta['cat_meta'].lbl_meta.T, \n",
    "                             test_block.dset.data.lbl_info)\n",
    "    test_dset = XCDataset(MainXCDataset(test_block.dset.data.data_info, test_block.dset.meta.cat_meta.data_meta, \n",
    "                                        test_block.dset.meta.cat_meta.meta_info))\n",
    "\n",
    "    block.collator.tfms.tfms[0].sampling_features = [('lbl2data,sal2lbl2data', (4,1)), ('sal2data', 1)]\n",
    "    \n",
    "\n",
    "    \"\"\" Training arguements \"\"\"\n",
    "    args = XCLearningArguments(\n",
    "        output_dir=output_dir,\n",
    "        logging_first_step=True,\n",
    "        per_device_train_batch_size=800,\n",
    "        per_device_eval_batch_size=800,\n",
    "        representation_num_beams=200,\n",
    "        representation_accumulation_steps=10,\n",
    "        save_strategy=\"steps\",\n",
    "        evaluation_strategy=\"steps\",\n",
    "        eval_steps=5000,\n",
    "        save_steps=5000,\n",
    "        save_total_limit=5,\n",
    "        num_train_epochs=300,\n",
    "        predict_with_representation=True,\n",
    "        representation_search_type='BRUTEFORCE',\n",
    "        adam_epsilon=1e-6,\n",
    "        warmup_steps=100,\n",
    "        weight_decay=0.01,\n",
    "        learning_rate=2e-4,\n",
    "    \n",
    "        group_by_cluster=True,\n",
    "        num_clustering_warmup_epochs=10,\n",
    "        num_cluster_update_epochs=5,\n",
    "        num_cluster_size_update_epochs=25,\n",
    "        clustering_type='EXPO',\n",
    "        minimum_cluster_size=2,\n",
    "        maximum_cluster_size=1600,\n",
    "        \n",
    "        metric_for_best_model='P@1',\n",
    "        load_best_model_at_end=True,\n",
    "        target_indices_key='plbl2data_idx',\n",
    "        target_pointer_key='plbl2data_data2ptr',\n",
    "        \n",
    "        use_encoder_parallel=True,\n",
    "        max_grad_norm=None,\n",
    "        fp16=True,\n",
    "    \n",
    "        label_names=['lbl2data_idx', 'lbl2data_input_ids', 'lbl2data_attention_mask',\n",
    "                     'sal2data_idx', 'sal2data_input_ids', 'sal2data_attention_mask',\n",
    "                     'sal2lbl2data_idx', 'sal2lbl2data_input_ids', 'sal2lbl2data_attention_mask'],\n",
    "\n",
    "        prune_metadata=True,\n",
    "        num_metadata_prune_warmup_epochs=0,\n",
    "        num_metadata_prune_epochs=5,\n",
    "        metadata_prune_batch_size=2048,\n",
    "        prune_metadata_names=['sal_meta'],\n",
    "        use_data_metadata_for_pruning=True,\n",
    "        prune_metadata_threshold=0.0,\n",
    "        prune_metadata_topk=3,\n",
    "    )\n",
    "\n",
    "    metric = PrecRecl(block.n_lbl, block.test.data_lbl_filterer, prop=block.train.dset.data.data_lbl,\n",
    "                      pk=10, rk=200, rep_pk=[1, 3, 5, 10], rep_rk=[10, 100, 200])\n",
    "\n",
    "    \"\"\" Model \"\"\"\n",
    "    teacher = TCH001.from_pretrained(f'{model_output}/teacher', n_data=block.train.dset.n_data, n_lbl=block.n_lbl)\n",
    "    teacher.freeze_embeddings()\n",
    "    m_teacher = TCH003(DistilBertConfig(), n_data=len(train_idx))\n",
    "    m_teacher.init_embeddings(teacher.data_repr.weight.data[train_idx])\n",
    "    m_teacher.freeze_embeddings()\n",
    "\n",
    "    bsz = max(args.per_device_train_batch_size, args.per_device_eval_batch_size)*torch.cuda.device_count()\n",
    "\n",
    "    m_student = DBT021.from_pretrained('sentence-transformers/msmarco-distilbert-base-v4', bsz=bsz, tn_targ=1000, margin=0.3, tau=0.1, \n",
    "                                       apply_softmax=True, n_negatives=10, m_lw=0.2, data_meta_prefix='sal2data', \n",
    "                                       lbl2data_meta_prefix='sal2lbl', use_encoder_parallel=True, task_repr_type='pool', \n",
    "                                       meta_repr_type='pool')\n",
    "    m_student.init_dr_head()\n",
    "\n",
    "    model = DTL008(DistilBertConfig(), m_student=m_student, m_teacher=m_teacher, bsz=bsz, tn_targ=5000, margin=0.3, tau=0.1, \n",
    "                   n_negatives=10, apply_softmax=True, teacher_data_student_label_loss_weight=1.0, data_mse_loss_weight=0.1)\n",
    "    \n",
    "\n",
    "    \"\"\" Training \"\"\"\n",
    "    learn = XCLearner(\n",
    "        model=model, \n",
    "        args=args,\n",
    "        train_dataset=train_dset,\n",
    "        eval_dataset=test_dset,\n",
    "        data_collator=block.collator,\n",
    "        compute_metrics=metric,\n",
    "    )\n",
    "    \n",
    "    mp.freeze_support()\n",
    "    learn.train()\n",
    "    "
   ]
  },
  {
   "cell_type": "code",
   "execution_count": null,
   "id": "3e1ce510-6668-4fe7-b56f-db60c5478b15",
   "metadata": {},
   "outputs": [],
   "source": []
  }
 ],
 "metadata": {
  "kernelspec": {
   "display_name": "Python 3 (ipykernel)",
   "language": "python",
   "name": "python3"
  },
  "language_info": {
   "codemirror_mode": {
    "name": "ipython",
    "version": 3
   },
   "file_extension": ".py",
   "mimetype": "text/x-python",
   "name": "python",
   "nbconvert_exporter": "python",
   "pygments_lexer": "ipython3",
   "version": "3.9.19"
  }
 },
 "nbformat": 4,
 "nbformat_minor": 5
}
