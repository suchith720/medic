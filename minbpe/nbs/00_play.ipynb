{
 "cells": [
  {
   "cell_type": "code",
   "execution_count": 1,
   "metadata": {},
   "outputs": [],
   "source": [
    "#| hide\n",
    "from nbdev.showdoc import *\n",
    "import nbdev; nbdev.nbdev_export()"
   ]
  },
  {
   "cell_type": "code",
   "execution_count": 2,
   "metadata": {},
   "outputs": [],
   "source": [
    "s = \"मेरा नाम सुचित प्रभु 😎\""
   ]
  },
  {
   "cell_type": "code",
   "execution_count": 4,
   "metadata": {},
   "outputs": [
    {
     "data": {
      "text/plain": [
       "(2366, 'ा')"
      ]
     },
     "execution_count": 4,
     "metadata": {},
     "output_type": "execute_result"
    }
   ],
   "source": [
    "ord(s[3]), chr(2366)"
   ]
  },
  {
   "cell_type": "code",
   "execution_count": 5,
   "metadata": {
    "scrolled": true
   },
   "outputs": [
    {
     "data": {
      "text/plain": [
       "[2350,\n",
       " 2375,\n",
       " 2352,\n",
       " 2366,\n",
       " 32,\n",
       " 2344,\n",
       " 2366,\n",
       " 2350,\n",
       " 32,\n",
       " 2360,\n",
       " 2369,\n",
       " 2330,\n",
       " 2367,\n",
       " 2340,\n",
       " 32,\n",
       " 2346,\n",
       " 2381,\n",
       " 2352,\n",
       " 2349,\n",
       " 2369,\n",
       " 32,\n",
       " 128526]"
      ]
     },
     "execution_count": 5,
     "metadata": {},
     "output_type": "execute_result"
    }
   ],
   "source": [
    "[ord(o) for o in s]"
   ]
  },
  {
   "cell_type": "code",
   "execution_count": 6,
   "metadata": {
    "scrolled": true
   },
   "outputs": [
    {
     "data": {
      "text/plain": [
       "[224,\n",
       " 164,\n",
       " 174,\n",
       " 224,\n",
       " 165,\n",
       " 135,\n",
       " 224,\n",
       " 164,\n",
       " 176,\n",
       " 224,\n",
       " 164,\n",
       " 190,\n",
       " 32,\n",
       " 224,\n",
       " 164,\n",
       " 168,\n",
       " 224,\n",
       " 164,\n",
       " 190,\n",
       " 224,\n",
       " 164,\n",
       " 174,\n",
       " 32,\n",
       " 224,\n",
       " 164,\n",
       " 184,\n",
       " 224,\n",
       " 165,\n",
       " 129,\n",
       " 224,\n",
       " 164,\n",
       " 154,\n",
       " 224,\n",
       " 164,\n",
       " 191,\n",
       " 224,\n",
       " 164,\n",
       " 164,\n",
       " 32,\n",
       " 224,\n",
       " 164,\n",
       " 170,\n",
       " 224,\n",
       " 165,\n",
       " 141,\n",
       " 224,\n",
       " 164,\n",
       " 176,\n",
       " 224,\n",
       " 164,\n",
       " 173,\n",
       " 224,\n",
       " 165,\n",
       " 129,\n",
       " 32,\n",
       " 240,\n",
       " 159,\n",
       " 152,\n",
       " 142]"
      ]
     },
     "execution_count": 6,
     "metadata": {},
     "output_type": "execute_result"
    }
   ],
   "source": [
    "list(s.encode('utf-8'))"
   ]
  },
  {
   "cell_type": "code",
   "execution_count": 7,
   "metadata": {},
   "outputs": [
    {
     "name": "stdout",
     "output_type": "stream",
     "text": [
      "----\n",
      "Ｕｎｉｃｏｄｅ! 🅤🅝🅘🅒🅞🅓🅔‽ 🇺‌🇳‌🇮‌🇨‌🇴‌🇩‌🇪! 😄 The very name strikes fear and awe into the hearts of programmers worldwide. We all know we ought to “support Unicode” in our software (whatever that means—like using wchar_t for all the strings, right?). But Unicode can be abstruse, and diving into the thousand-page Unicode Standard plus its dozens of supplementary annexes, reports, and notes can be more than a little intimidating. I don’t blame programmers for still finding the whole thing mysterious, even 30 years after Unicode’s inception.\n",
      "length: 533\n",
      "----\n",
      "[239, 188, 181, 239, 189, 142, 239, 189, 137, 239, 189, 131, 239, 189, 143, 239, 189, 132, 239, 189, 133, 33, 32, 240, 159, 133, 164, 240, 159, 133, 157, 240, 159, 133, 152, 240, 159, 133, 146, 240, 159, 133, 158, 240, 159, 133, 147, 240, 159, 133, 148, 226, 128, 189, 32, 240, 159, 135, 186, 226, 128, 140, 240, 159, 135, 179, 226, 128, 140, 240, 159, 135, 174, 226, 128, 140, 240, 159, 135, 168, 226, 128, 140, 240, 159, 135, 180, 226, 128, 140, 240, 159, 135, 169, 226, 128, 140, 240, 159, 135, 170, 33, 32, 240, 159, 152, 132, 32, 84, 104, 101, 32, 118, 101, 114, 121, 32, 110, 97, 109, 101, 32, 115, 116, 114, 105, 107, 101, 115, 32, 102, 101, 97, 114, 32, 97, 110, 100, 32, 97, 119, 101, 32, 105, 110, 116, 111, 32, 116, 104, 101, 32, 104, 101, 97, 114, 116, 115, 32, 111, 102, 32, 112, 114, 111, 103, 114, 97, 109, 109, 101, 114, 115, 32, 119, 111, 114, 108, 100, 119, 105, 100, 101, 46, 32, 87, 101, 32, 97, 108, 108, 32, 107, 110, 111, 119, 32, 119, 101, 32, 111, 117, 103, 104, 116, 32, 116, 111, 32, 226, 128, 156, 115, 117, 112, 112, 111, 114, 116, 32, 85, 110, 105, 99, 111, 100, 101, 226, 128, 157, 32, 105, 110, 32, 111, 117, 114, 32, 115, 111, 102, 116, 119, 97, 114, 101, 32, 40, 119, 104, 97, 116, 101, 118, 101, 114, 32, 116, 104, 97, 116, 32, 109, 101, 97, 110, 115, 226, 128, 148, 108, 105, 107, 101, 32, 117, 115, 105, 110, 103, 32, 119, 99, 104, 97, 114, 95, 116, 32, 102, 111, 114, 32, 97, 108, 108, 32, 116, 104, 101, 32, 115, 116, 114, 105, 110, 103, 115, 44, 32, 114, 105, 103, 104, 116, 63, 41, 46, 32, 66, 117, 116, 32, 85, 110, 105, 99, 111, 100, 101, 32, 99, 97, 110, 32, 98, 101, 32, 97, 98, 115, 116, 114, 117, 115, 101, 44, 32, 97, 110, 100, 32, 100, 105, 118, 105, 110, 103, 32, 105, 110, 116, 111, 32, 116, 104, 101, 32, 116, 104, 111, 117, 115, 97, 110, 100, 45, 112, 97, 103, 101, 32, 85, 110, 105, 99, 111, 100, 101, 32, 83, 116, 97, 110, 100, 97, 114, 100, 32, 112, 108, 117, 115, 32, 105, 116, 115, 32, 100, 111, 122, 101, 110, 115, 32, 111, 102, 32, 115, 117, 112, 112, 108, 101, 109, 101, 110, 116, 97, 114, 121, 32, 97, 110, 110, 101, 120, 101, 115, 44, 32, 114, 101, 112, 111, 114, 116, 115, 44, 32, 97, 110, 100, 32, 110, 111, 116, 101, 115, 32, 99, 97, 110, 32, 98, 101, 32, 109, 111, 114, 101, 32, 116, 104, 97, 110, 32, 97, 32, 108, 105, 116, 116, 108, 101, 32, 105, 110, 116, 105, 109, 105, 100, 97, 116, 105, 110, 103, 46, 32, 73, 32, 100, 111, 110, 226, 128, 153, 116, 32, 98, 108, 97, 109, 101, 32, 112, 114, 111, 103, 114, 97, 109, 109, 101, 114, 115, 32, 102, 111, 114, 32, 115, 116, 105, 108, 108, 32, 102, 105, 110, 100, 105, 110, 103, 32, 116, 104, 101, 32, 119, 104, 111, 108, 101, 32, 116, 104, 105, 110, 103, 32, 109, 121, 115, 116, 101, 114, 105, 111, 117, 115, 44, 32, 101, 118, 101, 110, 32, 51, 48, 32, 121, 101, 97, 114, 115, 32, 97, 102, 116, 101, 114, 32, 85, 110, 105, 99, 111, 100, 101, 226, 128, 153, 115, 32, 105, 110, 99, 101, 112, 116, 105, 111, 110, 46]\n",
      "length : 616\n"
     ]
    }
   ],
   "source": [
    "text = \"Ｕｎｉｃｏｄｅ! 🅤🅝🅘🅒🅞🅓🅔‽ 🇺‌🇳‌🇮‌🇨‌🇴‌🇩‌🇪! 😄 The very name strikes fear and awe into the hearts of programmers worldwide. We all know we ought to “support Unicode” in our software (whatever that means—like using wchar_t for all the strings, right?). But Unicode can be abstruse, and diving into the thousand-page Unicode Standard plus its dozens of supplementary annexes, reports, and notes can be more than a little intimidating. I don’t blame programmers for still finding the whole thing mysterious, even 30 years after Unicode’s inception.\"\n",
    "tokens = list(map(int, text.encode('utf-8')))\n",
    "\n",
    "print(\"----\")\n",
    "print(text)\n",
    "print(f'length: {len(text)}')\n",
    "\n",
    "print(\"----\")\n",
    "print(tokens)\n",
    "print(f'length : {len(tokens)}')"
   ]
  },
  {
   "cell_type": "code",
   "execution_count": 8,
   "metadata": {},
   "outputs": [],
   "source": [
    "def get_stats(ids):\n",
    "    counts = {}\n",
    "    for pair in zip(ids, ids[1:]):\n",
    "        counts[pair] = counts.get(pair, 0) + 1\n",
    "    return counts\n",
    "    "
   ]
  },
  {
   "cell_type": "code",
   "execution_count": 9,
   "metadata": {},
   "outputs": [],
   "source": [
    "stat = get_stats(tokens)"
   ]
  },
  {
   "cell_type": "code",
   "execution_count": 10,
   "metadata": {},
   "outputs": [
    {
     "name": "stdout",
     "output_type": "stream",
     "text": [
      "[(20, (101, 32)), (15, (240, 159)), (12, (226, 128)), (12, (105, 110)), (10, (115, 32)), (10, (97, 110)), (10, (32, 97)), (9, (32, 116)), (8, (116, 104)), (7, (159, 135)), (7, (159, 133)), (7, (97, 114)), (6, (239, 189)), (6, (140, 240)), (6, (128, 140)), (6, (116, 32)), (6, (114, 32)), (6, (111, 114)), (6, (110, 103)), (6, (110, 100)), (6, (109, 101)), (6, (104, 101)), (6, (101, 114)), (6, (32, 105)), (5, (117, 115)), (5, (115, 116)), (5, (110, 32)), (5, (100, 101)), (5, (44, 32)), (5, (32, 115)), (4, (116, 105)), (4, (116, 101)), (4, (115, 44)), (4, (114, 105)), (4, (111, 117)), (4, (111, 100)), (4, (110, 116)), (4, (110, 105)), (4, (105, 99)), (4, (104, 97)), (4, (103, 32)), (4, (101, 97)), (4, (100, 32)), (4, (99, 111)), (4, (97, 109)), (4, (85, 110)), (4, (32, 119)), (4, (32, 111)), (4, (32, 102)), (4, (32, 85)), (3, (118, 101)), (3, (116, 115)), (3, (116, 114)), (3, (116, 111)), (3, (114, 116)), (3, (114, 115)), (3, (114, 101)), (3, (111, 102)), (3, (111, 32)), (3, (108, 108)), (3, (108, 101)), (3, (108, 32)), (3, (101, 115)), (3, (101, 110)), (3, (97, 116)), (3, (46, 32)), (3, (32, 240)), (3, (32, 112)), (3, (32, 109)), (3, (32, 100)), (3, (32, 98)), (2, (128, 153)), (2, (121, 32)), (2, (119, 104)), (2, (119, 101)), (2, (117, 112)), (2, (116, 97)), (2, (115, 117)), (2, (114, 121)), (2, (114, 111)), (2, (114, 97)), (2, (112, 114)), (2, (112, 112)), (2, (112, 111)), (2, (112, 108)), (2, (111, 110)), (2, (111, 103)), (2, (110, 115)), (2, (110, 111)), (2, (109, 109)), (2, (108, 105)), (2, (107, 101)), (2, (105, 116)), (2, (105, 111)), (2, (105, 107)), (2, (105, 100)), (2, (104, 116)), (2, (104, 111)), (2, (103, 114)), (2, (103, 104)), (2, (102, 116)), (2, (102, 111)), (2, (102, 32)), (2, (101, 226)), (2, (101, 118)), (2, (101, 112)), (2, (100, 111)), (2, (100, 105)), (2, (100, 97)), (2, (99, 97)), (2, (98, 101)), (2, (97, 108)), (2, (33, 32)), (2, (32, 114)), (2, (32, 110)), (2, (32, 99)), (1, (239, 188)), (1, (189, 143)), (1, (189, 142)), (1, (189, 137)), (1, (189, 133)), (1, (189, 132)), (1, (189, 131)), (1, (189, 32)), (1, (188, 181)), (1, (186, 226)), (1, (181, 239)), (1, (180, 226)), (1, (179, 226)), (1, (174, 226)), (1, (170, 33)), (1, (169, 226)), (1, (168, 226)), (1, (164, 240)), (1, (159, 152)), (1, (158, 240)), (1, (157, 240)), (1, (157, 32)), (1, (156, 115)), (1, (153, 116)), (1, (153, 115)), (1, (152, 240)), (1, (152, 132)), (1, (148, 226)), (1, (148, 108)), (1, (147, 240)), (1, (146, 240)), (1, (143, 239)), (1, (142, 239)), (1, (137, 239)), (1, (135, 186)), (1, (135, 180)), (1, (135, 179)), (1, (135, 174)), (1, (135, 170)), (1, (135, 169)), (1, (135, 168)), (1, (133, 164)), (1, (133, 158)), (1, (133, 157)), (1, (133, 152)), (1, (133, 148)), (1, (133, 147)), (1, (133, 146)), (1, (133, 33)), (1, (132, 239)), (1, (132, 32)), (1, (131, 239)), (1, (128, 189)), (1, (128, 157)), (1, (128, 156)), (1, (128, 148)), (1, (122, 101)), (1, (121, 115)), (1, (121, 101)), (1, (120, 101)), (1, (119, 111)), (1, (119, 105)), (1, (119, 99)), (1, (119, 97)), (1, (119, 32)), (1, (118, 105)), (1, (117, 116)), (1, (117, 114)), (1, (117, 103)), (1, (116, 119)), (1, (116, 116)), (1, (116, 108)), (1, (116, 63)), (1, (115, 226)), (1, (115, 111)), (1, (115, 105)), (1, (115, 101)), (1, (115, 97)), (1, (114, 117)), (1, (114, 108)), (1, (114, 100)), (1, (114, 95)), (1, (112, 116)), (1, (112, 97)), (1, (111, 122)), (1, (111, 119)), (1, (111, 116)), (1, (111, 108)), (1, (110, 226)), (1, (110, 110)), (1, (110, 101)), (1, (110, 99)), (1, (110, 97)), (1, (110, 46)), (1, (109, 121)), (1, (109, 111)), (1, (109, 105)), (1, (108, 117)), (1, (108, 100)), (1, (108, 97)), (1, (107, 110)), (1, (105, 118)), (1, (105, 109)), (1, (105, 108)), (1, (105, 103)), (1, (104, 105)), (1, (103, 115)), (1, (103, 101)), (1, (103, 46)), (1, (102, 105)), (1, (102, 101)), (1, (101, 120)), (1, (101, 109)), (1, (101, 46)), (1, (101, 44)), (1, (100, 119)), (1, (100, 45)), (1, (99, 104)), (1, (99, 101)), (1, (98, 115)), (1, (98, 108)), (1, (97, 119)), (1, (97, 103)), (1, (97, 102)), (1, (97, 98)), (1, (97, 32)), (1, (95, 116)), (1, (87, 101)), (1, (84, 104)), (1, (83, 116)), (1, (73, 32)), (1, (66, 117)), (1, (63, 41)), (1, (51, 48)), (1, (48, 32)), (1, (45, 112)), (1, (41, 46)), (1, (40, 119)), (1, (32, 226)), (1, (32, 121)), (1, (32, 118)), (1, (32, 117)), (1, (32, 108)), (1, (32, 107)), (1, (32, 104)), (1, (32, 101)), (1, (32, 87)), (1, (32, 84)), (1, (32, 83)), (1, (32, 73)), (1, (32, 66)), (1, (32, 51)), (1, (32, 40))]\n"
     ]
    }
   ],
   "source": [
    "print(sorted([(v,k) for k,v in stat.items()], reverse=True))"
   ]
  },
  {
   "cell_type": "code",
   "execution_count": 11,
   "metadata": {},
   "outputs": [
    {
     "data": {
      "text/plain": [
       "(101, 32)"
      ]
     },
     "execution_count": 11,
     "metadata": {},
     "output_type": "execute_result"
    }
   ],
   "source": [
    "top_pair = max(stat, key=stat.get)\n",
    "top_pair"
   ]
  },
  {
   "cell_type": "code",
   "execution_count": 12,
   "metadata": {},
   "outputs": [],
   "source": [
    "def merge(ids, pair, idx):\n",
    "    newids = []\n",
    "    i = 0\n",
    "    while i < len(ids):\n",
    "        if i < len(ids) - 1 and ids[i] == pair[0] and ids[i+1] == pair[1]:\n",
    "            newids.append(idx)\n",
    "            i += 2\n",
    "        else:\n",
    "            newids.append(ids[i])\n",
    "            i += 1\n",
    "    return newids\n",
    "        "
   ]
  },
  {
   "cell_type": "code",
   "execution_count": 13,
   "metadata": {},
   "outputs": [
    {
     "name": "stdout",
     "output_type": "stream",
     "text": [
      "[4, 6, 99, 9, 5, 4, 99]\n"
     ]
    }
   ],
   "source": [
    "print(merge([4, 6, 6, 7, 9, 5, 4, 6, 7], (6, 7), 99))"
   ]
  },
  {
   "cell_type": "code",
   "execution_count": 14,
   "metadata": {},
   "outputs": [
    {
     "name": "stdout",
     "output_type": "stream",
     "text": [
      "[239, 188, 181, 239, 189, 142, 239, 189, 137, 239, 189, 131, 239, 189, 143, 239, 189, 132, 239, 189, 133, 33, 32, 240, 159, 133, 164, 240, 159, 133, 157, 240, 159, 133, 152, 240, 159, 133, 146, 240, 159, 133, 158, 240, 159, 133, 147, 240, 159, 133, 148, 226, 128, 189, 32, 240, 159, 135, 186, 226, 128, 140, 240, 159, 135, 179, 226, 128, 140, 240, 159, 135, 174, 226, 128, 140, 240, 159, 135, 168, 226, 128, 140, 240, 159, 135, 180, 226, 128, 140, 240, 159, 135, 169, 226, 128, 140, 240, 159, 135, 170, 33, 32, 240, 159, 152, 132, 32, 84, 104, 256, 118, 101, 114, 121, 32, 110, 97, 109, 256, 115, 116, 114, 105, 107, 101, 115, 32, 102, 101, 97, 114, 32, 97, 110, 100, 32, 97, 119, 256, 105, 110, 116, 111, 32, 116, 104, 256, 104, 101, 97, 114, 116, 115, 32, 111, 102, 32, 112, 114, 111, 103, 114, 97, 109, 109, 101, 114, 115, 32, 119, 111, 114, 108, 100, 119, 105, 100, 101, 46, 32, 87, 256, 97, 108, 108, 32, 107, 110, 111, 119, 32, 119, 256, 111, 117, 103, 104, 116, 32, 116, 111, 32, 226, 128, 156, 115, 117, 112, 112, 111, 114, 116, 32, 85, 110, 105, 99, 111, 100, 101, 226, 128, 157, 32, 105, 110, 32, 111, 117, 114, 32, 115, 111, 102, 116, 119, 97, 114, 256, 40, 119, 104, 97, 116, 101, 118, 101, 114, 32, 116, 104, 97, 116, 32, 109, 101, 97, 110, 115, 226, 128, 148, 108, 105, 107, 256, 117, 115, 105, 110, 103, 32, 119, 99, 104, 97, 114, 95, 116, 32, 102, 111, 114, 32, 97, 108, 108, 32, 116, 104, 256, 115, 116, 114, 105, 110, 103, 115, 44, 32, 114, 105, 103, 104, 116, 63, 41, 46, 32, 66, 117, 116, 32, 85, 110, 105, 99, 111, 100, 256, 99, 97, 110, 32, 98, 256, 97, 98, 115, 116, 114, 117, 115, 101, 44, 32, 97, 110, 100, 32, 100, 105, 118, 105, 110, 103, 32, 105, 110, 116, 111, 32, 116, 104, 256, 116, 104, 111, 117, 115, 97, 110, 100, 45, 112, 97, 103, 256, 85, 110, 105, 99, 111, 100, 256, 83, 116, 97, 110, 100, 97, 114, 100, 32, 112, 108, 117, 115, 32, 105, 116, 115, 32, 100, 111, 122, 101, 110, 115, 32, 111, 102, 32, 115, 117, 112, 112, 108, 101, 109, 101, 110, 116, 97, 114, 121, 32, 97, 110, 110, 101, 120, 101, 115, 44, 32, 114, 101, 112, 111, 114, 116, 115, 44, 32, 97, 110, 100, 32, 110, 111, 116, 101, 115, 32, 99, 97, 110, 32, 98, 256, 109, 111, 114, 256, 116, 104, 97, 110, 32, 97, 32, 108, 105, 116, 116, 108, 256, 105, 110, 116, 105, 109, 105, 100, 97, 116, 105, 110, 103, 46, 32, 73, 32, 100, 111, 110, 226, 128, 153, 116, 32, 98, 108, 97, 109, 256, 112, 114, 111, 103, 114, 97, 109, 109, 101, 114, 115, 32, 102, 111, 114, 32, 115, 116, 105, 108, 108, 32, 102, 105, 110, 100, 105, 110, 103, 32, 116, 104, 256, 119, 104, 111, 108, 256, 116, 104, 105, 110, 103, 32, 109, 121, 115, 116, 101, 114, 105, 111, 117, 115, 44, 32, 101, 118, 101, 110, 32, 51, 48, 32, 121, 101, 97, 114, 115, 32, 97, 102, 116, 101, 114, 32, 85, 110, 105, 99, 111, 100, 101, 226, 128, 153, 115, 32, 105, 110, 99, 101, 112, 116, 105, 111, 110, 46]\n",
      "length: 596\n"
     ]
    }
   ],
   "source": [
    "o = merge(tokens, top_pair, 256)\n",
    "print(o)\n",
    "print(f'length: {len(o)}')"
   ]
  },
  {
   "cell_type": "code",
   "execution_count": 20,
   "metadata": {},
   "outputs": [],
   "source": [
    "text = \"\"\"As soon as you start to study Unicode, it becomes clear that it represents a large jump in complexity over character sets like ASCII that you may be more familiar with. It’s not just that Unicode contains a much larger number of characters, although that’s part of it. Unicode also has a great deal of internal structure, features, and special cases, making it much more than what one might expect a mere “character set” to be. We’ll see some of that later in this article.\n",
    "\n",
    "When confronting all this complexity, especially as an engineer, it’s hard not to find oneself asking, “Why do we need all this? Is this really necessary? Couldn’t it be simplified?”\n",
    "\n",
    "However, Unicode aims to faithfully represent the entire world’s writing systems. The Unicode Consortium’s stated goal is “enabling people around the world to use computers in any language”. And as you might imagine, the diversity of written languages is immense! To date, Unicode supports 135 different scripts, covering some 1100 languages, and there’s still a long tail of over 100 unsupported scripts, both modern and historical, which people are still working to add.\n",
    "\n",
    "Given this enormous diversity, it’s inevitable that representing it is a complicated project. Unicode embraces that diversity, and accepts the complexity inherent in its mission to include all human writing systems. It doesn’t make a lot of trade-offs in the name of simplification, and it makes exceptions to its own rules where necessary to further its mission.\n",
    "\n",
    "Moreover, Unicode is committed not just to supporting texts in any single language, but also to letting multiple languages coexist within one text—which introduces even more complexity.\n",
    "\n",
    "Most programming languages have libraries available to handle the gory low-level details of text manipulation, but as a programmer, you’ll still need to know about certain Unicode features in order to know when and how to apply them. It may take some time to wrap your head around it all, but don’t be discouraged—think about the billions of people for whom your software will be more accessible through supporting text in their language. Embrace the complexity!\n",
    "\n",
    "The Unicode Codespace\n",
    "Let’s start with some general orientation. The basic elements of Unicode—its “characters”, although that term isn’t quite right—are called code points. Code points are identified by number, customarily written in hexadecimal with the prefix “U+”, such as U+0041 “A” latin capital letter a or U+03B8 “θ” greek small letter theta. Each code point also has a short name, and quite a few other properties, specified in the Unicode Character Database.\n",
    "\n",
    "The set of all possible code points is called the codespace. The Unicode codespace consists of 1,114,112 code points. However, only 128,237 of them—about 12% of the codespace—are actually assigned, to date. There’s plenty of room for growth! Unicode also reserves an additional 137,468 code points as “private use” areas, which have no standardized meaning and are available for individual applications to define for their own purposes.\n",
    "\n",
    "Codespace Allocation\n",
    "To get a feel for how the codespace is laid out, it’s helpful to visualize it. Below is a map of the entire codespace, with one pixel per code point. It’s arranged in tiles for visual coherence; each small square is 16×16 = 256 code points, and each large square is a “plane” of 65,536 code points. There are 17 planes altogether.\"\"\"\n",
    "tokens = list(map(int, text.encode('utf-8')))"
   ]
  },
  {
   "cell_type": "code",
   "execution_count": 21,
   "metadata": {},
   "outputs": [],
   "source": [
    "def get_stats(ids):\n",
    "    counts = {}\n",
    "    for pair in zip(ids, ids[1:]):\n",
    "        counts[pair] = counts.get(pair, 0) + 1\n",
    "    return counts\n",
    "\n",
    "def merge(ids, pair, idx):\n",
    "    newids = []\n",
    "    i = 0\n",
    "    while i < len(ids):\n",
    "        if i < len(ids) - 1 and ids[i] == pair[0] and ids[i+1] == pair[1]:\n",
    "            newids.append(idx)\n",
    "            i += 2\n",
    "        else:\n",
    "            newids.append(ids[i])\n",
    "            i += 1\n",
    "    return newids\n",
    "\n",
    "vocab_size = 276\n",
    "num_merges = vocab_size - 256\n",
    "ids = list(tokens)"
   ]
  },
  {
   "cell_type": "code",
   "execution_count": 22,
   "metadata": {},
   "outputs": [
    {
     "name": "stdout",
     "output_type": "stream",
     "text": [
      "merging (101, 32) into new token 256\n",
      "merging (115, 32) into new token 257\n",
      "merging (116, 32) into new token 258\n",
      "merging (105, 110) into new token 259\n",
      "merging (116, 104) into new token 260\n",
      "merging (99, 111) into new token 261\n",
      "merging (101, 114) into new token 262\n",
      "merging (226, 128) into new token 263\n",
      "merging (32, 97) into new token 264\n",
      "merging (97, 114) into new token 265\n",
      "merging (261, 100) into new token 266\n",
      "merging (105, 116) into new token 267\n",
      "merging (44, 32) into new token 268\n",
      "merging (111, 114) into new token 269\n",
      "merging (97, 108) into new token 270\n",
      "merging (111, 32) into new token 271\n",
      "merging (100, 32) into new token 272\n",
      "merging (101, 110) into new token 273\n",
      "merging (101, 115) into new token 274\n",
      "merging (111, 110) into new token 275\n"
     ]
    }
   ],
   "source": [
    "merges = {}\n",
    "for i in range(num_merges):\n",
    "    stat = get_stats(ids)\n",
    "    pair = max(stat, key=stat.get)\n",
    "    idx = 256 + i\n",
    "    print(f\"merging {pair} into new token {idx}\")\n",
    "    ids = merge(ids, pair, idx)\n",
    "    merges[pair] = idx\n",
    "    "
   ]
  },
  {
   "cell_type": "code",
   "execution_count": 28,
   "metadata": {},
   "outputs": [
    {
     "name": "stdout",
     "output_type": "stream",
     "text": [
      "tokens length:  3492\n",
      "ids length:  2733\n",
      "compression ratio: 1.28x\n"
     ]
    }
   ],
   "source": [
    "print('tokens length: ',len(tokens))\n",
    "print('ids length: ', len(ids))\n",
    "print(f'compression ratio: {len(tokens)/len(ids):.2f}x', )"
   ]
  },
  {
   "cell_type": "markdown",
   "metadata": {},
   "source": [
    "## decoding"
   ]
  },
  {
   "cell_type": "code",
   "execution_count": 49,
   "metadata": {},
   "outputs": [],
   "source": [
    "vocab = {idx: bytes([idx]) for idx in range(256)}\n",
    "for (p0, p1),idx in merges.items():\n",
    "    vocab[idx] = vocab[p0] + vocab[p1]\n",
    "    "
   ]
  },
  {
   "cell_type": "code",
   "execution_count": 56,
   "metadata": {},
   "outputs": [],
   "source": [
    "def decode(ids):\n",
    "    tokens = b\"\".join([vocab[idx] for idx in ids])\n",
    "    text = tokens.decode('utf-8', errors='replace')\n",
    "    return text\n",
    "    "
   ]
  },
  {
   "cell_type": "code",
   "execution_count": 57,
   "metadata": {},
   "outputs": [
    {
     "data": {
      "text/plain": [
       "'�'"
      ]
     },
     "execution_count": 57,
     "metadata": {},
     "output_type": "execute_result"
    }
   ],
   "source": [
    "decode([128])"
   ]
  },
  {
   "cell_type": "markdown",
   "metadata": {},
   "source": [
    "## encoding"
   ]
  },
  {
   "cell_type": "code",
   "execution_count": 75,
   "metadata": {},
   "outputs": [],
   "source": [
    "def encode(text):\n",
    "    tokens = list(text.encode('utf-8'))\n",
    "    while len(tokens) >= 2:\n",
    "        stats = get_stats(text)\n",
    "        pair = min(stats, key=lambda x: merges.get(x, float('inf')))\n",
    "        if pair not in merges:\n",
    "            break\n",
    "        idx = merges[pair]\n",
    "        tokens = merge(tokens, pair, idx)\n",
    "    return tokens\n",
    "    "
   ]
  },
  {
   "cell_type": "code",
   "execution_count": 76,
   "metadata": {},
   "outputs": [
    {
     "data": {
      "text/plain": [
       "[104, 101, 108, 108, 111, 32, 119, 111, 114, 108, 100, 33]"
      ]
     },
     "execution_count": 76,
     "metadata": {},
     "output_type": "execute_result"
    }
   ],
   "source": [
    "encode('hello world!')"
   ]
  },
  {
   "cell_type": "code",
   "execution_count": 78,
   "metadata": {},
   "outputs": [
    {
     "name": "stdout",
     "output_type": "stream",
     "text": [
      "hello world\n"
     ]
    }
   ],
   "source": [
    "print(decode(encode('hello world')))"
   ]
  },
  {
   "cell_type": "markdown",
   "metadata": {
    "jp-MarkdownHeadingCollapsed": true
   },
   "source": [
    "## forced split using regex pattern (GPT series)"
   ]
  },
  {
   "cell_type": "code",
   "execution_count": 79,
   "metadata": {},
   "outputs": [],
   "source": [
    "import regex as re"
   ]
  },
  {
   "cell_type": "code",
   "execution_count": 82,
   "metadata": {},
   "outputs": [],
   "source": [
    "gpt2pat = re.compile(r\"\"\"'s|'t|'re|'ve|'m|'ll|'d| ?\\p{L}+| ?\\p{N}+| ?[^\\s\\p{L}\\p{N}]+|\\s+(?!\\S)|\\s+\"\"\")"
   ]
  },
  {
   "cell_type": "code",
   "execution_count": 92,
   "metadata": {},
   "outputs": [
    {
     "data": {
      "text/plain": [
       "['HellO', \"'\", 'VE', ' world', '123', ' how', ' are', ' you']"
      ]
     },
     "execution_count": 92,
     "metadata": {},
     "output_type": "execute_result"
    }
   ],
   "source": [
    "re.findall(gpt2pat, \"HellO'VE world123 how are you\")"
   ]
  },
  {
   "cell_type": "code",
   "execution_count": 94,
   "metadata": {},
   "outputs": [
    {
     "data": {
      "text/plain": [
       "['HellO', '`', 'VE', ' world', '123', ' how', ' are', ' you', '|||?']"
      ]
     },
     "execution_count": 94,
     "metadata": {},
     "output_type": "execute_result"
    }
   ],
   "source": [
    "re.findall(gpt2pat, \"HellO`VE world123 how are you|||?\")"
   ]
  },
  {
   "cell_type": "code",
   "execution_count": 95,
   "metadata": {},
   "outputs": [],
   "source": [
    "examples = \"\"\"if x > 10:\n",
    "  print(\"Above ten,\")\n",
    "  if x > 20:\n",
    "    print(\"and also above 20!\")\n",
    "  else:\n",
    "    print(\"but not above 20.\")\"\"\""
   ]
  },
  {
   "cell_type": "code",
   "execution_count": 98,
   "metadata": {},
   "outputs": [
    {
     "name": "stdout",
     "output_type": "stream",
     "text": [
      "if x > 10:\n",
      "  print(\"Above ten,\")\n",
      "  if x > 20:\n",
      "    print(\"and also above 20!\")\n",
      "  else:\n",
      "    print(\"but not above 20.\")\n"
     ]
    }
   ],
   "source": [
    "print(examples)"
   ]
  },
  {
   "cell_type": "code",
   "execution_count": 97,
   "metadata": {},
   "outputs": [
    {
     "name": "stdout",
     "output_type": "stream",
     "text": [
      "['if', ' x', ' >', ' 10', ':', '\\n ', ' print', '(\"', 'Above', ' ten', ',\")', '\\n ', ' if', ' x', ' >', ' 20', ':', '\\n   ', ' print', '(\"', 'and', ' also', ' above', ' 20', '!\")', '\\n ', ' else', ':', '\\n   ', ' print', '(\"', 'but', ' not', ' above', ' 20', '.\")']\n"
     ]
    }
   ],
   "source": [
    "print(re.findall(gpt2pat, examples))"
   ]
  },
  {
   "cell_type": "code",
   "execution_count": 103,
   "metadata": {},
   "outputs": [
    {
     "name": "stdout",
     "output_type": "stream",
     "text": [
      "[220, 23748, 995, 3228]\n",
      "[220, 24748, 1917, 3001]\n"
     ]
    }
   ],
   "source": [
    "import tiktoken\n",
    "\n",
    "enc = tiktoken.get_encoding('gpt2')\n",
    "print(enc.encode('  hello world!!'))\n",
    "\n",
    "enc = tiktoken.get_encoding('cl100k_base')\n",
    "print(enc.encode('  hello world!!'))"
   ]
  },
  {
   "cell_type": "markdown",
   "metadata": {
    "jp-MarkdownHeadingCollapsed": true
   },
   "source": [
    "## special tokens"
   ]
  },
  {
   "cell_type": "code",
   "execution_count": 105,
   "metadata": {},
   "outputs": [
    {
     "name": "stdout",
     "output_type": "stream",
     "text": [
      "--2024-10-18 17:00:23--  https://openaipublic.blob.core.windows.net/gpt-2/models/1558M/vocab.bpe\n",
      "Connecting to 10.10.78.61:3128... connected.\n",
      "WARNING: cannot verify openaipublic.blob.core.windows.net's certificate, issued by ‘/C=US/O=Microsoft Corporation/CN=Microsoft Azure RSA TLS Issuing CA 08’:\n",
      "  Unable to locally verify the issuer's authority.\n",
      "Proxy request sent, awaiting response... 200 OK\n",
      "Length: 456318 (446K) [application/octet-stream]\n",
      "Saving to: ‘vocab.bpe’\n",
      "\n",
      "100%[======================================>] 456,318      369KB/s   in 1.2s   \n",
      "\n",
      "2024-10-18 17:00:25 (369 KB/s) - ‘vocab.bpe’ saved [456318/456318]\n",
      "\n",
      "--2024-10-18 17:00:25--  https://openaipublic.blob.core.windows.net/gpt-2/models/1558M/encoder.json\n",
      "Connecting to 10.10.78.61:3128... connected.\n",
      "WARNING: cannot verify openaipublic.blob.core.windows.net's certificate, issued by ‘/C=US/O=Microsoft Corporation/CN=Microsoft Azure RSA TLS Issuing CA 08’:\n",
      "  Unable to locally verify the issuer's authority.\n",
      "Proxy request sent, awaiting response... 200 OK\n",
      "Length: 1042301 (1018K) [application/json]\n",
      "Saving to: ‘encoder.json’\n",
      "\n",
      "100%[======================================>] 1,042,301    538KB/s   in 1.9s   \n",
      "\n",
      "2024-10-18 17:00:28 (538 KB/s) - ‘encoder.json’ saved [1042301/1042301]\n",
      "\n"
     ]
    }
   ],
   "source": [
    "!wget --no-check-certificate https://openaipublic.blob.core.windows.net/gpt-2/models/1558M/vocab.bpe\n",
    "!wget --no-check-certificate https://openaipublic.blob.core.windows.net/gpt-2/models/1558M/encoder.json"
   ]
  },
  {
   "cell_type": "code",
   "execution_count": 112,
   "metadata": {},
   "outputs": [],
   "source": [
    "import json\n",
    "\n",
    "with open(f'encoder.json', 'r') as file:\n",
    "    encoder = json.load(file)\n",
    "\n",
    "with open('vocab.bpe', 'r') as file:\n",
    "    bpe_data = file.read()"
   ]
  },
  {
   "cell_type": "code",
   "execution_count": 122,
   "metadata": {
    "scrolled": true
   },
   "outputs": [],
   "source": [
    "bpe_merges = [tuple(o.split()) for o in bpe_data.split('\\n')[1:-1]]"
   ]
  },
  {
   "cell_type": "code",
   "execution_count": 124,
   "metadata": {},
   "outputs": [
    {
     "data": {
      "text/plain": [
       "50256"
      ]
     },
     "execution_count": 124,
     "metadata": {},
     "output_type": "execute_result"
    }
   ],
   "source": [
    "encoder['<|endoftext|>']"
   ]
  },
  {
   "cell_type": "markdown",
   "metadata": {},
   "source": [
    "## sentencepiece"
   ]
  },
  {
   "cell_type": "code",
   "execution_count": 125,
   "metadata": {},
   "outputs": [],
   "source": [
    "import sentencepiece as spm"
   ]
  },
  {
   "cell_type": "code",
   "execution_count": 128,
   "metadata": {},
   "outputs": [],
   "source": [
    "with open('toy.txt', 'w', encoding='utf-8') as f:\n",
    "    f.write(\"SentencePiece is an unsupervised text tokenizer and detokenizer mainly for Neural Network-based text generation systems where the vocabulary size is predetermined prior to the neural model training. SentencePiece implements subword units (e.g., byte-pair-encoding (BPE) [Sennrich et al.]) and unigram language model [Kudo.]) with the extension of direct training from raw sentences. SentencePiece allows us to make a purely end-to-end system that does not depend on language-specific pre/postprocessing.\")"
   ]
  },
  {
   "cell_type": "code",
   "execution_count": 132,
   "metadata": {
    "scrolled": true
   },
   "outputs": [
    {
     "name": "stderr",
     "output_type": "stream",
     "text": [
      "sentencepiece_trainer.cc(77) LOG(INFO) Starts training with : \n",
      "trainer_spec {\n",
      "  input: toy.txt\n",
      "  input_format: text\n",
      "  model_prefix: tok400\n",
      "  model_type: BPE\n",
      "  vocab_size: 400\n",
      "  self_test_sample_size: 0\n",
      "  character_coverage: 0.99995\n",
      "  input_sentence_size: 200000000\n",
      "  shuffle_input_sentence: 1\n",
      "  seed_sentencepiece_size: 1000000\n",
      "  shrinking_factor: 0.75\n",
      "  max_sentence_length: 4192\n",
      "  num_threads: 20\n",
      "  num_sub_iterations: 2\n",
      "  max_sentencepiece_length: 16\n",
      "  split_by_unicode_script: 1\n",
      "  split_by_number: 1\n",
      "  split_by_whitespace: 1\n",
      "  split_digits: 1\n",
      "  pretokenization_delimiter: \n",
      "  treat_whitespace_as_suffix: 0\n",
      "  allow_whitespace_only_pieces: 1\n",
      "  required_chars: \n",
      "  byte_fallback: 1\n",
      "  vocabulary_output_piece_score: 1\n",
      "  train_extremely_large_corpus: 0\n",
      "  hard_vocab_limit: 1\n",
      "  use_all_vocab: 0\n",
      "  unk_id: 0\n",
      "  bos_id: 1\n",
      "  eos_id: 2\n",
      "  pad_id: 3\n",
      "  unk_piece: <unk>\n",
      "  bos_piece: <s>\n",
      "  eos_piece: </s>\n",
      "  pad_piece: <pad>\n",
      "  unk_surface:  ⁇ \n",
      "  enable_differential_privacy: 0\n",
      "  differential_privacy_noise_level: 0\n",
      "  differential_privacy_clipping_threshold: 0\n",
      "}\n",
      "normalizer_spec {\n",
      "  name: identity\n",
      "  add_dummy_prefix: 1\n",
      "  remove_extra_whitespaces: 1\n",
      "  escape_whitespaces: 1\n",
      "  normalization_rule_tsv: \n",
      "}\n",
      "denormalizer_spec {}\n",
      "trainer_interface.cc(351) LOG(INFO) SentenceIterator is not specified. Using MultiFileSentenceIterator.\n",
      "trainer_interface.cc(183) LOG(INFO) Loading corpus: toy.txt\n",
      "trainer_interface.cc(407) LOG(INFO) Loaded all 1 sentences\n",
      "trainer_interface.cc(423) LOG(INFO) Adding meta_piece: <unk>\n",
      "trainer_interface.cc(423) LOG(INFO) Adding meta_piece: <s>\n",
      "trainer_interface.cc(423) LOG(INFO) Adding meta_piece: </s>\n",
      "trainer_interface.cc(423) LOG(INFO) Adding meta_piece: <pad>\n",
      "trainer_interface.cc(423) LOG(INFO) Adding meta_piece: <0x00>\n",
      "trainer_interface.cc(423) LOG(INFO) Adding meta_piece: <0x01>\n",
      "trainer_interface.cc(423) LOG(INFO) Adding meta_piece: <0x02>\n",
      "trainer_interface.cc(423) LOG(INFO) Adding meta_piece: <0x03>\n",
      "trainer_interface.cc(423) LOG(INFO) Adding meta_piece: <0x04>\n",
      "trainer_interface.cc(423) LOG(INFO) Adding meta_piece: <0x05>\n",
      "trainer_interface.cc(423) LOG(INFO) Adding meta_piece: <0x06>\n",
      "trainer_interface.cc(423) LOG(INFO) Adding meta_piece: <0x07>\n",
      "trainer_interface.cc(423) LOG(INFO) Adding meta_piece: <0x08>\n",
      "trainer_interface.cc(423) LOG(INFO) Adding meta_piece: <0x09>\n",
      "trainer_interface.cc(423) LOG(INFO) Adding meta_piece: <0x0A>\n",
      "trainer_interface.cc(423) LOG(INFO) Adding meta_piece: <0x0B>\n",
      "trainer_interface.cc(423) LOG(INFO) Adding meta_piece: <0x0C>\n",
      "trainer_interface.cc(423) LOG(INFO) Adding meta_piece: <0x0D>\n",
      "trainer_interface.cc(423) LOG(INFO) Adding meta_piece: <0x0E>\n",
      "trainer_interface.cc(423) LOG(INFO) Adding meta_piece: <0x0F>\n",
      "trainer_interface.cc(423) LOG(INFO) Adding meta_piece: <0x10>\n",
      "trainer_interface.cc(423) LOG(INFO) Adding meta_piece: <0x11>\n",
      "trainer_interface.cc(423) LOG(INFO) Adding meta_piece: <0x12>\n",
      "trainer_interface.cc(423) LOG(INFO) Adding meta_piece: <0x13>\n",
      "trainer_interface.cc(423) LOG(INFO) Adding meta_piece: <0x14>\n",
      "trainer_interface.cc(423) LOG(INFO) Adding meta_piece: <0x15>\n",
      "trainer_interface.cc(423) LOG(INFO) Adding meta_piece: <0x16>\n",
      "trainer_interface.cc(423) LOG(INFO) Adding meta_piece: <0x17>\n",
      "trainer_interface.cc(423) LOG(INFO) Adding meta_piece: <0x18>\n",
      "trainer_interface.cc(423) LOG(INFO) Adding meta_piece: <0x19>\n",
      "trainer_interface.cc(423) LOG(INFO) Adding meta_piece: <0x1A>\n",
      "trainer_interface.cc(423) LOG(INFO) Adding meta_piece: <0x1B>\n",
      "trainer_interface.cc(423) LOG(INFO) Adding meta_piece: <0x1C>\n",
      "trainer_interface.cc(423) LOG(INFO) Adding meta_piece: <0x1D>\n",
      "trainer_interface.cc(423) LOG(INFO) Adding meta_piece: <0x1E>\n",
      "trainer_interface.cc(423) LOG(INFO) Adding meta_piece: <0x1F>\n",
      "trainer_interface.cc(423) LOG(INFO) Adding meta_piece: <0x20>\n",
      "trainer_interface.cc(423) LOG(INFO) Adding meta_piece: <0x21>\n",
      "trainer_interface.cc(423) LOG(INFO) Adding meta_piece: <0x22>\n",
      "trainer_interface.cc(423) LOG(INFO) Adding meta_piece: <0x23>\n",
      "trainer_interface.cc(423) LOG(INFO) Adding meta_piece: <0x24>\n",
      "trainer_interface.cc(423) LOG(INFO) Adding meta_piece: <0x25>\n",
      "trainer_interface.cc(423) LOG(INFO) Adding meta_piece: <0x26>\n",
      "trainer_interface.cc(423) LOG(INFO) Adding meta_piece: <0x27>\n",
      "trainer_interface.cc(423) LOG(INFO) Adding meta_piece: <0x28>\n",
      "trainer_interface.cc(423) LOG(INFO) Adding meta_piece: <0x29>\n",
      "trainer_interface.cc(423) LOG(INFO) Adding meta_piece: <0x2A>\n",
      "trainer_interface.cc(423) LOG(INFO) Adding meta_piece: <0x2B>\n",
      "trainer_interface.cc(423) LOG(INFO) Adding meta_piece: <0x2C>\n",
      "trainer_interface.cc(423) LOG(INFO) Adding meta_piece: <0x2D>\n",
      "trainer_interface.cc(423) LOG(INFO) Adding meta_piece: <0x2E>\n",
      "trainer_interface.cc(423) LOG(INFO) Adding meta_piece: <0x2F>\n",
      "trainer_interface.cc(423) LOG(INFO) Adding meta_piece: <0x30>\n",
      "trainer_interface.cc(423) LOG(INFO) Adding meta_piece: <0x31>\n",
      "trainer_interface.cc(423) LOG(INFO) Adding meta_piece: <0x32>\n",
      "trainer_interface.cc(423) LOG(INFO) Adding meta_piece: <0x33>\n",
      "trainer_interface.cc(423) LOG(INFO) Adding meta_piece: <0x34>\n",
      "trainer_interface.cc(423) LOG(INFO) Adding meta_piece: <0x35>\n",
      "trainer_interface.cc(423) LOG(INFO) Adding meta_piece: <0x36>\n",
      "trainer_interface.cc(423) LOG(INFO) Adding meta_piece: <0x37>\n",
      "trainer_interface.cc(423) LOG(INFO) Adding meta_piece: <0x38>\n",
      "trainer_interface.cc(423) LOG(INFO) Adding meta_piece: <0x39>\n",
      "trainer_interface.cc(423) LOG(INFO) Adding meta_piece: <0x3A>\n",
      "trainer_interface.cc(423) LOG(INFO) Adding meta_piece: <0x3B>\n",
      "trainer_interface.cc(423) LOG(INFO) Adding meta_piece: <0x3C>\n",
      "trainer_interface.cc(423) LOG(INFO) Adding meta_piece: <0x3D>\n",
      "trainer_interface.cc(423) LOG(INFO) Adding meta_piece: <0x3E>\n",
      "trainer_interface.cc(423) LOG(INFO) Adding meta_piece: <0x3F>\n",
      "trainer_interface.cc(423) LOG(INFO) Adding meta_piece: <0x40>\n",
      "trainer_interface.cc(423) LOG(INFO) Adding meta_piece: <0x41>\n",
      "trainer_interface.cc(423) LOG(INFO) Adding meta_piece: <0x42>\n",
      "trainer_interface.cc(423) LOG(INFO) Adding meta_piece: <0x43>\n",
      "trainer_interface.cc(423) LOG(INFO) Adding meta_piece: <0x44>\n",
      "trainer_interface.cc(423) LOG(INFO) Adding meta_piece: <0x45>\n",
      "trainer_interface.cc(423) LOG(INFO) Adding meta_piece: <0x46>\n",
      "trainer_interface.cc(423) LOG(INFO) Adding meta_piece: <0x47>\n",
      "trainer_interface.cc(423) LOG(INFO) Adding meta_piece: <0x48>\n",
      "trainer_interface.cc(423) LOG(INFO) Adding meta_piece: <0x49>\n",
      "trainer_interface.cc(423) LOG(INFO) Adding meta_piece: <0x4A>\n",
      "trainer_interface.cc(423) LOG(INFO) Adding meta_piece: <0x4B>\n",
      "trainer_interface.cc(423) LOG(INFO) Adding meta_piece: <0x4C>\n",
      "trainer_interface.cc(423) LOG(INFO) Adding meta_piece: <0x4D>\n",
      "trainer_interface.cc(423) LOG(INFO) Adding meta_piece: <0x4E>\n",
      "trainer_interface.cc(423) LOG(INFO) Adding meta_piece: <0x4F>\n",
      "trainer_interface.cc(423) LOG(INFO) Adding meta_piece: <0x50>\n",
      "trainer_interface.cc(423) LOG(INFO) Adding meta_piece: <0x51>\n",
      "trainer_interface.cc(423) LOG(INFO) Adding meta_piece: <0x52>\n",
      "trainer_interface.cc(423) LOG(INFO) Adding meta_piece: <0x53>\n",
      "trainer_interface.cc(423) LOG(INFO) Adding meta_piece: <0x54>\n",
      "trainer_interface.cc(423) LOG(INFO) Adding meta_piece: <0x55>\n",
      "trainer_interface.cc(423) LOG(INFO) Adding meta_piece: <0x56>\n",
      "trainer_interface.cc(423) LOG(INFO) Adding meta_piece: <0x57>\n",
      "trainer_interface.cc(423) LOG(INFO) Adding meta_piece: <0x58>\n",
      "trainer_interface.cc(423) LOG(INFO) Adding meta_piece: <0x59>\n",
      "trainer_interface.cc(423) LOG(INFO) Adding meta_piece: <0x5A>\n",
      "trainer_interface.cc(423) LOG(INFO) Adding meta_piece: <0x5B>\n",
      "trainer_interface.cc(423) LOG(INFO) Adding meta_piece: <0x5C>\n",
      "trainer_interface.cc(423) LOG(INFO) Adding meta_piece: <0x5D>\n",
      "trainer_interface.cc(423) LOG(INFO) Adding meta_piece: <0x5E>\n",
      "trainer_interface.cc(423) LOG(INFO) Adding meta_piece: <0x5F>\n",
      "trainer_interface.cc(423) LOG(INFO) Adding meta_piece: <0x60>\n",
      "trainer_interface.cc(423) LOG(INFO) Adding meta_piece: <0x61>\n",
      "trainer_interface.cc(423) LOG(INFO) Adding meta_piece: <0x62>\n",
      "trainer_interface.cc(423) LOG(INFO) Adding meta_piece: <0x63>\n",
      "trainer_interface.cc(423) LOG(INFO) Adding meta_piece: <0x64>\n",
      "trainer_interface.cc(423) LOG(INFO) Adding meta_piece: <0x65>\n",
      "trainer_interface.cc(423) LOG(INFO) Adding meta_piece: <0x66>\n",
      "trainer_interface.cc(423) LOG(INFO) Adding meta_piece: <0x67>\n",
      "trainer_interface.cc(423) LOG(INFO) Adding meta_piece: <0x68>\n",
      "trainer_interface.cc(423) LOG(INFO) Adding meta_piece: <0x69>\n",
      "trainer_interface.cc(423) LOG(INFO) Adding meta_piece: <0x6A>\n",
      "trainer_interface.cc(423) LOG(INFO) Adding meta_piece: <0x6B>\n",
      "trainer_interface.cc(423) LOG(INFO) Adding meta_piece: <0x6C>\n",
      "trainer_interface.cc(423) LOG(INFO) Adding meta_piece: <0x6D>\n",
      "trainer_interface.cc(423) LOG(INFO) Adding meta_piece: <0x6E>\n",
      "trainer_interface.cc(423) LOG(INFO) Adding meta_piece: <0x6F>\n",
      "trainer_interface.cc(423) LOG(INFO) Adding meta_piece: <0x70>\n",
      "trainer_interface.cc(423) LOG(INFO) Adding meta_piece: <0x71>\n",
      "trainer_interface.cc(423) LOG(INFO) Adding meta_piece: <0x72>\n",
      "trainer_interface.cc(423) LOG(INFO) Adding meta_piece: <0x73>\n",
      "trainer_interface.cc(423) LOG(INFO) Adding meta_piece: <0x74>\n",
      "trainer_interface.cc(423) LOG(INFO) Adding meta_piece: <0x75>\n",
      "trainer_interface.cc(423) LOG(INFO) Adding meta_piece: <0x76>\n",
      "trainer_interface.cc(423) LOG(INFO) Adding meta_piece: <0x77>\n",
      "trainer_interface.cc(423) LOG(INFO) Adding meta_piece: <0x78>\n",
      "trainer_interface.cc(423) LOG(INFO) Adding meta_piece: <0x79>\n",
      "trainer_interface.cc(423) LOG(INFO) Adding meta_piece: <0x7A>\n",
      "trainer_interface.cc(423) LOG(INFO) Adding meta_piece: <0x7B>\n",
      "trainer_interface.cc(423) LOG(INFO) Adding meta_piece: <0x7C>\n",
      "trainer_interface.cc(423) LOG(INFO) Adding meta_piece: <0x7D>\n",
      "trainer_interface.cc(423) LOG(INFO) Adding meta_piece: <0x7E>\n",
      "trainer_interface.cc(423) LOG(INFO) Adding meta_piece: <0x7F>\n",
      "trainer_interface.cc(423) LOG(INFO) Adding meta_piece: <0x80>\n",
      "trainer_interface.cc(423) LOG(INFO) Adding meta_piece: <0x81>\n",
      "trainer_interface.cc(423) LOG(INFO) Adding meta_piece: <0x82>\n",
      "trainer_interface.cc(423) LOG(INFO) Adding meta_piece: <0x83>\n",
      "trainer_interface.cc(423) LOG(INFO) Adding meta_piece: <0x84>\n",
      "trainer_interface.cc(423) LOG(INFO) Adding meta_piece: <0x85>\n",
      "trainer_interface.cc(423) LOG(INFO) Adding meta_piece: <0x86>\n",
      "trainer_interface.cc(423) LOG(INFO) Adding meta_piece: <0x87>\n",
      "trainer_interface.cc(423) LOG(INFO) Adding meta_piece: <0x88>\n",
      "trainer_interface.cc(423) LOG(INFO) Adding meta_piece: <0x89>\n",
      "trainer_interface.cc(423) LOG(INFO) Adding meta_piece: <0x8A>\n",
      "trainer_interface.cc(423) LOG(INFO) Adding meta_piece: <0x8B>\n",
      "trainer_interface.cc(423) LOG(INFO) Adding meta_piece: <0x8C>\n",
      "trainer_interface.cc(423) LOG(INFO) Adding meta_piece: <0x8D>\n",
      "trainer_interface.cc(423) LOG(INFO) Adding meta_piece: <0x8E>\n",
      "trainer_interface.cc(423) LOG(INFO) Adding meta_piece: <0x8F>\n",
      "trainer_interface.cc(423) LOG(INFO) Adding meta_piece: <0x90>\n",
      "trainer_interface.cc(423) LOG(INFO) Adding meta_piece: <0x91>\n",
      "trainer_interface.cc(423) LOG(INFO) Adding meta_piece: <0x92>\n",
      "trainer_interface.cc(423) LOG(INFO) Adding meta_piece: <0x93>\n",
      "trainer_interface.cc(423) LOG(INFO) Adding meta_piece: <0x94>\n",
      "trainer_interface.cc(423) LOG(INFO) Adding meta_piece: <0x95>\n",
      "trainer_interface.cc(423) LOG(INFO) Adding meta_piece: <0x96>\n",
      "trainer_interface.cc(423) LOG(INFO) Adding meta_piece: <0x97>\n",
      "trainer_interface.cc(423) LOG(INFO) Adding meta_piece: <0x98>\n",
      "trainer_interface.cc(423) LOG(INFO) Adding meta_piece: <0x99>\n",
      "trainer_interface.cc(423) LOG(INFO) Adding meta_piece: <0x9A>\n",
      "trainer_interface.cc(423) LOG(INFO) Adding meta_piece: <0x9B>\n",
      "trainer_interface.cc(423) LOG(INFO) Adding meta_piece: <0x9C>\n",
      "trainer_interface.cc(423) LOG(INFO) Adding meta_piece: <0x9D>\n",
      "trainer_interface.cc(423) LOG(INFO) Adding meta_piece: <0x9E>\n",
      "trainer_interface.cc(423) LOG(INFO) Adding meta_piece: <0x9F>\n",
      "trainer_interface.cc(423) LOG(INFO) Adding meta_piece: <0xA0>\n",
      "trainer_interface.cc(423) LOG(INFO) Adding meta_piece: <0xA1>\n",
      "trainer_interface.cc(423) LOG(INFO) Adding meta_piece: <0xA2>\n",
      "trainer_interface.cc(423) LOG(INFO) Adding meta_piece: <0xA3>\n",
      "trainer_interface.cc(423) LOG(INFO) Adding meta_piece: <0xA4>\n",
      "trainer_interface.cc(423) LOG(INFO) Adding meta_piece: <0xA5>\n",
      "trainer_interface.cc(423) LOG(INFO) Adding meta_piece: <0xA6>\n",
      "trainer_interface.cc(423) LOG(INFO) Adding meta_piece: <0xA7>\n",
      "trainer_interface.cc(423) LOG(INFO) Adding meta_piece: <0xA8>\n",
      "trainer_interface.cc(423) LOG(INFO) Adding meta_piece: <0xA9>\n",
      "trainer_interface.cc(423) LOG(INFO) Adding meta_piece: <0xAA>\n",
      "trainer_interface.cc(423) LOG(INFO) Adding meta_piece: <0xAB>\n",
      "trainer_interface.cc(423) LOG(INFO) Adding meta_piece: <0xAC>\n",
      "trainer_interface.cc(423) LOG(INFO) Adding meta_piece: <0xAD>\n",
      "trainer_interface.cc(423) LOG(INFO) Adding meta_piece: <0xAE>\n",
      "trainer_interface.cc(423) LOG(INFO) Adding meta_piece: <0xAF>\n",
      "trainer_interface.cc(423) LOG(INFO) Adding meta_piece: <0xB0>\n",
      "trainer_interface.cc(423) LOG(INFO) Adding meta_piece: <0xB1>\n",
      "trainer_interface.cc(423) LOG(INFO) Adding meta_piece: <0xB2>\n",
      "trainer_interface.cc(423) LOG(INFO) Adding meta_piece: <0xB3>\n",
      "trainer_interface.cc(423) LOG(INFO) Adding meta_piece: <0xB4>\n",
      "trainer_interface.cc(423) LOG(INFO) Adding meta_piece: <0xB5>\n",
      "trainer_interface.cc(423) LOG(INFO) Adding meta_piece: <0xB6>\n",
      "trainer_interface.cc(423) LOG(INFO) Adding meta_piece: <0xB7>\n",
      "trainer_interface.cc(423) LOG(INFO) Adding meta_piece: <0xB8>\n",
      "trainer_interface.cc(423) LOG(INFO) Adding meta_piece: <0xB9>\n",
      "trainer_interface.cc(423) LOG(INFO) Adding meta_piece: <0xBA>\n",
      "trainer_interface.cc(423) LOG(INFO) Adding meta_piece: <0xBB>\n",
      "trainer_interface.cc(423) LOG(INFO) Adding meta_piece: <0xBC>\n",
      "trainer_interface.cc(423) LOG(INFO) Adding meta_piece: <0xBD>\n",
      "trainer_interface.cc(423) LOG(INFO) Adding meta_piece: <0xBE>\n",
      "trainer_interface.cc(423) LOG(INFO) Adding meta_piece: <0xBF>\n",
      "trainer_interface.cc(423) LOG(INFO) Adding meta_piece: <0xC0>\n",
      "trainer_interface.cc(423) LOG(INFO) Adding meta_piece: <0xC1>\n",
      "trainer_interface.cc(423) LOG(INFO) Adding meta_piece: <0xC2>\n",
      "trainer_interface.cc(423) LOG(INFO) Adding meta_piece: <0xC3>\n",
      "trainer_interface.cc(423) LOG(INFO) Adding meta_piece: <0xC4>\n",
      "trainer_interface.cc(423) LOG(INFO) Adding meta_piece: <0xC5>\n",
      "trainer_interface.cc(423) LOG(INFO) Adding meta_piece: <0xC6>\n",
      "trainer_interface.cc(423) LOG(INFO) Adding meta_piece: <0xC7>\n",
      "trainer_interface.cc(423) LOG(INFO) Adding meta_piece: <0xC8>\n",
      "trainer_interface.cc(423) LOG(INFO) Adding meta_piece: <0xC9>\n",
      "trainer_interface.cc(423) LOG(INFO) Adding meta_piece: <0xCA>\n",
      "trainer_interface.cc(423) LOG(INFO) Adding meta_piece: <0xCB>\n",
      "trainer_interface.cc(423) LOG(INFO) Adding meta_piece: <0xCC>\n",
      "trainer_interface.cc(423) LOG(INFO) Adding meta_piece: <0xCD>\n",
      "trainer_interface.cc(423) LOG(INFO) Adding meta_piece: <0xCE>\n",
      "trainer_interface.cc(423) LOG(INFO) Adding meta_piece: <0xCF>\n",
      "trainer_interface.cc(423) LOG(INFO) Adding meta_piece: <0xD0>\n",
      "trainer_interface.cc(423) LOG(INFO) Adding meta_piece: <0xD1>\n",
      "trainer_interface.cc(423) LOG(INFO) Adding meta_piece: <0xD2>\n",
      "trainer_interface.cc(423) LOG(INFO) Adding meta_piece: <0xD3>\n",
      "trainer_interface.cc(423) LOG(INFO) Adding meta_piece: <0xD4>\n",
      "trainer_interface.cc(423) LOG(INFO) Adding meta_piece: <0xD5>\n",
      "trainer_interface.cc(423) LOG(INFO) Adding meta_piece: <0xD6>\n",
      "trainer_interface.cc(423) LOG(INFO) Adding meta_piece: <0xD7>\n",
      "trainer_interface.cc(423) LOG(INFO) Adding meta_piece: <0xD8>\n",
      "trainer_interface.cc(423) LOG(INFO) Adding meta_piece: <0xD9>\n",
      "trainer_interface.cc(423) LOG(INFO) Adding meta_piece: <0xDA>\n",
      "trainer_interface.cc(423) LOG(INFO) Adding meta_piece: <0xDB>\n",
      "trainer_interface.cc(423) LOG(INFO) Adding meta_piece: <0xDC>\n",
      "trainer_interface.cc(423) LOG(INFO) Adding meta_piece: <0xDD>\n",
      "trainer_interface.cc(423) LOG(INFO) Adding meta_piece: <0xDE>\n",
      "trainer_interface.cc(423) LOG(INFO) Adding meta_piece: <0xDF>\n",
      "trainer_interface.cc(423) LOG(INFO) Adding meta_piece: <0xE0>\n",
      "trainer_interface.cc(423) LOG(INFO) Adding meta_piece: <0xE1>\n",
      "trainer_interface.cc(423) LOG(INFO) Adding meta_piece: <0xE2>\n",
      "trainer_interface.cc(423) LOG(INFO) Adding meta_piece: <0xE3>\n",
      "trainer_interface.cc(423) LOG(INFO) Adding meta_piece: <0xE4>\n",
      "trainer_interface.cc(423) LOG(INFO) Adding meta_piece: <0xE5>\n",
      "trainer_interface.cc(423) LOG(INFO) Adding meta_piece: <0xE6>\n",
      "trainer_interface.cc(423) LOG(INFO) Adding meta_piece: <0xE7>\n",
      "trainer_interface.cc(423) LOG(INFO) Adding meta_piece: <0xE8>\n",
      "trainer_interface.cc(423) LOG(INFO) Adding meta_piece: <0xE9>\n",
      "trainer_interface.cc(423) LOG(INFO) Adding meta_piece: <0xEA>\n",
      "trainer_interface.cc(423) LOG(INFO) Adding meta_piece: <0xEB>\n",
      "trainer_interface.cc(423) LOG(INFO) Adding meta_piece: <0xEC>\n",
      "trainer_interface.cc(423) LOG(INFO) Adding meta_piece: <0xED>\n",
      "trainer_interface.cc(423) LOG(INFO) Adding meta_piece: <0xEE>\n",
      "trainer_interface.cc(423) LOG(INFO) Adding meta_piece: <0xEF>\n",
      "trainer_interface.cc(423) LOG(INFO) Adding meta_piece: <0xF0>\n",
      "trainer_interface.cc(423) LOG(INFO) Adding meta_piece: <0xF1>\n",
      "trainer_interface.cc(423) LOG(INFO) Adding meta_piece: <0xF2>\n",
      "trainer_interface.cc(423) LOG(INFO) Adding meta_piece: <0xF3>\n",
      "trainer_interface.cc(423) LOG(INFO) Adding meta_piece: <0xF4>\n",
      "trainer_interface.cc(423) LOG(INFO) Adding meta_piece: <0xF5>\n",
      "trainer_interface.cc(423) LOG(INFO) Adding meta_piece: <0xF6>\n",
      "trainer_interface.cc(423) LOG(INFO) Adding meta_piece: <0xF7>\n",
      "trainer_interface.cc(423) LOG(INFO) Adding meta_piece: <0xF8>\n",
      "trainer_interface.cc(423) LOG(INFO) Adding meta_piece: <0xF9>\n",
      "trainer_interface.cc(423) LOG(INFO) Adding meta_piece: <0xFA>\n",
      "trainer_interface.cc(423) LOG(INFO) Adding meta_piece: <0xFB>\n",
      "trainer_interface.cc(423) LOG(INFO) Adding meta_piece: <0xFC>\n",
      "trainer_interface.cc(423) LOG(INFO) Adding meta_piece: <0xFD>\n",
      "trainer_interface.cc(423) LOG(INFO) Adding meta_piece: <0xFE>\n",
      "trainer_interface.cc(423) LOG(INFO) Adding meta_piece: <0xFF>\n",
      "trainer_interface.cc(428) LOG(INFO) Normalizing sentences...\n",
      "trainer_interface.cc(537) LOG(INFO) all chars count=504\n",
      "trainer_interface.cc(558) LOG(INFO) Alphabet size=39\n",
      "trainer_interface.cc(559) LOG(INFO) Final character coverage=1\n",
      "trainer_interface.cc(591) LOG(INFO) Done! preprocessed 1 sentences.\n",
      "trainer_interface.cc(597) LOG(INFO) Tokenizing input sentences with whitespace: 1\n",
      "trainer_interface.cc(608) LOG(INFO) Done! 58\n",
      "bpe_model_trainer.cc(159) LOG(INFO) Updating active symbols. max_freq=18 min_freq=1\n",
      "bpe_model_trainer.cc(268) LOG(INFO) Added: freq=3 size=20 all=283 active=244 piece=ed\n",
      "bpe_model_trainer.cc(268) LOG(INFO) Added: freq=2 size=40 all=305 active=266 piece=.]\n",
      "bpe_model_trainer.cc(268) LOG(INFO) Added: freq=2 size=60 all=324 active=285 piece=ken\n",
      "bpe_model_trainer.cc(268) LOG(INFO) Added: freq=2 size=80 all=334 active=295 piece=▁model\n",
      "bpe_model_trainer.cc(268) LOG(INFO) Added: freq=1 size=100 all=338 active=299 piece=lo\n",
      "bpe_model_trainer.cc(159) LOG(INFO) Updating active symbols. max_freq=1 min_freq=0\n",
      "trainer_interface.cc(686) LOG(INFO) Saving model: tok400.model\n",
      "trainer_interface.cc(698) LOG(INFO) Saving vocabs: tok400.vocab\n"
     ]
    }
   ],
   "source": [
    "import os\n",
    "\n",
    "options = dict(\n",
    "    # input specs\n",
    "    input='toy.txt',\n",
    "    input_format='text',\n",
    "    # output specs\n",
    "    model_prefix='tok400',\n",
    "    # bpe algorithm\n",
    "    model_type='bpe',\n",
    "    vocab_size=400,\n",
    "    # normalization rule\n",
    "    normalization_rule_name='identity',\n",
    "    remove_extra_whitespaces=True,\n",
    "    input_sentence_size=200000000,\n",
    "    max_sentence_length=4192,\n",
    "    seed_sentencepiece_size=1000000,\n",
    "    shuffle_input_sentence=True,\n",
    "    # rare word treatment\n",
    "    character_coverage=0.99995,\n",
    "    byte_fallback=True,\n",
    "    # merge rules\n",
    "    split_digits=True,\n",
    "    split_by_unicode_script=True,\n",
    "    split_by_whitespace=True,\n",
    "    split_by_number=True,\n",
    "    max_sentencepiece_length=16,\n",
    "    add_dummy_prefix=True,\n",
    "    allow_whitespace_only_pieces=True,\n",
    "    # special tokens\n",
    "    unk_id=0,\n",
    "    bos_id=1,\n",
    "    eos_id=2,\n",
    "    pad_id=3,\n",
    "    num_threads=os.cpu_count()//2,\n",
    ")\n",
    "\n",
    "spm.SentencePieceTrainer.train(**options)"
   ]
  },
  {
   "cell_type": "code",
   "execution_count": 138,
   "metadata": {},
   "outputs": [],
   "source": [
    "sp = spm.SentencePieceProcessor()\n",
    "sp.load('tok400.model')\n",
    "vocab = [(sp.id_to_piece(idx), idx) for idx in range(sp.get_piece_size())]"
   ]
  },
  {
   "cell_type": "code",
   "execution_count": 139,
   "metadata": {
    "scrolled": true
   },
   "outputs": [
    {
     "data": {
      "text/plain": [
       "[('<unk>', 0),\n",
       " ('<s>', 1),\n",
       " ('</s>', 2),\n",
       " ('<pad>', 3),\n",
       " ('<0x00>', 4),\n",
       " ('<0x01>', 5),\n",
       " ('<0x02>', 6),\n",
       " ('<0x03>', 7),\n",
       " ('<0x04>', 8),\n",
       " ('<0x05>', 9),\n",
       " ('<0x06>', 10),\n",
       " ('<0x07>', 11),\n",
       " ('<0x08>', 12),\n",
       " ('<0x09>', 13),\n",
       " ('<0x0A>', 14),\n",
       " ('<0x0B>', 15),\n",
       " ('<0x0C>', 16),\n",
       " ('<0x0D>', 17),\n",
       " ('<0x0E>', 18),\n",
       " ('<0x0F>', 19),\n",
       " ('<0x10>', 20),\n",
       " ('<0x11>', 21),\n",
       " ('<0x12>', 22),\n",
       " ('<0x13>', 23),\n",
       " ('<0x14>', 24),\n",
       " ('<0x15>', 25),\n",
       " ('<0x16>', 26),\n",
       " ('<0x17>', 27),\n",
       " ('<0x18>', 28),\n",
       " ('<0x19>', 29),\n",
       " ('<0x1A>', 30),\n",
       " ('<0x1B>', 31),\n",
       " ('<0x1C>', 32),\n",
       " ('<0x1D>', 33),\n",
       " ('<0x1E>', 34),\n",
       " ('<0x1F>', 35),\n",
       " ('<0x20>', 36),\n",
       " ('<0x21>', 37),\n",
       " ('<0x22>', 38),\n",
       " ('<0x23>', 39),\n",
       " ('<0x24>', 40),\n",
       " ('<0x25>', 41),\n",
       " ('<0x26>', 42),\n",
       " ('<0x27>', 43),\n",
       " ('<0x28>', 44),\n",
       " ('<0x29>', 45),\n",
       " ('<0x2A>', 46),\n",
       " ('<0x2B>', 47),\n",
       " ('<0x2C>', 48),\n",
       " ('<0x2D>', 49),\n",
       " ('<0x2E>', 50),\n",
       " ('<0x2F>', 51),\n",
       " ('<0x30>', 52),\n",
       " ('<0x31>', 53),\n",
       " ('<0x32>', 54),\n",
       " ('<0x33>', 55),\n",
       " ('<0x34>', 56),\n",
       " ('<0x35>', 57),\n",
       " ('<0x36>', 58),\n",
       " ('<0x37>', 59),\n",
       " ('<0x38>', 60),\n",
       " ('<0x39>', 61),\n",
       " ('<0x3A>', 62),\n",
       " ('<0x3B>', 63),\n",
       " ('<0x3C>', 64),\n",
       " ('<0x3D>', 65),\n",
       " ('<0x3E>', 66),\n",
       " ('<0x3F>', 67),\n",
       " ('<0x40>', 68),\n",
       " ('<0x41>', 69),\n",
       " ('<0x42>', 70),\n",
       " ('<0x43>', 71),\n",
       " ('<0x44>', 72),\n",
       " ('<0x45>', 73),\n",
       " ('<0x46>', 74),\n",
       " ('<0x47>', 75),\n",
       " ('<0x48>', 76),\n",
       " ('<0x49>', 77),\n",
       " ('<0x4A>', 78),\n",
       " ('<0x4B>', 79),\n",
       " ('<0x4C>', 80),\n",
       " ('<0x4D>', 81),\n",
       " ('<0x4E>', 82),\n",
       " ('<0x4F>', 83),\n",
       " ('<0x50>', 84),\n",
       " ('<0x51>', 85),\n",
       " ('<0x52>', 86),\n",
       " ('<0x53>', 87),\n",
       " ('<0x54>', 88),\n",
       " ('<0x55>', 89),\n",
       " ('<0x56>', 90),\n",
       " ('<0x57>', 91),\n",
       " ('<0x58>', 92),\n",
       " ('<0x59>', 93),\n",
       " ('<0x5A>', 94),\n",
       " ('<0x5B>', 95),\n",
       " ('<0x5C>', 96),\n",
       " ('<0x5D>', 97),\n",
       " ('<0x5E>', 98),\n",
       " ('<0x5F>', 99),\n",
       " ('<0x60>', 100),\n",
       " ('<0x61>', 101),\n",
       " ('<0x62>', 102),\n",
       " ('<0x63>', 103),\n",
       " ('<0x64>', 104),\n",
       " ('<0x65>', 105),\n",
       " ('<0x66>', 106),\n",
       " ('<0x67>', 107),\n",
       " ('<0x68>', 108),\n",
       " ('<0x69>', 109),\n",
       " ('<0x6A>', 110),\n",
       " ('<0x6B>', 111),\n",
       " ('<0x6C>', 112),\n",
       " ('<0x6D>', 113),\n",
       " ('<0x6E>', 114),\n",
       " ('<0x6F>', 115),\n",
       " ('<0x70>', 116),\n",
       " ('<0x71>', 117),\n",
       " ('<0x72>', 118),\n",
       " ('<0x73>', 119),\n",
       " ('<0x74>', 120),\n",
       " ('<0x75>', 121),\n",
       " ('<0x76>', 122),\n",
       " ('<0x77>', 123),\n",
       " ('<0x78>', 124),\n",
       " ('<0x79>', 125),\n",
       " ('<0x7A>', 126),\n",
       " ('<0x7B>', 127),\n",
       " ('<0x7C>', 128),\n",
       " ('<0x7D>', 129),\n",
       " ('<0x7E>', 130),\n",
       " ('<0x7F>', 131),\n",
       " ('<0x80>', 132),\n",
       " ('<0x81>', 133),\n",
       " ('<0x82>', 134),\n",
       " ('<0x83>', 135),\n",
       " ('<0x84>', 136),\n",
       " ('<0x85>', 137),\n",
       " ('<0x86>', 138),\n",
       " ('<0x87>', 139),\n",
       " ('<0x88>', 140),\n",
       " ('<0x89>', 141),\n",
       " ('<0x8A>', 142),\n",
       " ('<0x8B>', 143),\n",
       " ('<0x8C>', 144),\n",
       " ('<0x8D>', 145),\n",
       " ('<0x8E>', 146),\n",
       " ('<0x8F>', 147),\n",
       " ('<0x90>', 148),\n",
       " ('<0x91>', 149),\n",
       " ('<0x92>', 150),\n",
       " ('<0x93>', 151),\n",
       " ('<0x94>', 152),\n",
       " ('<0x95>', 153),\n",
       " ('<0x96>', 154),\n",
       " ('<0x97>', 155),\n",
       " ('<0x98>', 156),\n",
       " ('<0x99>', 157),\n",
       " ('<0x9A>', 158),\n",
       " ('<0x9B>', 159),\n",
       " ('<0x9C>', 160),\n",
       " ('<0x9D>', 161),\n",
       " ('<0x9E>', 162),\n",
       " ('<0x9F>', 163),\n",
       " ('<0xA0>', 164),\n",
       " ('<0xA1>', 165),\n",
       " ('<0xA2>', 166),\n",
       " ('<0xA3>', 167),\n",
       " ('<0xA4>', 168),\n",
       " ('<0xA5>', 169),\n",
       " ('<0xA6>', 170),\n",
       " ('<0xA7>', 171),\n",
       " ('<0xA8>', 172),\n",
       " ('<0xA9>', 173),\n",
       " ('<0xAA>', 174),\n",
       " ('<0xAB>', 175),\n",
       " ('<0xAC>', 176),\n",
       " ('<0xAD>', 177),\n",
       " ('<0xAE>', 178),\n",
       " ('<0xAF>', 179),\n",
       " ('<0xB0>', 180),\n",
       " ('<0xB1>', 181),\n",
       " ('<0xB2>', 182),\n",
       " ('<0xB3>', 183),\n",
       " ('<0xB4>', 184),\n",
       " ('<0xB5>', 185),\n",
       " ('<0xB6>', 186),\n",
       " ('<0xB7>', 187),\n",
       " ('<0xB8>', 188),\n",
       " ('<0xB9>', 189),\n",
       " ('<0xBA>', 190),\n",
       " ('<0xBB>', 191),\n",
       " ('<0xBC>', 192),\n",
       " ('<0xBD>', 193),\n",
       " ('<0xBE>', 194),\n",
       " ('<0xBF>', 195),\n",
       " ('<0xC0>', 196),\n",
       " ('<0xC1>', 197),\n",
       " ('<0xC2>', 198),\n",
       " ('<0xC3>', 199),\n",
       " ('<0xC4>', 200),\n",
       " ('<0xC5>', 201),\n",
       " ('<0xC6>', 202),\n",
       " ('<0xC7>', 203),\n",
       " ('<0xC8>', 204),\n",
       " ('<0xC9>', 205),\n",
       " ('<0xCA>', 206),\n",
       " ('<0xCB>', 207),\n",
       " ('<0xCC>', 208),\n",
       " ('<0xCD>', 209),\n",
       " ('<0xCE>', 210),\n",
       " ('<0xCF>', 211),\n",
       " ('<0xD0>', 212),\n",
       " ('<0xD1>', 213),\n",
       " ('<0xD2>', 214),\n",
       " ('<0xD3>', 215),\n",
       " ('<0xD4>', 216),\n",
       " ('<0xD5>', 217),\n",
       " ('<0xD6>', 218),\n",
       " ('<0xD7>', 219),\n",
       " ('<0xD8>', 220),\n",
       " ('<0xD9>', 221),\n",
       " ('<0xDA>', 222),\n",
       " ('<0xDB>', 223),\n",
       " ('<0xDC>', 224),\n",
       " ('<0xDD>', 225),\n",
       " ('<0xDE>', 226),\n",
       " ('<0xDF>', 227),\n",
       " ('<0xE0>', 228),\n",
       " ('<0xE1>', 229),\n",
       " ('<0xE2>', 230),\n",
       " ('<0xE3>', 231),\n",
       " ('<0xE4>', 232),\n",
       " ('<0xE5>', 233),\n",
       " ('<0xE6>', 234),\n",
       " ('<0xE7>', 235),\n",
       " ('<0xE8>', 236),\n",
       " ('<0xE9>', 237),\n",
       " ('<0xEA>', 238),\n",
       " ('<0xEB>', 239),\n",
       " ('<0xEC>', 240),\n",
       " ('<0xED>', 241),\n",
       " ('<0xEE>', 242),\n",
       " ('<0xEF>', 243),\n",
       " ('<0xF0>', 244),\n",
       " ('<0xF1>', 245),\n",
       " ('<0xF2>', 246),\n",
       " ('<0xF3>', 247),\n",
       " ('<0xF4>', 248),\n",
       " ('<0xF5>', 249),\n",
       " ('<0xF6>', 250),\n",
       " ('<0xF7>', 251),\n",
       " ('<0xF8>', 252),\n",
       " ('<0xF9>', 253),\n",
       " ('<0xFA>', 254),\n",
       " ('<0xFB>', 255),\n",
       " ('<0xFC>', 256),\n",
       " ('<0xFD>', 257),\n",
       " ('<0xFE>', 258),\n",
       " ('<0xFF>', 259),\n",
       " ('en', 260),\n",
       " ('▁t', 261),\n",
       " ('ce', 262),\n",
       " ('in', 263),\n",
       " ('ra', 264),\n",
       " ('▁a', 265),\n",
       " ('de', 266),\n",
       " ('er', 267),\n",
       " ('▁s', 268),\n",
       " ('ent', 269),\n",
       " ('or', 270),\n",
       " ('pr', 271),\n",
       " ('▁m', 272),\n",
       " ('▁u', 273),\n",
       " ('ing', 274),\n",
       " ('▁th', 275),\n",
       " ('ence', 276),\n",
       " ('entence', 277),\n",
       " ('Pi', 278),\n",
       " ('ed', 279),\n",
       " ('em', 280),\n",
       " ('ex', 281),\n",
       " ('is', 282),\n",
       " ('iz', 283),\n",
       " ('la', 284),\n",
       " ('on', 285),\n",
       " ('st', 286),\n",
       " ('▁S', 287),\n",
       " ('Pie', 288),\n",
       " ('end', 289),\n",
       " ('ext', 290),\n",
       " ('▁an', 291),\n",
       " ('▁pr', 292),\n",
       " ('▁to', 293),\n",
       " ('▁un', 294),\n",
       " ('▁the', 295),\n",
       " ('Piece', 296),\n",
       " ('▁Sentence', 297),\n",
       " ('▁SentencePiece', 298),\n",
       " ('.]', 299),\n",
       " ('Ne', 300),\n",
       " ('ag', 301),\n",
       " ('do', 302),\n",
       " ('ec', 303),\n",
       " ('gu', 304),\n",
       " ('ic', 305),\n",
       " ('ir', 306),\n",
       " ('it', 307),\n",
       " ('ly', 308),\n",
       " ('to', 309),\n",
       " ('▁(', 310),\n",
       " ('▁[', 311),\n",
       " ('▁f', 312),\n",
       " ('▁n', 313),\n",
       " ('▁w', 314),\n",
       " ('.])', 315),\n",
       " ('age', 316),\n",
       " ('del', 317),\n",
       " ('ion', 318),\n",
       " ('ken', 319),\n",
       " ('lan', 320),\n",
       " ('ral', 321),\n",
       " ('wor', 322),\n",
       " ('yst', 323),\n",
       " ('▁Ne', 324),\n",
       " ('▁al', 325),\n",
       " ('▁de', 326),\n",
       " ('▁is', 327),\n",
       " ('▁ma', 328),\n",
       " ('▁mo', 329),\n",
       " ('izer', 330),\n",
       " ('rain', 331),\n",
       " ('ural', 332),\n",
       " ('▁and', 333),\n",
       " ('▁lan', 334),\n",
       " ('▁pre', 335),\n",
       " ('guage', 336),\n",
       " ('ystem', 337),\n",
       " ('▁text', 338),\n",
       " ('▁model', 339),\n",
       " ('▁train', 340),\n",
       " ('kenizer', 341),\n",
       " ('▁system', 342),\n",
       " ('▁language', 343),\n",
       " ('▁training', 344),\n",
       " ('.,', 345),\n",
       " ('BP', 346),\n",
       " ('Ku', 347),\n",
       " ('ab', 348),\n",
       " ('as', 349),\n",
       " ('at', 350),\n",
       " ('by', 351),\n",
       " ('co', 352),\n",
       " ('es', 353),\n",
       " ('et', 354),\n",
       " ('if', 355),\n",
       " ('ig', 356),\n",
       " ('im', 357),\n",
       " ('ke', 358),\n",
       " ('lo', 359),\n",
       " ('nr', 360),\n",
       " ('e', 361),\n",
       " ('▁', 362),\n",
       " ('n', 363),\n",
       " ('t', 364),\n",
       " ('i', 365),\n",
       " ('r', 366),\n",
       " ('a', 367),\n",
       " ('o', 368),\n",
       " ('s', 369),\n",
       " ('d', 370),\n",
       " ('c', 371),\n",
       " ('l', 372),\n",
       " ('u', 373),\n",
       " ('g', 374),\n",
       " ('m', 375),\n",
       " ('p', 376),\n",
       " ('.', 377),\n",
       " ('h', 378),\n",
       " ('-', 379),\n",
       " ('w', 380),\n",
       " ('y', 381),\n",
       " ('P', 382),\n",
       " ('S', 383),\n",
       " ('b', 384),\n",
       " ('f', 385),\n",
       " ('k', 386),\n",
       " (')', 387),\n",
       " ('x', 388),\n",
       " ('z', 389),\n",
       " ('(', 390),\n",
       " ('N', 391),\n",
       " ('[', 392),\n",
       " (']', 393),\n",
       " ('v', 394),\n",
       " (',', 395),\n",
       " ('/', 396),\n",
       " ('B', 397),\n",
       " ('E', 398),\n",
       " ('K', 399)]"
      ]
     },
     "execution_count": 139,
     "metadata": {},
     "output_type": "execute_result"
    }
   ],
   "source": [
    "vocab"
   ]
  },
  {
   "cell_type": "code",
   "execution_count": 140,
   "metadata": {},
   "outputs": [
    {
     "name": "stdout",
     "output_type": "stream",
     "text": [
      "[362, 228, 168, 178, 228, 169, 139, 228, 168, 180, 228, 168, 194, 362, 228, 168, 172, 228, 168, 194, 228, 168, 178, 362, 228, 168, 188, 228, 169, 133, 228, 168, 158, 228, 168, 195, 228, 168, 168, 362, 228, 168, 174, 228, 169, 145, 228, 168, 180, 228, 168, 177, 228, 169, 133, 362, 244, 163, 156, 146]\n"
     ]
    }
   ],
   "source": [
    "ids = sp.encode(\"मेरा नाम सुचित प्रभु 😎\")\n",
    "print(ids)"
   ]
  },
  {
   "cell_type": "code",
   "execution_count": 143,
   "metadata": {},
   "outputs": [
    {
     "name": "stdout",
     "output_type": "stream",
     "text": [
      "['▁', '<0xE0>', '<0xA4>', '<0xAE>', '<0xE0>', '<0xA5>', '<0x87>', '<0xE0>', '<0xA4>', '<0xB0>', '<0xE0>', '<0xA4>', '<0xBE>', '▁', '<0xE0>', '<0xA4>', '<0xA8>', '<0xE0>', '<0xA4>', '<0xBE>', '<0xE0>', '<0xA4>', '<0xAE>', '▁', '<0xE0>', '<0xA4>', '<0xB8>', '<0xE0>', '<0xA5>', '<0x81>', '<0xE0>', '<0xA4>', '<0x9A>', '<0xE0>', '<0xA4>', '<0xBF>', '<0xE0>', '<0xA4>', '<0xA4>', '▁', '<0xE0>', '<0xA4>', '<0xAA>', '<0xE0>', '<0xA5>', '<0x8D>', '<0xE0>', '<0xA4>', '<0xB0>', '<0xE0>', '<0xA4>', '<0xAD>', '<0xE0>', '<0xA5>', '<0x81>', '▁', '<0xF0>', '<0x9F>', '<0x98>', '<0x8E>']\n"
     ]
    }
   ],
   "source": [
    "print([sp.id_to_piece(idx) for idx in ids])"
   ]
  },
  {
   "cell_type": "code",
   "execution_count": null,
   "metadata": {},
   "outputs": [],
   "source": []
  },
  {
   "cell_type": "code",
   "execution_count": null,
   "metadata": {},
   "outputs": [],
   "source": []
  },
  {
   "cell_type": "code",
   "execution_count": null,
   "metadata": {},
   "outputs": [],
   "source": []
  },
  {
   "cell_type": "code",
   "execution_count": null,
   "metadata": {},
   "outputs": [],
   "source": []
  }
 ],
 "metadata": {
  "kernelspec": {
   "display_name": "Python 3 (ipykernel)",
   "language": "python",
   "name": "python3"
  },
  "language_info": {
   "codemirror_mode": {
    "name": "ipython",
    "version": 3
   },
   "file_extension": ".py",
   "mimetype": "text/x-python",
   "name": "python",
   "nbconvert_exporter": "python",
   "pygments_lexer": "ipython3",
   "version": "3.9.19"
  }
 },
 "nbformat": 4,
 "nbformat_minor": 4
}
